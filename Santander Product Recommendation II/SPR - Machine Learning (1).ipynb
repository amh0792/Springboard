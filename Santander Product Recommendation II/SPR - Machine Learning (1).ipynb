{
 "cells": [
  {
   "cell_type": "markdown",
   "metadata": {},
   "source": [
    "# Machine Learning\n",
    "\n",
    "I will now move into the final phase of the project and run a few different recommendation engines. Before that though, there is a bit of preprocessing we need to take care of. I will walk through those steps here."
   ]
  },
  {
   "cell_type": "code",
   "execution_count": 332,
   "metadata": {},
   "outputs": [],
   "source": [
    "#Import packages\n",
    "import pandas as pd\n",
    "import numpy as np\n",
    "import time\n",
    "import turicreate as tc\n",
    "from sklearn.cross_validation import train_test_split"
   ]
  },
  {
   "cell_type": "code",
   "execution_count": 333,
   "metadata": {},
   "outputs": [],
   "source": [
    "#Load data\n",
    "df = pd.read_csv('Data/train_ver2_CLEAN')"
   ]
  },
  {
   "cell_type": "code",
   "execution_count": 334,
   "metadata": {},
   "outputs": [
    {
     "data": {
      "text/html": [
       "<div>\n",
       "<style scoped>\n",
       "    .dataframe tbody tr th:only-of-type {\n",
       "        vertical-align: middle;\n",
       "    }\n",
       "\n",
       "    .dataframe tbody tr th {\n",
       "        vertical-align: top;\n",
       "    }\n",
       "\n",
       "    .dataframe thead th {\n",
       "        text-align: right;\n",
       "    }\n",
       "</style>\n",
       "<table border=\"1\" class=\"dataframe\">\n",
       "  <thead>\n",
       "    <tr style=\"text-align: right;\">\n",
       "      <th></th>\n",
       "      <th>index</th>\n",
       "      <th>date</th>\n",
       "      <th>customer_code</th>\n",
       "      <th>employee_index</th>\n",
       "      <th>customer_country</th>\n",
       "      <th>sex</th>\n",
       "      <th>age</th>\n",
       "      <th>first_contract_date</th>\n",
       "      <th>new_customer_index</th>\n",
       "      <th>customer_seniority</th>\n",
       "      <th>...</th>\n",
       "      <th>deceased_index</th>\n",
       "      <th>province_name</th>\n",
       "      <th>activity_index</th>\n",
       "      <th>household_gross_income</th>\n",
       "      <th>segmentation</th>\n",
       "      <th>month</th>\n",
       "      <th>month_id</th>\n",
       "      <th>month_next_id</th>\n",
       "      <th>variable</th>\n",
       "      <th>value</th>\n",
       "    </tr>\n",
       "  </thead>\n",
       "  <tbody>\n",
       "    <tr>\n",
       "      <th>0</th>\n",
       "      <td>265696</td>\n",
       "      <td>2015-03-28</td>\n",
       "      <td>118972.0</td>\n",
       "      <td>N</td>\n",
       "      <td>ES</td>\n",
       "      <td>V</td>\n",
       "      <td>44.0</td>\n",
       "      <td>2000-05-23</td>\n",
       "      <td>0.0</td>\n",
       "      <td>182.0</td>\n",
       "      <td>...</td>\n",
       "      <td>N</td>\n",
       "      <td>MADRID</td>\n",
       "      <td>1.0</td>\n",
       "      <td>172178.94</td>\n",
       "      <td>01 - TOP</td>\n",
       "      <td>3.0</td>\n",
       "      <td>3</td>\n",
       "      <td>4</td>\n",
       "      <td>gurantees</td>\n",
       "      <td>Added</td>\n",
       "    </tr>\n",
       "    <tr>\n",
       "      <th>1</th>\n",
       "      <td>2484859</td>\n",
       "      <td>2015-02-28</td>\n",
       "      <td>116132.0</td>\n",
       "      <td>N</td>\n",
       "      <td>ES</td>\n",
       "      <td>V</td>\n",
       "      <td>45.0</td>\n",
       "      <td>1998-12-22</td>\n",
       "      <td>0.0</td>\n",
       "      <td>199.0</td>\n",
       "      <td>...</td>\n",
       "      <td>N</td>\n",
       "      <td>VALENCIA</td>\n",
       "      <td>1.0</td>\n",
       "      <td>92877.72</td>\n",
       "      <td>02 - PARTICULARES</td>\n",
       "      <td>2.0</td>\n",
       "      <td>2</td>\n",
       "      <td>3</td>\n",
       "      <td>current_accounts</td>\n",
       "      <td>Added</td>\n",
       "    </tr>\n",
       "    <tr>\n",
       "      <th>2</th>\n",
       "      <td>2998969</td>\n",
       "      <td>2015-02-28</td>\n",
       "      <td>1340674.0</td>\n",
       "      <td>N</td>\n",
       "      <td>ES</td>\n",
       "      <td>H</td>\n",
       "      <td>23.0</td>\n",
       "      <td>2014-10-24</td>\n",
       "      <td>0.0</td>\n",
       "      <td>9.0</td>\n",
       "      <td>...</td>\n",
       "      <td>N</td>\n",
       "      <td>MADRID</td>\n",
       "      <td>1.0</td>\n",
       "      <td>259009.38</td>\n",
       "      <td>03 - UNIVERSITARIO</td>\n",
       "      <td>2.0</td>\n",
       "      <td>2</td>\n",
       "      <td>3</td>\n",
       "      <td>current_accounts</td>\n",
       "      <td>Dropped</td>\n",
       "    </tr>\n",
       "    <tr>\n",
       "      <th>3</th>\n",
       "      <td>2392444</td>\n",
       "      <td>2015-02-28</td>\n",
       "      <td>190613.0</td>\n",
       "      <td>N</td>\n",
       "      <td>ES</td>\n",
       "      <td>H</td>\n",
       "      <td>38.0</td>\n",
       "      <td>2000-11-29</td>\n",
       "      <td>0.0</td>\n",
       "      <td>175.0</td>\n",
       "      <td>...</td>\n",
       "      <td>N</td>\n",
       "      <td>MADRID</td>\n",
       "      <td>1.0</td>\n",
       "      <td>68797.14</td>\n",
       "      <td>02 - PARTICULARES</td>\n",
       "      <td>2.0</td>\n",
       "      <td>2</td>\n",
       "      <td>3</td>\n",
       "      <td>current_accounts</td>\n",
       "      <td>Dropped</td>\n",
       "    </tr>\n",
       "    <tr>\n",
       "      <th>4</th>\n",
       "      <td>2377004</td>\n",
       "      <td>2015-02-28</td>\n",
       "      <td>171133.0</td>\n",
       "      <td>N</td>\n",
       "      <td>ES</td>\n",
       "      <td>H</td>\n",
       "      <td>43.0</td>\n",
       "      <td>2003-05-22</td>\n",
       "      <td>0.0</td>\n",
       "      <td>146.0</td>\n",
       "      <td>...</td>\n",
       "      <td>N</td>\n",
       "      <td>MADRID</td>\n",
       "      <td>1.0</td>\n",
       "      <td>144579.54</td>\n",
       "      <td>02 - PARTICULARES</td>\n",
       "      <td>2.0</td>\n",
       "      <td>2</td>\n",
       "      <td>3</td>\n",
       "      <td>current_accounts</td>\n",
       "      <td>Dropped</td>\n",
       "    </tr>\n",
       "  </tbody>\n",
       "</table>\n",
       "<p>5 rows × 26 columns</p>\n",
       "</div>"
      ],
      "text/plain": [
       "     index        date  customer_code employee_index customer_country sex  \\\n",
       "0   265696  2015-03-28       118972.0              N               ES   V   \n",
       "1  2484859  2015-02-28       116132.0              N               ES   V   \n",
       "2  2998969  2015-02-28      1340674.0              N               ES   H   \n",
       "3  2392444  2015-02-28       190613.0              N               ES   H   \n",
       "4  2377004  2015-02-28       171133.0              N               ES   H   \n",
       "\n",
       "    age first_contract_date  new_customer_index  customer_seniority   ...     \\\n",
       "0  44.0          2000-05-23                 0.0               182.0   ...      \n",
       "1  45.0          1998-12-22                 0.0               199.0   ...      \n",
       "2  23.0          2014-10-24                 0.0                 9.0   ...      \n",
       "3  38.0          2000-11-29                 0.0               175.0   ...      \n",
       "4  43.0          2003-05-22                 0.0               146.0   ...      \n",
       "\n",
       "   deceased_index  province_name activity_index household_gross_income  \\\n",
       "0               N         MADRID            1.0              172178.94   \n",
       "1               N       VALENCIA            1.0               92877.72   \n",
       "2               N         MADRID            1.0              259009.38   \n",
       "3               N         MADRID            1.0               68797.14   \n",
       "4               N         MADRID            1.0              144579.54   \n",
       "\n",
       "         segmentation month month_id month_next_id          variable    value  \n",
       "0            01 - TOP   3.0        3             4         gurantees    Added  \n",
       "1   02 - PARTICULARES   2.0        2             3  current_accounts    Added  \n",
       "2  03 - UNIVERSITARIO   2.0        2             3  current_accounts  Dropped  \n",
       "3   02 - PARTICULARES   2.0        2             3  current_accounts  Dropped  \n",
       "4   02 - PARTICULARES   2.0        2             3  current_accounts  Dropped  \n",
       "\n",
       "[5 rows x 26 columns]"
      ]
     },
     "execution_count": 334,
     "metadata": {},
     "output_type": "execute_result"
    }
   ],
   "source": [
    "df.head()"
   ]
  },
  {
   "cell_type": "markdown",
   "metadata": {},
   "source": [
    "### Data Preprocessing"
   ]
  },
  {
   "cell_type": "code",
   "execution_count": 335,
   "metadata": {},
   "outputs": [],
   "source": [
    "#I'm noticing that the 'customer_code' values are in float form. I need to convert these to integers.\n",
    "df.customer_code = df.customer_code.astype('int')"
   ]
  },
  {
   "cell_type": "code",
   "execution_count": 363,
   "metadata": {},
   "outputs": [],
   "source": [
    "#Convert 'Added'/'Dropped' to 1 and 0\n",
    "df.value = df.value.replace('Added', 1)\n",
    "df.value = df.value.replace('Dropped', 0)"
   ]
  },
  {
   "cell_type": "markdown",
   "metadata": {},
   "source": [
    "Since we do not have a product code or product ID for the different services the bank offers, I want to begin by converting them to unique IDs. This will help process them into a more helpful form for the recommendation engines down the road."
   ]
  },
  {
   "cell_type": "code",
   "execution_count": 336,
   "metadata": {},
   "outputs": [
    {
     "data": {
      "text/plain": [
       "array(['gurantees', 'current_accounts', 'derivada_account',\n",
       "       'payroll_account', 'junior_account', 'mas_particular_account',\n",
       "       'particular_account', 'particular_plus_account',\n",
       "       'shortterm_deposits', 'mediumterm_deposits', 'longterm_deposits',\n",
       "       'online_account', 'funds', 'mortgage', 'pensions', 'loans',\n",
       "       'taxes', 'credit_card', 'securities', 'home_account', 'payroll',\n",
       "       'pensions_2', 'direct_debit'], dtype=object)"
      ]
     },
     "execution_count": 336,
     "metadata": {},
     "output_type": "execute_result"
    }
   ],
   "source": [
    "#Check out unique values for products\n",
    "df.variable.unique()"
   ]
  },
  {
   "cell_type": "code",
   "execution_count": 337,
   "metadata": {},
   "outputs": [],
   "source": [
    "#Create a new column, 'product_code' that consists of all of the services the bank offers\n",
    "df['product_code'] = df['variable']"
   ]
  },
  {
   "cell_type": "code",
   "execution_count": 340,
   "metadata": {},
   "outputs": [],
   "source": [
    "#I will now replace each unique product with a designated 'code'\n",
    "df.product_code = df.product_code.replace('gurantees', 1)\n",
    "df.product_code = df.product_code.replace('current_accounts', 2)\n",
    "df.product_code = df.product_code.replace('derivada_account', 3)\n",
    "df.product_code = df.product_code.replace('payroll_account', 4)\n",
    "df.product_code = df.product_code.replace('junior_account', 5)\n",
    "df.product_code = df.product_code.replace('mas_particular_account', 6)\n",
    "df.product_code = df.product_code.replace('particular_account', 7)\n",
    "df.product_code = df.product_code.replace('particular_plus_account', 8)\n",
    "df.product_code = df.product_code.replace('shortterm_deposits', 9)\n",
    "df.product_code = df.product_code.replace('mediumterm_deposits', 10)\n",
    "df.product_code = df.product_code.replace('longterm_deposits', 11)\n",
    "df.product_code = df.product_code.replace('online_account', 12)\n",
    "df.product_code = df.product_code.replace('funds', 13)\n",
    "df.product_code = df.product_code.replace('mortgage', 14)\n",
    "df.product_code = df.product_code.replace('pensions', 15)\n",
    "df.product_code = df.product_code.replace('loans', 16)\n",
    "df.product_code = df.product_code.replace('taxes', 17)\n",
    "df.product_code = df.product_code.replace('credit_card', 18)\n",
    "df.product_code = df.product_code.replace('securities', 19)\n",
    "df.product_code = df.product_code.replace('home_account', 20)\n",
    "df.product_code = df.product_code.replace('payroll', 21)\n",
    "df.product_code = df.product_code.replace('pensions_2', 22)\n",
    "df.product_code = df.product_code.replace('direct_debit', 23)"
   ]
  },
  {
   "cell_type": "code",
   "execution_count": 341,
   "metadata": {},
   "outputs": [
    {
     "data": {
      "text/html": [
       "<div>\n",
       "<style scoped>\n",
       "    .dataframe tbody tr th:only-of-type {\n",
       "        vertical-align: middle;\n",
       "    }\n",
       "\n",
       "    .dataframe tbody tr th {\n",
       "        vertical-align: top;\n",
       "    }\n",
       "\n",
       "    .dataframe thead th {\n",
       "        text-align: right;\n",
       "    }\n",
       "</style>\n",
       "<table border=\"1\" class=\"dataframe\">\n",
       "  <thead>\n",
       "    <tr style=\"text-align: right;\">\n",
       "      <th></th>\n",
       "      <th>index</th>\n",
       "      <th>date</th>\n",
       "      <th>customer_code</th>\n",
       "      <th>employee_index</th>\n",
       "      <th>customer_country</th>\n",
       "      <th>sex</th>\n",
       "      <th>age</th>\n",
       "      <th>first_contract_date</th>\n",
       "      <th>new_customer_index</th>\n",
       "      <th>customer_seniority</th>\n",
       "      <th>...</th>\n",
       "      <th>province_name</th>\n",
       "      <th>activity_index</th>\n",
       "      <th>household_gross_income</th>\n",
       "      <th>segmentation</th>\n",
       "      <th>month</th>\n",
       "      <th>month_id</th>\n",
       "      <th>month_next_id</th>\n",
       "      <th>variable</th>\n",
       "      <th>value</th>\n",
       "      <th>product_code</th>\n",
       "    </tr>\n",
       "  </thead>\n",
       "  <tbody>\n",
       "    <tr>\n",
       "      <th>0</th>\n",
       "      <td>265696</td>\n",
       "      <td>2015-03-28</td>\n",
       "      <td>118972</td>\n",
       "      <td>N</td>\n",
       "      <td>ES</td>\n",
       "      <td>V</td>\n",
       "      <td>44.0</td>\n",
       "      <td>2000-05-23</td>\n",
       "      <td>0.0</td>\n",
       "      <td>182.0</td>\n",
       "      <td>...</td>\n",
       "      <td>MADRID</td>\n",
       "      <td>1.0</td>\n",
       "      <td>172178.94</td>\n",
       "      <td>01 - TOP</td>\n",
       "      <td>3.0</td>\n",
       "      <td>3</td>\n",
       "      <td>4</td>\n",
       "      <td>gurantees</td>\n",
       "      <td>1</td>\n",
       "      <td>1</td>\n",
       "    </tr>\n",
       "    <tr>\n",
       "      <th>1</th>\n",
       "      <td>2484859</td>\n",
       "      <td>2015-02-28</td>\n",
       "      <td>116132</td>\n",
       "      <td>N</td>\n",
       "      <td>ES</td>\n",
       "      <td>V</td>\n",
       "      <td>45.0</td>\n",
       "      <td>1998-12-22</td>\n",
       "      <td>0.0</td>\n",
       "      <td>199.0</td>\n",
       "      <td>...</td>\n",
       "      <td>VALENCIA</td>\n",
       "      <td>1.0</td>\n",
       "      <td>92877.72</td>\n",
       "      <td>02 - PARTICULARES</td>\n",
       "      <td>2.0</td>\n",
       "      <td>2</td>\n",
       "      <td>3</td>\n",
       "      <td>current_accounts</td>\n",
       "      <td>1</td>\n",
       "      <td>2</td>\n",
       "    </tr>\n",
       "    <tr>\n",
       "      <th>2</th>\n",
       "      <td>2998969</td>\n",
       "      <td>2015-02-28</td>\n",
       "      <td>1340674</td>\n",
       "      <td>N</td>\n",
       "      <td>ES</td>\n",
       "      <td>H</td>\n",
       "      <td>23.0</td>\n",
       "      <td>2014-10-24</td>\n",
       "      <td>0.0</td>\n",
       "      <td>9.0</td>\n",
       "      <td>...</td>\n",
       "      <td>MADRID</td>\n",
       "      <td>1.0</td>\n",
       "      <td>259009.38</td>\n",
       "      <td>03 - UNIVERSITARIO</td>\n",
       "      <td>2.0</td>\n",
       "      <td>2</td>\n",
       "      <td>3</td>\n",
       "      <td>current_accounts</td>\n",
       "      <td>0</td>\n",
       "      <td>2</td>\n",
       "    </tr>\n",
       "    <tr>\n",
       "      <th>3</th>\n",
       "      <td>2392444</td>\n",
       "      <td>2015-02-28</td>\n",
       "      <td>190613</td>\n",
       "      <td>N</td>\n",
       "      <td>ES</td>\n",
       "      <td>H</td>\n",
       "      <td>38.0</td>\n",
       "      <td>2000-11-29</td>\n",
       "      <td>0.0</td>\n",
       "      <td>175.0</td>\n",
       "      <td>...</td>\n",
       "      <td>MADRID</td>\n",
       "      <td>1.0</td>\n",
       "      <td>68797.14</td>\n",
       "      <td>02 - PARTICULARES</td>\n",
       "      <td>2.0</td>\n",
       "      <td>2</td>\n",
       "      <td>3</td>\n",
       "      <td>current_accounts</td>\n",
       "      <td>0</td>\n",
       "      <td>2</td>\n",
       "    </tr>\n",
       "    <tr>\n",
       "      <th>4</th>\n",
       "      <td>2377004</td>\n",
       "      <td>2015-02-28</td>\n",
       "      <td>171133</td>\n",
       "      <td>N</td>\n",
       "      <td>ES</td>\n",
       "      <td>H</td>\n",
       "      <td>43.0</td>\n",
       "      <td>2003-05-22</td>\n",
       "      <td>0.0</td>\n",
       "      <td>146.0</td>\n",
       "      <td>...</td>\n",
       "      <td>MADRID</td>\n",
       "      <td>1.0</td>\n",
       "      <td>144579.54</td>\n",
       "      <td>02 - PARTICULARES</td>\n",
       "      <td>2.0</td>\n",
       "      <td>2</td>\n",
       "      <td>3</td>\n",
       "      <td>current_accounts</td>\n",
       "      <td>0</td>\n",
       "      <td>2</td>\n",
       "    </tr>\n",
       "  </tbody>\n",
       "</table>\n",
       "<p>5 rows × 27 columns</p>\n",
       "</div>"
      ],
      "text/plain": [
       "     index        date  customer_code employee_index customer_country sex  \\\n",
       "0   265696  2015-03-28         118972              N               ES   V   \n",
       "1  2484859  2015-02-28         116132              N               ES   V   \n",
       "2  2998969  2015-02-28        1340674              N               ES   H   \n",
       "3  2392444  2015-02-28         190613              N               ES   H   \n",
       "4  2377004  2015-02-28         171133              N               ES   H   \n",
       "\n",
       "    age first_contract_date  new_customer_index  customer_seniority  \\\n",
       "0  44.0          2000-05-23                 0.0               182.0   \n",
       "1  45.0          1998-12-22                 0.0               199.0   \n",
       "2  23.0          2014-10-24                 0.0                 9.0   \n",
       "3  38.0          2000-11-29                 0.0               175.0   \n",
       "4  43.0          2003-05-22                 0.0               146.0   \n",
       "\n",
       "       ...       province_name  activity_index household_gross_income  \\\n",
       "0      ...              MADRID             1.0              172178.94   \n",
       "1      ...            VALENCIA             1.0               92877.72   \n",
       "2      ...              MADRID             1.0              259009.38   \n",
       "3      ...              MADRID             1.0               68797.14   \n",
       "4      ...              MADRID             1.0              144579.54   \n",
       "\n",
       "         segmentation month month_id month_next_id          variable  value  \\\n",
       "0            01 - TOP   3.0        3             4         gurantees      1   \n",
       "1   02 - PARTICULARES   2.0        2             3  current_accounts      1   \n",
       "2  03 - UNIVERSITARIO   2.0        2             3  current_accounts      0   \n",
       "3   02 - PARTICULARES   2.0        2             3  current_accounts      0   \n",
       "4   02 - PARTICULARES   2.0        2             3  current_accounts      0   \n",
       "\n",
       "   product_code  \n",
       "0             1  \n",
       "1             2  \n",
       "2             2  \n",
       "3             2  \n",
       "4             2  \n",
       "\n",
       "[5 rows x 27 columns]"
      ]
     },
     "execution_count": 341,
     "metadata": {},
     "output_type": "execute_result"
    }
   ],
   "source": [
    "#Confirm that it worked\n",
    "df.head()"
   ]
  },
  {
   "cell_type": "markdown",
   "metadata": {},
   "source": [
    "Now that we have the data in a form that works for the recommendation engines. I need to create a new dataframe. The goal is to group the original dataframe by 'customer_code', figure out if the customer purchased a specific item, and list the 'product_code' along with it. I will then take the sum of each purchase to create a new column, 'purchase_counts'. This table will be used as an input for the model later on."
   ]
  },
  {
   "cell_type": "code",
   "execution_count": 342,
   "metadata": {},
   "outputs": [],
   "source": [
    "#Perform groupby operation\n",
    "df2 = df.groupby('customer_code')['value'].agg(np.sum).reset_index(name='purchase_counts')\n",
    "df2['product_code'] = df['product_code']"
   ]
  },
  {
   "cell_type": "code",
   "execution_count": 343,
   "metadata": {},
   "outputs": [
    {
     "data": {
      "text/html": [
       "<div>\n",
       "<style scoped>\n",
       "    .dataframe tbody tr th:only-of-type {\n",
       "        vertical-align: middle;\n",
       "    }\n",
       "\n",
       "    .dataframe tbody tr th {\n",
       "        vertical-align: top;\n",
       "    }\n",
       "\n",
       "    .dataframe thead th {\n",
       "        text-align: right;\n",
       "    }\n",
       "</style>\n",
       "<table border=\"1\" class=\"dataframe\">\n",
       "  <thead>\n",
       "    <tr style=\"text-align: right;\">\n",
       "      <th></th>\n",
       "      <th>customer_code</th>\n",
       "      <th>purchase_counts</th>\n",
       "      <th>product_code</th>\n",
       "    </tr>\n",
       "  </thead>\n",
       "  <tbody>\n",
       "    <tr>\n",
       "      <th>0</th>\n",
       "      <td>15900</td>\n",
       "      <td>1</td>\n",
       "      <td>1</td>\n",
       "    </tr>\n",
       "    <tr>\n",
       "      <th>1</th>\n",
       "      <td>15906</td>\n",
       "      <td>1</td>\n",
       "      <td>2</td>\n",
       "    </tr>\n",
       "    <tr>\n",
       "      <th>2</th>\n",
       "      <td>15911</td>\n",
       "      <td>1</td>\n",
       "      <td>2</td>\n",
       "    </tr>\n",
       "    <tr>\n",
       "      <th>3</th>\n",
       "      <td>15923</td>\n",
       "      <td>1</td>\n",
       "      <td>2</td>\n",
       "    </tr>\n",
       "    <tr>\n",
       "      <th>4</th>\n",
       "      <td>15927</td>\n",
       "      <td>1</td>\n",
       "      <td>2</td>\n",
       "    </tr>\n",
       "  </tbody>\n",
       "</table>\n",
       "</div>"
      ],
      "text/plain": [
       "   customer_code  purchase_counts  product_code\n",
       "0          15900                1             1\n",
       "1          15906                1             2\n",
       "2          15911                1             2\n",
       "3          15923                1             2\n",
       "4          15927                1             2"
      ]
     },
     "execution_count": 343,
     "metadata": {},
     "output_type": "execute_result"
    }
   ],
   "source": [
    "#Confirm that it worked\n",
    "df2.head()"
   ]
  },
  {
   "cell_type": "markdown",
   "metadata": {},
   "source": [
    "I will now create a dummy for marking whether a customer bought a specific item or not. This will also be useful for modeling later."
   ]
  },
  {
   "cell_type": "code",
   "execution_count": 344,
   "metadata": {},
   "outputs": [],
   "source": [
    "#Define create_data_dummy function\n",
    "def create_data_dummy(data):\n",
    "    data_dummy = data.copy()\n",
    "    data_dummy['purchase_dummy'] = 1\n",
    "    return data_dummy\n",
    "data_dummy = create_data_dummy(df2)"
   ]
  },
  {
   "cell_type": "markdown",
   "metadata": {},
   "source": [
    "We now want to normalize item values across users. We will start by normalizing purchase frequency for each item across users by creating a user-item matrix"
   ]
  },
  {
   "cell_type": "code",
   "execution_count": 345,
   "metadata": {},
   "outputs": [
    {
     "data": {
      "text/html": [
       "<div>\n",
       "<style scoped>\n",
       "    .dataframe tbody tr th:only-of-type {\n",
       "        vertical-align: middle;\n",
       "    }\n",
       "\n",
       "    .dataframe tbody tr th {\n",
       "        vertical-align: top;\n",
       "    }\n",
       "\n",
       "    .dataframe thead th {\n",
       "        text-align: right;\n",
       "    }\n",
       "</style>\n",
       "<table border=\"1\" class=\"dataframe\">\n",
       "  <thead>\n",
       "    <tr style=\"text-align: right;\">\n",
       "      <th>product_code</th>\n",
       "      <th>1</th>\n",
       "      <th>2</th>\n",
       "      <th>3</th>\n",
       "      <th>4</th>\n",
       "      <th>5</th>\n",
       "      <th>6</th>\n",
       "      <th>7</th>\n",
       "      <th>8</th>\n",
       "      <th>9</th>\n",
       "      <th>10</th>\n",
       "      <th>...</th>\n",
       "      <th>12</th>\n",
       "      <th>13</th>\n",
       "      <th>14</th>\n",
       "      <th>15</th>\n",
       "      <th>16</th>\n",
       "      <th>17</th>\n",
       "      <th>18</th>\n",
       "      <th>19</th>\n",
       "      <th>20</th>\n",
       "      <th>21</th>\n",
       "    </tr>\n",
       "    <tr>\n",
       "      <th>customer_code</th>\n",
       "      <th></th>\n",
       "      <th></th>\n",
       "      <th></th>\n",
       "      <th></th>\n",
       "      <th></th>\n",
       "      <th></th>\n",
       "      <th></th>\n",
       "      <th></th>\n",
       "      <th></th>\n",
       "      <th></th>\n",
       "      <th></th>\n",
       "      <th></th>\n",
       "      <th></th>\n",
       "      <th></th>\n",
       "      <th></th>\n",
       "      <th></th>\n",
       "      <th></th>\n",
       "      <th></th>\n",
       "      <th></th>\n",
       "      <th></th>\n",
       "      <th></th>\n",
       "    </tr>\n",
       "  </thead>\n",
       "  <tbody>\n",
       "    <tr>\n",
       "      <th>15900</th>\n",
       "      <td>1.0</td>\n",
       "      <td>NaN</td>\n",
       "      <td>NaN</td>\n",
       "      <td>NaN</td>\n",
       "      <td>NaN</td>\n",
       "      <td>NaN</td>\n",
       "      <td>NaN</td>\n",
       "      <td>NaN</td>\n",
       "      <td>NaN</td>\n",
       "      <td>NaN</td>\n",
       "      <td>...</td>\n",
       "      <td>NaN</td>\n",
       "      <td>NaN</td>\n",
       "      <td>NaN</td>\n",
       "      <td>NaN</td>\n",
       "      <td>NaN</td>\n",
       "      <td>NaN</td>\n",
       "      <td>NaN</td>\n",
       "      <td>NaN</td>\n",
       "      <td>NaN</td>\n",
       "      <td>NaN</td>\n",
       "    </tr>\n",
       "    <tr>\n",
       "      <th>15906</th>\n",
       "      <td>NaN</td>\n",
       "      <td>1.0</td>\n",
       "      <td>NaN</td>\n",
       "      <td>NaN</td>\n",
       "      <td>NaN</td>\n",
       "      <td>NaN</td>\n",
       "      <td>NaN</td>\n",
       "      <td>NaN</td>\n",
       "      <td>NaN</td>\n",
       "      <td>NaN</td>\n",
       "      <td>...</td>\n",
       "      <td>NaN</td>\n",
       "      <td>NaN</td>\n",
       "      <td>NaN</td>\n",
       "      <td>NaN</td>\n",
       "      <td>NaN</td>\n",
       "      <td>NaN</td>\n",
       "      <td>NaN</td>\n",
       "      <td>NaN</td>\n",
       "      <td>NaN</td>\n",
       "      <td>NaN</td>\n",
       "    </tr>\n",
       "    <tr>\n",
       "      <th>15911</th>\n",
       "      <td>NaN</td>\n",
       "      <td>1.0</td>\n",
       "      <td>NaN</td>\n",
       "      <td>NaN</td>\n",
       "      <td>NaN</td>\n",
       "      <td>NaN</td>\n",
       "      <td>NaN</td>\n",
       "      <td>NaN</td>\n",
       "      <td>NaN</td>\n",
       "      <td>NaN</td>\n",
       "      <td>...</td>\n",
       "      <td>NaN</td>\n",
       "      <td>NaN</td>\n",
       "      <td>NaN</td>\n",
       "      <td>NaN</td>\n",
       "      <td>NaN</td>\n",
       "      <td>NaN</td>\n",
       "      <td>NaN</td>\n",
       "      <td>NaN</td>\n",
       "      <td>NaN</td>\n",
       "      <td>NaN</td>\n",
       "    </tr>\n",
       "    <tr>\n",
       "      <th>15923</th>\n",
       "      <td>NaN</td>\n",
       "      <td>1.0</td>\n",
       "      <td>NaN</td>\n",
       "      <td>NaN</td>\n",
       "      <td>NaN</td>\n",
       "      <td>NaN</td>\n",
       "      <td>NaN</td>\n",
       "      <td>NaN</td>\n",
       "      <td>NaN</td>\n",
       "      <td>NaN</td>\n",
       "      <td>...</td>\n",
       "      <td>NaN</td>\n",
       "      <td>NaN</td>\n",
       "      <td>NaN</td>\n",
       "      <td>NaN</td>\n",
       "      <td>NaN</td>\n",
       "      <td>NaN</td>\n",
       "      <td>NaN</td>\n",
       "      <td>NaN</td>\n",
       "      <td>NaN</td>\n",
       "      <td>NaN</td>\n",
       "    </tr>\n",
       "    <tr>\n",
       "      <th>15927</th>\n",
       "      <td>NaN</td>\n",
       "      <td>1.0</td>\n",
       "      <td>NaN</td>\n",
       "      <td>NaN</td>\n",
       "      <td>NaN</td>\n",
       "      <td>NaN</td>\n",
       "      <td>NaN</td>\n",
       "      <td>NaN</td>\n",
       "      <td>NaN</td>\n",
       "      <td>NaN</td>\n",
       "      <td>...</td>\n",
       "      <td>NaN</td>\n",
       "      <td>NaN</td>\n",
       "      <td>NaN</td>\n",
       "      <td>NaN</td>\n",
       "      <td>NaN</td>\n",
       "      <td>NaN</td>\n",
       "      <td>NaN</td>\n",
       "      <td>NaN</td>\n",
       "      <td>NaN</td>\n",
       "      <td>NaN</td>\n",
       "    </tr>\n",
       "  </tbody>\n",
       "</table>\n",
       "<p>5 rows × 21 columns</p>\n",
       "</div>"
      ],
      "text/plain": [
       "product_code    1    2   3   4   5   6   7   8   9   10 ...  12  13  14  15  \\\n",
       "customer_code                                           ...                   \n",
       "15900          1.0  NaN NaN NaN NaN NaN NaN NaN NaN NaN ... NaN NaN NaN NaN   \n",
       "15906          NaN  1.0 NaN NaN NaN NaN NaN NaN NaN NaN ... NaN NaN NaN NaN   \n",
       "15911          NaN  1.0 NaN NaN NaN NaN NaN NaN NaN NaN ... NaN NaN NaN NaN   \n",
       "15923          NaN  1.0 NaN NaN NaN NaN NaN NaN NaN NaN ... NaN NaN NaN NaN   \n",
       "15927          NaN  1.0 NaN NaN NaN NaN NaN NaN NaN NaN ... NaN NaN NaN NaN   \n",
       "\n",
       "product_code   16  17  18  19  20  21  \n",
       "customer_code                          \n",
       "15900         NaN NaN NaN NaN NaN NaN  \n",
       "15906         NaN NaN NaN NaN NaN NaN  \n",
       "15911         NaN NaN NaN NaN NaN NaN  \n",
       "15923         NaN NaN NaN NaN NaN NaN  \n",
       "15927         NaN NaN NaN NaN NaN NaN  \n",
       "\n",
       "[5 rows x 21 columns]"
      ]
     },
     "execution_count": 345,
     "metadata": {},
     "output_type": "execute_result"
    }
   ],
   "source": [
    "#Create user-item matrix\n",
    "df_matrix = pd.pivot_table(df2, values='purchase_counts', index='customer_code', columns='product_code')\n",
    "df_matrix.head()"
   ]
  },
  {
   "cell_type": "code",
   "execution_count": 346,
   "metadata": {},
   "outputs": [
    {
     "data": {
      "text/html": [
       "<div>\n",
       "<style scoped>\n",
       "    .dataframe tbody tr th:only-of-type {\n",
       "        vertical-align: middle;\n",
       "    }\n",
       "\n",
       "    .dataframe tbody tr th {\n",
       "        vertical-align: top;\n",
       "    }\n",
       "\n",
       "    .dataframe thead th {\n",
       "        text-align: right;\n",
       "    }\n",
       "</style>\n",
       "<table border=\"1\" class=\"dataframe\">\n",
       "  <thead>\n",
       "    <tr style=\"text-align: right;\">\n",
       "      <th>product_code</th>\n",
       "      <th>1</th>\n",
       "      <th>2</th>\n",
       "      <th>3</th>\n",
       "      <th>4</th>\n",
       "      <th>5</th>\n",
       "      <th>6</th>\n",
       "      <th>7</th>\n",
       "      <th>8</th>\n",
       "      <th>9</th>\n",
       "      <th>10</th>\n",
       "      <th>...</th>\n",
       "      <th>12</th>\n",
       "      <th>13</th>\n",
       "      <th>14</th>\n",
       "      <th>15</th>\n",
       "      <th>16</th>\n",
       "      <th>17</th>\n",
       "      <th>18</th>\n",
       "      <th>19</th>\n",
       "      <th>20</th>\n",
       "      <th>21</th>\n",
       "    </tr>\n",
       "    <tr>\n",
       "      <th>customer_code</th>\n",
       "      <th></th>\n",
       "      <th></th>\n",
       "      <th></th>\n",
       "      <th></th>\n",
       "      <th></th>\n",
       "      <th></th>\n",
       "      <th></th>\n",
       "      <th></th>\n",
       "      <th></th>\n",
       "      <th></th>\n",
       "      <th></th>\n",
       "      <th></th>\n",
       "      <th></th>\n",
       "      <th></th>\n",
       "      <th></th>\n",
       "      <th></th>\n",
       "      <th></th>\n",
       "      <th></th>\n",
       "      <th></th>\n",
       "      <th></th>\n",
       "      <th></th>\n",
       "    </tr>\n",
       "  </thead>\n",
       "  <tbody>\n",
       "    <tr>\n",
       "      <th>15900</th>\n",
       "      <td>NaN</td>\n",
       "      <td>NaN</td>\n",
       "      <td>NaN</td>\n",
       "      <td>NaN</td>\n",
       "      <td>NaN</td>\n",
       "      <td>NaN</td>\n",
       "      <td>NaN</td>\n",
       "      <td>NaN</td>\n",
       "      <td>NaN</td>\n",
       "      <td>NaN</td>\n",
       "      <td>...</td>\n",
       "      <td>NaN</td>\n",
       "      <td>NaN</td>\n",
       "      <td>NaN</td>\n",
       "      <td>NaN</td>\n",
       "      <td>NaN</td>\n",
       "      <td>NaN</td>\n",
       "      <td>NaN</td>\n",
       "      <td>NaN</td>\n",
       "      <td>NaN</td>\n",
       "      <td>NaN</td>\n",
       "    </tr>\n",
       "    <tr>\n",
       "      <th>15906</th>\n",
       "      <td>NaN</td>\n",
       "      <td>0.2</td>\n",
       "      <td>NaN</td>\n",
       "      <td>NaN</td>\n",
       "      <td>NaN</td>\n",
       "      <td>NaN</td>\n",
       "      <td>NaN</td>\n",
       "      <td>NaN</td>\n",
       "      <td>NaN</td>\n",
       "      <td>NaN</td>\n",
       "      <td>...</td>\n",
       "      <td>NaN</td>\n",
       "      <td>NaN</td>\n",
       "      <td>NaN</td>\n",
       "      <td>NaN</td>\n",
       "      <td>NaN</td>\n",
       "      <td>NaN</td>\n",
       "      <td>NaN</td>\n",
       "      <td>NaN</td>\n",
       "      <td>NaN</td>\n",
       "      <td>NaN</td>\n",
       "    </tr>\n",
       "    <tr>\n",
       "      <th>15911</th>\n",
       "      <td>NaN</td>\n",
       "      <td>0.2</td>\n",
       "      <td>NaN</td>\n",
       "      <td>NaN</td>\n",
       "      <td>NaN</td>\n",
       "      <td>NaN</td>\n",
       "      <td>NaN</td>\n",
       "      <td>NaN</td>\n",
       "      <td>NaN</td>\n",
       "      <td>NaN</td>\n",
       "      <td>...</td>\n",
       "      <td>NaN</td>\n",
       "      <td>NaN</td>\n",
       "      <td>NaN</td>\n",
       "      <td>NaN</td>\n",
       "      <td>NaN</td>\n",
       "      <td>NaN</td>\n",
       "      <td>NaN</td>\n",
       "      <td>NaN</td>\n",
       "      <td>NaN</td>\n",
       "      <td>NaN</td>\n",
       "    </tr>\n",
       "    <tr>\n",
       "      <th>15923</th>\n",
       "      <td>NaN</td>\n",
       "      <td>0.2</td>\n",
       "      <td>NaN</td>\n",
       "      <td>NaN</td>\n",
       "      <td>NaN</td>\n",
       "      <td>NaN</td>\n",
       "      <td>NaN</td>\n",
       "      <td>NaN</td>\n",
       "      <td>NaN</td>\n",
       "      <td>NaN</td>\n",
       "      <td>...</td>\n",
       "      <td>NaN</td>\n",
       "      <td>NaN</td>\n",
       "      <td>NaN</td>\n",
       "      <td>NaN</td>\n",
       "      <td>NaN</td>\n",
       "      <td>NaN</td>\n",
       "      <td>NaN</td>\n",
       "      <td>NaN</td>\n",
       "      <td>NaN</td>\n",
       "      <td>NaN</td>\n",
       "    </tr>\n",
       "    <tr>\n",
       "      <th>15927</th>\n",
       "      <td>NaN</td>\n",
       "      <td>0.2</td>\n",
       "      <td>NaN</td>\n",
       "      <td>NaN</td>\n",
       "      <td>NaN</td>\n",
       "      <td>NaN</td>\n",
       "      <td>NaN</td>\n",
       "      <td>NaN</td>\n",
       "      <td>NaN</td>\n",
       "      <td>NaN</td>\n",
       "      <td>...</td>\n",
       "      <td>NaN</td>\n",
       "      <td>NaN</td>\n",
       "      <td>NaN</td>\n",
       "      <td>NaN</td>\n",
       "      <td>NaN</td>\n",
       "      <td>NaN</td>\n",
       "      <td>NaN</td>\n",
       "      <td>NaN</td>\n",
       "      <td>NaN</td>\n",
       "      <td>NaN</td>\n",
       "    </tr>\n",
       "  </tbody>\n",
       "</table>\n",
       "<p>5 rows × 21 columns</p>\n",
       "</div>"
      ],
      "text/plain": [
       "product_code   1    2   3   4   5   6   7   8   9   10 ...  12  13  14  15  \\\n",
       "customer_code                                          ...                   \n",
       "15900         NaN  NaN NaN NaN NaN NaN NaN NaN NaN NaN ... NaN NaN NaN NaN   \n",
       "15906         NaN  0.2 NaN NaN NaN NaN NaN NaN NaN NaN ... NaN NaN NaN NaN   \n",
       "15911         NaN  0.2 NaN NaN NaN NaN NaN NaN NaN NaN ... NaN NaN NaN NaN   \n",
       "15923         NaN  0.2 NaN NaN NaN NaN NaN NaN NaN NaN ... NaN NaN NaN NaN   \n",
       "15927         NaN  0.2 NaN NaN NaN NaN NaN NaN NaN NaN ... NaN NaN NaN NaN   \n",
       "\n",
       "product_code   16  17  18  19  20  21  \n",
       "customer_code                          \n",
       "15900         NaN NaN NaN NaN NaN NaN  \n",
       "15906         NaN NaN NaN NaN NaN NaN  \n",
       "15911         NaN NaN NaN NaN NaN NaN  \n",
       "15923         NaN NaN NaN NaN NaN NaN  \n",
       "15927         NaN NaN NaN NaN NaN NaN  \n",
       "\n",
       "[5 rows x 21 columns]"
      ]
     },
     "execution_count": 346,
     "metadata": {},
     "output_type": "execute_result"
    }
   ],
   "source": [
    "df_matrix_norm = (df_matrix-df_matrix.min())/(df_matrix.max()-df_matrix.min())\n",
    "df_matrix_norm.head()"
   ]
  },
  {
   "cell_type": "code",
   "execution_count": 347,
   "metadata": {},
   "outputs": [
    {
     "name": "stdout",
     "output_type": "stream",
     "text": [
      "(24572, 3)\n"
     ]
    },
    {
     "data": {
      "text/html": [
       "<div>\n",
       "<style scoped>\n",
       "    .dataframe tbody tr th:only-of-type {\n",
       "        vertical-align: middle;\n",
       "    }\n",
       "\n",
       "    .dataframe tbody tr th {\n",
       "        vertical-align: top;\n",
       "    }\n",
       "\n",
       "    .dataframe thead th {\n",
       "        text-align: right;\n",
       "    }\n",
       "</style>\n",
       "<table border=\"1\" class=\"dataframe\">\n",
       "  <thead>\n",
       "    <tr style=\"text-align: right;\">\n",
       "      <th></th>\n",
       "      <th>customer_code</th>\n",
       "      <th>product_code</th>\n",
       "      <th>scaled_purchase_freq</th>\n",
       "    </tr>\n",
       "  </thead>\n",
       "  <tbody>\n",
       "    <tr>\n",
       "      <th>24574</th>\n",
       "      <td>15906</td>\n",
       "      <td>2</td>\n",
       "      <td>0.2</td>\n",
       "    </tr>\n",
       "    <tr>\n",
       "      <th>24575</th>\n",
       "      <td>15911</td>\n",
       "      <td>2</td>\n",
       "      <td>0.2</td>\n",
       "    </tr>\n",
       "    <tr>\n",
       "      <th>24576</th>\n",
       "      <td>15923</td>\n",
       "      <td>2</td>\n",
       "      <td>0.2</td>\n",
       "    </tr>\n",
       "    <tr>\n",
       "      <th>24577</th>\n",
       "      <td>15927</td>\n",
       "      <td>2</td>\n",
       "      <td>0.2</td>\n",
       "    </tr>\n",
       "    <tr>\n",
       "      <th>24578</th>\n",
       "      <td>15937</td>\n",
       "      <td>2</td>\n",
       "      <td>0.0</td>\n",
       "    </tr>\n",
       "  </tbody>\n",
       "</table>\n",
       "</div>"
      ],
      "text/plain": [
       "       customer_code product_code  scaled_purchase_freq\n",
       "24574          15906            2                   0.2\n",
       "24575          15911            2                   0.2\n",
       "24576          15923            2                   0.2\n",
       "24577          15927            2                   0.2\n",
       "24578          15937            2                   0.0"
      ]
     },
     "execution_count": 347,
     "metadata": {},
     "output_type": "execute_result"
    }
   ],
   "source": [
    "d = df_matrix_norm.reset_index() \n",
    "d.index.names = ['scaled_purchase_freq'] \n",
    "data_norm = pd.melt(d, id_vars=['customer_code'], value_name='scaled_purchase_freq').dropna()\n",
    "\n",
    "print(data_norm.shape)\n",
    "data_norm.head()"
   ]
  },
  {
   "cell_type": "markdown",
   "metadata": {},
   "source": [
    "### Modeling"
   ]
  },
  {
   "cell_type": "markdown",
   "metadata": {},
   "source": [
    "We have now normalized the purchase history for each customer on a scale of 0 o 1. A 0 represents no purchases and a 1 representing the most purchases for a customer. \n",
    "\n",
    "Now that we have prepared the data for modeling, we will go ahead and perform a train test split. Obviously, the training data will be used for performing the model and the testing data will be used to evaluate the model."
   ]
  },
  {
   "cell_type": "code",
   "execution_count": 348,
   "metadata": {},
   "outputs": [],
   "source": [
    "#Define split function\n",
    "def split_data(data):\n",
    "    train, test = train_test_split(data, test_size = .2)\n",
    "    train_data = tc.SFrame(train)\n",
    "    test_data = tc.SFrame(test)\n",
    "    return train_data, test_data"
   ]
  },
  {
   "cell_type": "markdown",
   "metadata": {},
   "source": [
    "We have 3 different data sets, one for purchase counts, puchase dummy and scaled purchase counts. We will go ahead and split these for modeling."
   ]
  },
  {
   "cell_type": "code",
   "execution_count": 349,
   "metadata": {},
   "outputs": [],
   "source": [
    "#Split each data set\n",
    "train_data, test_data = split_data(df2)\n",
    "train_data_dummy, test_data_dummy = split_data(data_dummy)\n",
    "train_data_norm, test_data_norm = split_data(data_norm)"
   ]
  },
  {
   "cell_type": "markdown",
   "metadata": {},
   "source": [
    "The ultimate goal is for us to be able to recommend products for specific users based on what similiar users previously purchased. We will be doing this with the collaborative filtering method. However, I would like to begin by performing a 'popularity model' that will simply recommend the most popular products for each user. I will do this as a baseline so that we can evaluate our collaborative filtering method against it. "
   ]
  },
  {
   "cell_type": "code",
   "execution_count": 350,
   "metadata": {},
   "outputs": [],
   "source": [
    "#Define objects for model\n",
    "user_id = 'customer_code'\n",
    "item_id = 'product_code'\n",
    "users_to_recommend = list(df['customer_code'])\n",
    "\n",
    "#Number of items to recommend\n",
    "n_rec = 15 \n",
    "#Display the first few rows in an output dataset\n",
    "n_display = 30 "
   ]
  },
  {
   "cell_type": "code",
   "execution_count": 351,
   "metadata": {},
   "outputs": [],
   "source": [
    "#Here I am defining a function, model, that will input data, model name, user id, product id\n",
    "#target, users to recommend, number of items to recommend and number of rows to display.\n",
    "#This is for ease of calling each model type. \n",
    "\n",
    "def model(train_data, name, user_id, item_id, target, users_to_recommend, n_rec, n_display):\n",
    "    if name == 'popularity':\n",
    "        model = tc.popularity_recommender.create(train_data, \n",
    "                                                    user_id=user_id, \n",
    "                                                    item_id=item_id, \n",
    "                                                    target=target)\n",
    "    elif name == 'cosine':\n",
    "        model = tc.item_similarity_recommender.create(train_data, \n",
    "                                                    user_id=user_id, \n",
    "                                                    item_id=item_id, \n",
    "                                                    target=target, \n",
    "                                                    similarity_type='cosine')\n",
    "    elif name == 'pearson':\n",
    "        model = tc.item_similarity_recommender.create(train_data, \n",
    "                                                    user_id=user_id, \n",
    "                                                    item_id=item_id, \n",
    "                                                    target=target, \n",
    "                                                    similarity_type='pearson')\n",
    "        \n",
    "    recom = model.recommend(users=users_to_recommend, k=n_rec)\n",
    "    recom.print_rows(n_display)\n",
    "    return model"
   ]
  },
  {
   "cell_type": "markdown",
   "metadata": {},
   "source": [
    "### Popularity Models"
   ]
  },
  {
   "cell_type": "code",
   "execution_count": 352,
   "metadata": {
    "scrolled": true
   },
   "outputs": [
    {
     "data": {
      "text/html": [
       "<pre>Preparing data set.</pre>"
      ],
      "text/plain": [
       "Preparing data set."
      ]
     },
     "metadata": {},
     "output_type": "display_data"
    },
    {
     "data": {
      "text/html": [
       "<pre>    Data has 19658 observations with 19658 users and 21 items.</pre>"
      ],
      "text/plain": [
       "    Data has 19658 observations with 19658 users and 21 items."
      ]
     },
     "metadata": {},
     "output_type": "display_data"
    },
    {
     "data": {
      "text/html": [
       "<pre>    Data prepared in: 0.086004s</pre>"
      ],
      "text/plain": [
       "    Data prepared in: 0.086004s"
      ]
     },
     "metadata": {},
     "output_type": "display_data"
    },
    {
     "data": {
      "text/html": [
       "<pre>19658 observations to process; with 21 unique items.</pre>"
      ],
      "text/plain": [
       "19658 observations to process; with 21 unique items."
      ]
     },
     "metadata": {},
     "output_type": "display_data"
    },
    {
     "data": {
      "text/html": [
       "<pre>recommendations finished on 1000/39964 queries. users per second: 62515.6</pre>"
      ],
      "text/plain": [
       "recommendations finished on 1000/39964 queries. users per second: 62515.6"
      ]
     },
     "metadata": {},
     "output_type": "display_data"
    },
    {
     "data": {
      "text/html": [
       "<pre>recommendations finished on 2000/39964 queries. users per second: 97962.4</pre>"
      ],
      "text/plain": [
       "recommendations finished on 2000/39964 queries. users per second: 97962.4"
      ]
     },
     "metadata": {},
     "output_type": "display_data"
    },
    {
     "data": {
      "text/html": [
       "<pre>recommendations finished on 3000/39964 queries. users per second: 107024</pre>"
      ],
      "text/plain": [
       "recommendations finished on 3000/39964 queries. users per second: 107024"
      ]
     },
     "metadata": {},
     "output_type": "display_data"
    },
    {
     "data": {
      "text/html": [
       "<pre>recommendations finished on 4000/39964 queries. users per second: 129120</pre>"
      ],
      "text/plain": [
       "recommendations finished on 4000/39964 queries. users per second: 129120"
      ]
     },
     "metadata": {},
     "output_type": "display_data"
    },
    {
     "data": {
      "text/html": [
       "<pre>recommendations finished on 5000/39964 queries. users per second: 140315</pre>"
      ],
      "text/plain": [
       "recommendations finished on 5000/39964 queries. users per second: 140315"
      ]
     },
     "metadata": {},
     "output_type": "display_data"
    },
    {
     "data": {
      "text/html": [
       "<pre>recommendations finished on 6000/39964 queries. users per second: 155444</pre>"
      ],
      "text/plain": [
       "recommendations finished on 6000/39964 queries. users per second: 155444"
      ]
     },
     "metadata": {},
     "output_type": "display_data"
    },
    {
     "data": {
      "text/html": [
       "<pre>recommendations finished on 7000/39964 queries. users per second: 168874</pre>"
      ],
      "text/plain": [
       "recommendations finished on 7000/39964 queries. users per second: 168874"
      ]
     },
     "metadata": {},
     "output_type": "display_data"
    },
    {
     "data": {
      "text/html": [
       "<pre>recommendations finished on 8000/39964 queries. users per second: 163857</pre>"
      ],
      "text/plain": [
       "recommendations finished on 8000/39964 queries. users per second: 163857"
      ]
     },
     "metadata": {},
     "output_type": "display_data"
    },
    {
     "data": {
      "text/html": [
       "<pre>recommendations finished on 9000/39964 queries. users per second: 173849</pre>"
      ],
      "text/plain": [
       "recommendations finished on 9000/39964 queries. users per second: 173849"
      ]
     },
     "metadata": {},
     "output_type": "display_data"
    },
    {
     "data": {
      "text/html": [
       "<pre>recommendations finished on 10000/39964 queries. users per second: 180910</pre>"
      ],
      "text/plain": [
       "recommendations finished on 10000/39964 queries. users per second: 180910"
      ]
     },
     "metadata": {},
     "output_type": "display_data"
    },
    {
     "data": {
      "text/html": [
       "<pre>recommendations finished on 11000/39964 queries. users per second: 186507</pre>"
      ],
      "text/plain": [
       "recommendations finished on 11000/39964 queries. users per second: 186507"
      ]
     },
     "metadata": {},
     "output_type": "display_data"
    },
    {
     "data": {
      "text/html": [
       "<pre>recommendations finished on 12000/39964 queries. users per second: 189499</pre>"
      ],
      "text/plain": [
       "recommendations finished on 12000/39964 queries. users per second: 189499"
      ]
     },
     "metadata": {},
     "output_type": "display_data"
    },
    {
     "data": {
      "text/html": [
       "<pre>recommendations finished on 13000/39964 queries. users per second: 198234</pre>"
      ],
      "text/plain": [
       "recommendations finished on 13000/39964 queries. users per second: 198234"
      ]
     },
     "metadata": {},
     "output_type": "display_data"
    },
    {
     "data": {
      "text/html": [
       "<pre>recommendations finished on 14000/39964 queries. users per second: 202669</pre>"
      ],
      "text/plain": [
       "recommendations finished on 14000/39964 queries. users per second: 202669"
      ]
     },
     "metadata": {},
     "output_type": "display_data"
    },
    {
     "data": {
      "text/html": [
       "<pre>recommendations finished on 15000/39964 queries. users per second: 205699</pre>"
      ],
      "text/plain": [
       "recommendations finished on 15000/39964 queries. users per second: 205699"
      ]
     },
     "metadata": {},
     "output_type": "display_data"
    },
    {
     "data": {
      "text/html": [
       "<pre>recommendations finished on 16000/39964 queries. users per second: 209602</pre>"
      ],
      "text/plain": [
       "recommendations finished on 16000/39964 queries. users per second: 209602"
      ]
     },
     "metadata": {},
     "output_type": "display_data"
    },
    {
     "data": {
      "text/html": [
       "<pre>recommendations finished on 17000/39964 queries. users per second: 201527</pre>"
      ],
      "text/plain": [
       "recommendations finished on 17000/39964 queries. users per second: 201527"
      ]
     },
     "metadata": {},
     "output_type": "display_data"
    },
    {
     "data": {
      "text/html": [
       "<pre>recommendations finished on 18000/39964 queries. users per second: 196081</pre>"
      ],
      "text/plain": [
       "recommendations finished on 18000/39964 queries. users per second: 196081"
      ]
     },
     "metadata": {},
     "output_type": "display_data"
    },
    {
     "data": {
      "text/html": [
       "<pre>recommendations finished on 19000/39964 queries. users per second: 201103</pre>"
      ],
      "text/plain": [
       "recommendations finished on 19000/39964 queries. users per second: 201103"
      ]
     },
     "metadata": {},
     "output_type": "display_data"
    },
    {
     "data": {
      "text/html": [
       "<pre>recommendations finished on 20000/39964 queries. users per second: 204163</pre>"
      ],
      "text/plain": [
       "recommendations finished on 20000/39964 queries. users per second: 204163"
      ]
     },
     "metadata": {},
     "output_type": "display_data"
    },
    {
     "data": {
      "text/html": [
       "<pre>recommendations finished on 21000/39964 queries. users per second: 206581</pre>"
      ],
      "text/plain": [
       "recommendations finished on 21000/39964 queries. users per second: 206581"
      ]
     },
     "metadata": {},
     "output_type": "display_data"
    },
    {
     "data": {
      "text/html": [
       "<pre>recommendations finished on 22000/39964 queries. users per second: 204891</pre>"
      ],
      "text/plain": [
       "recommendations finished on 22000/39964 queries. users per second: 204891"
      ]
     },
     "metadata": {},
     "output_type": "display_data"
    },
    {
     "data": {
      "text/html": [
       "<pre>recommendations finished on 23000/39964 queries. users per second: 198615</pre>"
      ],
      "text/plain": [
       "recommendations finished on 23000/39964 queries. users per second: 198615"
      ]
     },
     "metadata": {},
     "output_type": "display_data"
    },
    {
     "data": {
      "text/html": [
       "<pre>recommendations finished on 24000/39964 queries. users per second: 191621</pre>"
      ],
      "text/plain": [
       "recommendations finished on 24000/39964 queries. users per second: 191621"
      ]
     },
     "metadata": {},
     "output_type": "display_data"
    },
    {
     "data": {
      "text/html": [
       "<pre>recommendations finished on 25000/39964 queries. users per second: 194333</pre>"
      ],
      "text/plain": [
       "recommendations finished on 25000/39964 queries. users per second: 194333"
      ]
     },
     "metadata": {},
     "output_type": "display_data"
    },
    {
     "data": {
      "text/html": [
       "<pre>recommendations finished on 26000/39964 queries. users per second: 194914</pre>"
      ],
      "text/plain": [
       "recommendations finished on 26000/39964 queries. users per second: 194914"
      ]
     },
     "metadata": {},
     "output_type": "display_data"
    },
    {
     "data": {
      "text/html": [
       "<pre>recommendations finished on 27000/39964 queries. users per second: 196744</pre>"
      ],
      "text/plain": [
       "recommendations finished on 27000/39964 queries. users per second: 196744"
      ]
     },
     "metadata": {},
     "output_type": "display_data"
    },
    {
     "data": {
      "text/html": [
       "<pre>recommendations finished on 28000/39964 queries. users per second: 195609</pre>"
      ],
      "text/plain": [
       "recommendations finished on 28000/39964 queries. users per second: 195609"
      ]
     },
     "metadata": {},
     "output_type": "display_data"
    },
    {
     "data": {
      "text/html": [
       "<pre>recommendations finished on 29000/39964 queries. users per second: 186377</pre>"
      ],
      "text/plain": [
       "recommendations finished on 29000/39964 queries. users per second: 186377"
      ]
     },
     "metadata": {},
     "output_type": "display_data"
    },
    {
     "data": {
      "text/html": [
       "<pre>recommendations finished on 30000/39964 queries. users per second: 189277</pre>"
      ],
      "text/plain": [
       "recommendations finished on 30000/39964 queries. users per second: 189277"
      ]
     },
     "metadata": {},
     "output_type": "display_data"
    },
    {
     "data": {
      "text/html": [
       "<pre>recommendations finished on 31000/39964 queries. users per second: 189528</pre>"
      ],
      "text/plain": [
       "recommendations finished on 31000/39964 queries. users per second: 189528"
      ]
     },
     "metadata": {},
     "output_type": "display_data"
    },
    {
     "data": {
      "text/html": [
       "<pre>recommendations finished on 32000/39964 queries. users per second: 190951</pre>"
      ],
      "text/plain": [
       "recommendations finished on 32000/39964 queries. users per second: 190951"
      ]
     },
     "metadata": {},
     "output_type": "display_data"
    },
    {
     "data": {
      "text/html": [
       "<pre>recommendations finished on 33000/39964 queries. users per second: 180506</pre>"
      ],
      "text/plain": [
       "recommendations finished on 33000/39964 queries. users per second: 180506"
      ]
     },
     "metadata": {},
     "output_type": "display_data"
    },
    {
     "data": {
      "text/html": [
       "<pre>recommendations finished on 34000/39964 queries. users per second: 175006</pre>"
      ],
      "text/plain": [
       "recommendations finished on 34000/39964 queries. users per second: 175006"
      ]
     },
     "metadata": {},
     "output_type": "display_data"
    },
    {
     "data": {
      "text/html": [
       "<pre>recommendations finished on 35000/39964 queries. users per second: 175644</pre>"
      ],
      "text/plain": [
       "recommendations finished on 35000/39964 queries. users per second: 175644"
      ]
     },
     "metadata": {},
     "output_type": "display_data"
    },
    {
     "data": {
      "text/html": [
       "<pre>recommendations finished on 36000/39964 queries. users per second: 174926</pre>"
      ],
      "text/plain": [
       "recommendations finished on 36000/39964 queries. users per second: 174926"
      ]
     },
     "metadata": {},
     "output_type": "display_data"
    },
    {
     "data": {
      "text/html": [
       "<pre>recommendations finished on 37000/39964 queries. users per second: 175768</pre>"
      ],
      "text/plain": [
       "recommendations finished on 37000/39964 queries. users per second: 175768"
      ]
     },
     "metadata": {},
     "output_type": "display_data"
    },
    {
     "data": {
      "text/html": [
       "<pre>recommendations finished on 38000/39964 queries. users per second: 168238</pre>"
      ],
      "text/plain": [
       "recommendations finished on 38000/39964 queries. users per second: 168238"
      ]
     },
     "metadata": {},
     "output_type": "display_data"
    },
    {
     "data": {
      "text/html": [
       "<pre>recommendations finished on 39000/39964 queries. users per second: 163988</pre>"
      ],
      "text/plain": [
       "recommendations finished on 39000/39964 queries. users per second: 163988"
      ]
     },
     "metadata": {},
     "output_type": "display_data"
    },
    {
     "name": "stdout",
     "output_type": "stream",
     "text": [
      "+---------------+--------------+--------------------+------+\n",
      "| customer_code | product_code |       score        | rank |\n",
      "+---------------+--------------+--------------------+------+\n",
      "|     118972    |      21      | 1.0839064649243466 |  1   |\n",
      "|     118972    |      1       |        1.0         |  2   |\n",
      "|     118972    |      19      | 0.9059561128526645 |  3   |\n",
      "|     118972    |      20      |        0.9         |  4   |\n",
      "|     118972    |      16      | 0.8888888888888888 |  5   |\n",
      "|     118972    |      18      | 0.8704833411543876 |  6   |\n",
      "|     118972    |      17      | 0.8604651162790697 |  7   |\n",
      "|     118972    |      6       |     0.8140625      |  8   |\n",
      "|     118972    |      13      | 0.7820224719101123 |  9   |\n",
      "|     118972    |      12      | 0.7814465408805031 |  10  |\n",
      "|     118972    |      7       | 0.7802874743326489 |  11  |\n",
      "|     118972    |      4       | 0.7781672508763144 |  12  |\n",
      "|     118972    |      3       | 0.7692307692307693 |  13  |\n",
      "|     118972    |      11      | 0.7303807303807304 |  14  |\n",
      "|     118972    |      10      | 0.717948717948718  |  15  |\n",
      "|     116132    |      21      | 1.0839064649243466 |  1   |\n",
      "|     116132    |      1       |        1.0         |  2   |\n",
      "|     116132    |      19      | 0.9059561128526645 |  3   |\n",
      "|     116132    |      20      |        0.9         |  4   |\n",
      "|     116132    |      16      | 0.8888888888888888 |  5   |\n",
      "|     116132    |      18      | 0.8704833411543876 |  6   |\n",
      "|     116132    |      17      | 0.8604651162790697 |  7   |\n",
      "|     116132    |      6       |     0.8140625      |  8   |\n",
      "|     116132    |      13      | 0.7820224719101123 |  9   |\n",
      "|     116132    |      12      | 0.7814465408805031 |  10  |\n",
      "|     116132    |      7       | 0.7802874743326489 |  11  |\n",
      "|     116132    |      4       | 0.7781672508763144 |  12  |\n",
      "|     116132    |      3       | 0.7692307692307693 |  13  |\n",
      "|     116132    |      11      | 0.7303807303807304 |  14  |\n",
      "|     116132    |      10      | 0.717948717948718  |  15  |\n",
      "+---------------+--------------+--------------------+------+\n",
      "[599460 rows x 4 columns]\n",
      "\n"
     ]
    }
   ],
   "source": [
    "#Popularity model using purchase counts\n",
    "name = 'popularity'\n",
    "target = 'purchase_counts'\n",
    "popularity = model(train_data, name, user_id, item_id, target, users_to_recommend, n_rec, n_display)"
   ]
  },
  {
   "cell_type": "code",
   "execution_count": 353,
   "metadata": {},
   "outputs": [
    {
     "data": {
      "text/html": [
       "<pre>Warning: Ignoring columns purchase_counts;</pre>"
      ],
      "text/plain": [
       "Warning: Ignoring columns purchase_counts;"
      ]
     },
     "metadata": {},
     "output_type": "display_data"
    },
    {
     "data": {
      "text/html": [
       "<pre>    To use these columns in scoring predictions, use a model that allows the use of additional features.</pre>"
      ],
      "text/plain": [
       "    To use these columns in scoring predictions, use a model that allows the use of additional features."
      ]
     },
     "metadata": {},
     "output_type": "display_data"
    },
    {
     "data": {
      "text/html": [
       "<pre>Preparing data set.</pre>"
      ],
      "text/plain": [
       "Preparing data set."
      ]
     },
     "metadata": {},
     "output_type": "display_data"
    },
    {
     "data": {
      "text/html": [
       "<pre>    Data has 19658 observations with 19658 users and 21 items.</pre>"
      ],
      "text/plain": [
       "    Data has 19658 observations with 19658 users and 21 items."
      ]
     },
     "metadata": {},
     "output_type": "display_data"
    },
    {
     "data": {
      "text/html": [
       "<pre>    Data prepared in: 0.048508s</pre>"
      ],
      "text/plain": [
       "    Data prepared in: 0.048508s"
      ]
     },
     "metadata": {},
     "output_type": "display_data"
    },
    {
     "data": {
      "text/html": [
       "<pre>19658 observations to process; with 21 unique items.</pre>"
      ],
      "text/plain": [
       "19658 observations to process; with 21 unique items."
      ]
     },
     "metadata": {},
     "output_type": "display_data"
    },
    {
     "data": {
      "text/html": [
       "<pre>recommendations finished on 1000/39964 queries. users per second: 81619.3</pre>"
      ],
      "text/plain": [
       "recommendations finished on 1000/39964 queries. users per second: 81619.3"
      ]
     },
     "metadata": {},
     "output_type": "display_data"
    },
    {
     "data": {
      "text/html": [
       "<pre>recommendations finished on 2000/39964 queries. users per second: 109469</pre>"
      ],
      "text/plain": [
       "recommendations finished on 2000/39964 queries. users per second: 109469"
      ]
     },
     "metadata": {},
     "output_type": "display_data"
    },
    {
     "data": {
      "text/html": [
       "<pre>recommendations finished on 3000/39964 queries. users per second: 142498</pre>"
      ],
      "text/plain": [
       "recommendations finished on 3000/39964 queries. users per second: 142498"
      ]
     },
     "metadata": {},
     "output_type": "display_data"
    },
    {
     "data": {
      "text/html": [
       "<pre>recommendations finished on 4000/39964 queries. users per second: 163646</pre>"
      ],
      "text/plain": [
       "recommendations finished on 4000/39964 queries. users per second: 163646"
      ]
     },
     "metadata": {},
     "output_type": "display_data"
    },
    {
     "data": {
      "text/html": [
       "<pre>recommendations finished on 5000/39964 queries. users per second: 166395</pre>"
      ],
      "text/plain": [
       "recommendations finished on 5000/39964 queries. users per second: 166395"
      ]
     },
     "metadata": {},
     "output_type": "display_data"
    },
    {
     "data": {
      "text/html": [
       "<pre>recommendations finished on 6000/39964 queries. users per second: 186359</pre>"
      ],
      "text/plain": [
       "recommendations finished on 6000/39964 queries. users per second: 186359"
      ]
     },
     "metadata": {},
     "output_type": "display_data"
    },
    {
     "data": {
      "text/html": [
       "<pre>recommendations finished on 7000/39964 queries. users per second: 204912</pre>"
      ],
      "text/plain": [
       "recommendations finished on 7000/39964 queries. users per second: 204912"
      ]
     },
     "metadata": {},
     "output_type": "display_data"
    },
    {
     "data": {
      "text/html": [
       "<pre>recommendations finished on 8000/39964 queries. users per second: 220921</pre>"
      ],
      "text/plain": [
       "recommendations finished on 8000/39964 queries. users per second: 220921"
      ]
     },
     "metadata": {},
     "output_type": "display_data"
    },
    {
     "data": {
      "text/html": [
       "<pre>recommendations finished on 9000/39964 queries. users per second: 224059</pre>"
      ],
      "text/plain": [
       "recommendations finished on 9000/39964 queries. users per second: 224059"
      ]
     },
     "metadata": {},
     "output_type": "display_data"
    },
    {
     "data": {
      "text/html": [
       "<pre>recommendations finished on 10000/39964 queries. users per second: 216769</pre>"
      ],
      "text/plain": [
       "recommendations finished on 10000/39964 queries. users per second: 216769"
      ]
     },
     "metadata": {},
     "output_type": "display_data"
    },
    {
     "data": {
      "text/html": [
       "<pre>recommendations finished on 11000/39964 queries. users per second: 223759</pre>"
      ],
      "text/plain": [
       "recommendations finished on 11000/39964 queries. users per second: 223759"
      ]
     },
     "metadata": {},
     "output_type": "display_data"
    },
    {
     "data": {
      "text/html": [
       "<pre>recommendations finished on 12000/39964 queries. users per second: 225327</pre>"
      ],
      "text/plain": [
       "recommendations finished on 12000/39964 queries. users per second: 225327"
      ]
     },
     "metadata": {},
     "output_type": "display_data"
    },
    {
     "data": {
      "text/html": [
       "<pre>recommendations finished on 13000/39964 queries. users per second: 233532</pre>"
      ],
      "text/plain": [
       "recommendations finished on 13000/39964 queries. users per second: 233532"
      ]
     },
     "metadata": {},
     "output_type": "display_data"
    },
    {
     "data": {
      "text/html": [
       "<pre>recommendations finished on 14000/39964 queries. users per second: 241959</pre>"
      ],
      "text/plain": [
       "recommendations finished on 14000/39964 queries. users per second: 241959"
      ]
     },
     "metadata": {},
     "output_type": "display_data"
    },
    {
     "data": {
      "text/html": [
       "<pre>recommendations finished on 15000/39964 queries. users per second: 246027</pre>"
      ],
      "text/plain": [
       "recommendations finished on 15000/39964 queries. users per second: 246027"
      ]
     },
     "metadata": {},
     "output_type": "display_data"
    },
    {
     "data": {
      "text/html": [
       "<pre>recommendations finished on 16000/39964 queries. users per second: 250913</pre>"
      ],
      "text/plain": [
       "recommendations finished on 16000/39964 queries. users per second: 250913"
      ]
     },
     "metadata": {},
     "output_type": "display_data"
    },
    {
     "data": {
      "text/html": [
       "<pre>recommendations finished on 17000/39964 queries. users per second: 256887</pre>"
      ],
      "text/plain": [
       "recommendations finished on 17000/39964 queries. users per second: 256887"
      ]
     },
     "metadata": {},
     "output_type": "display_data"
    },
    {
     "data": {
      "text/html": [
       "<pre>recommendations finished on 18000/39964 queries. users per second: 261502</pre>"
      ],
      "text/plain": [
       "recommendations finished on 18000/39964 queries. users per second: 261502"
      ]
     },
     "metadata": {},
     "output_type": "display_data"
    },
    {
     "data": {
      "text/html": [
       "<pre>recommendations finished on 19000/39964 queries. users per second: 265378</pre>"
      ],
      "text/plain": [
       "recommendations finished on 19000/39964 queries. users per second: 265378"
      ]
     },
     "metadata": {},
     "output_type": "display_data"
    },
    {
     "data": {
      "text/html": [
       "<pre>recommendations finished on 20000/39964 queries. users per second: 270135</pre>"
      ],
      "text/plain": [
       "recommendations finished on 20000/39964 queries. users per second: 270135"
      ]
     },
     "metadata": {},
     "output_type": "display_data"
    },
    {
     "data": {
      "text/html": [
       "<pre>recommendations finished on 21000/39964 queries. users per second: 273153</pre>"
      ],
      "text/plain": [
       "recommendations finished on 21000/39964 queries. users per second: 273153"
      ]
     },
     "metadata": {},
     "output_type": "display_data"
    },
    {
     "data": {
      "text/html": [
       "<pre>recommendations finished on 22000/39964 queries. users per second: 276063</pre>"
      ],
      "text/plain": [
       "recommendations finished on 22000/39964 queries. users per second: 276063"
      ]
     },
     "metadata": {},
     "output_type": "display_data"
    },
    {
     "data": {
      "text/html": [
       "<pre>recommendations finished on 23000/39964 queries. users per second: 281576</pre>"
      ],
      "text/plain": [
       "recommendations finished on 23000/39964 queries. users per second: 281576"
      ]
     },
     "metadata": {},
     "output_type": "display_data"
    },
    {
     "data": {
      "text/html": [
       "<pre>recommendations finished on 24000/39964 queries. users per second: 283701</pre>"
      ],
      "text/plain": [
       "recommendations finished on 24000/39964 queries. users per second: 283701"
      ]
     },
     "metadata": {},
     "output_type": "display_data"
    },
    {
     "data": {
      "text/html": [
       "<pre>recommendations finished on 25000/39964 queries. users per second: 287796</pre>"
      ],
      "text/plain": [
       "recommendations finished on 25000/39964 queries. users per second: 287796"
      ]
     },
     "metadata": {},
     "output_type": "display_data"
    },
    {
     "data": {
      "text/html": [
       "<pre>recommendations finished on 26000/39964 queries. users per second: 289820</pre>"
      ],
      "text/plain": [
       "recommendations finished on 26000/39964 queries. users per second: 289820"
      ]
     },
     "metadata": {},
     "output_type": "display_data"
    },
    {
     "data": {
      "text/html": [
       "<pre>recommendations finished on 27000/39964 queries. users per second: 290676</pre>"
      ],
      "text/plain": [
       "recommendations finished on 27000/39964 queries. users per second: 290676"
      ]
     },
     "metadata": {},
     "output_type": "display_data"
    },
    {
     "data": {
      "text/html": [
       "<pre>recommendations finished on 28000/39964 queries. users per second: 280331</pre>"
      ],
      "text/plain": [
       "recommendations finished on 28000/39964 queries. users per second: 280331"
      ]
     },
     "metadata": {},
     "output_type": "display_data"
    },
    {
     "data": {
      "text/html": [
       "<pre>recommendations finished on 29000/39964 queries. users per second: 283705</pre>"
      ],
      "text/plain": [
       "recommendations finished on 29000/39964 queries. users per second: 283705"
      ]
     },
     "metadata": {},
     "output_type": "display_data"
    },
    {
     "data": {
      "text/html": [
       "<pre>recommendations finished on 30000/39964 queries. users per second: 288049</pre>"
      ],
      "text/plain": [
       "recommendations finished on 30000/39964 queries. users per second: 288049"
      ]
     },
     "metadata": {},
     "output_type": "display_data"
    },
    {
     "data": {
      "text/html": [
       "<pre>recommendations finished on 31000/39964 queries. users per second: 291949</pre>"
      ],
      "text/plain": [
       "recommendations finished on 31000/39964 queries. users per second: 291949"
      ]
     },
     "metadata": {},
     "output_type": "display_data"
    },
    {
     "data": {
      "text/html": [
       "<pre>recommendations finished on 32000/39964 queries. users per second: 278697</pre>"
      ],
      "text/plain": [
       "recommendations finished on 32000/39964 queries. users per second: 278697"
      ]
     },
     "metadata": {},
     "output_type": "display_data"
    },
    {
     "data": {
      "text/html": [
       "<pre>recommendations finished on 33000/39964 queries. users per second: 273813</pre>"
      ],
      "text/plain": [
       "recommendations finished on 33000/39964 queries. users per second: 273813"
      ]
     },
     "metadata": {},
     "output_type": "display_data"
    },
    {
     "data": {
      "text/html": [
       "<pre>recommendations finished on 34000/39964 queries. users per second: 230493</pre>"
      ],
      "text/plain": [
       "recommendations finished on 34000/39964 queries. users per second: 230493"
      ]
     },
     "metadata": {},
     "output_type": "display_data"
    },
    {
     "data": {
      "text/html": [
       "<pre>recommendations finished on 35000/39964 queries. users per second: 219264</pre>"
      ],
      "text/plain": [
       "recommendations finished on 35000/39964 queries. users per second: 219264"
      ]
     },
     "metadata": {},
     "output_type": "display_data"
    },
    {
     "data": {
      "text/html": [
       "<pre>recommendations finished on 36000/39964 queries. users per second: 211428</pre>"
      ],
      "text/plain": [
       "recommendations finished on 36000/39964 queries. users per second: 211428"
      ]
     },
     "metadata": {},
     "output_type": "display_data"
    },
    {
     "data": {
      "text/html": [
       "<pre>recommendations finished on 37000/39964 queries. users per second: 213541</pre>"
      ],
      "text/plain": [
       "recommendations finished on 37000/39964 queries. users per second: 213541"
      ]
     },
     "metadata": {},
     "output_type": "display_data"
    },
    {
     "data": {
      "text/html": [
       "<pre>recommendations finished on 38000/39964 queries. users per second: 213028</pre>"
      ],
      "text/plain": [
       "recommendations finished on 38000/39964 queries. users per second: 213028"
      ]
     },
     "metadata": {},
     "output_type": "display_data"
    },
    {
     "data": {
      "text/html": [
       "<pre>recommendations finished on 39000/39964 queries. users per second: 187534</pre>"
      ],
      "text/plain": [
       "recommendations finished on 39000/39964 queries. users per second: 187534"
      ]
     },
     "metadata": {},
     "output_type": "display_data"
    },
    {
     "name": "stdout",
     "output_type": "stream",
     "text": [
      "+---------------+--------------+-------+------+\n",
      "| customer_code | product_code | score | rank |\n",
      "+---------------+--------------+-------+------+\n",
      "|     118972    |      4       |  1.0  |  1   |\n",
      "|     118972    |      18      |  1.0  |  2   |\n",
      "|     118972    |      21      |  1.0  |  3   |\n",
      "|     118972    |      11      |  1.0  |  4   |\n",
      "|     118972    |      13      |  1.0  |  5   |\n",
      "|     118972    |      9       |  1.0  |  6   |\n",
      "|     118972    |      12      |  1.0  |  7   |\n",
      "|     118972    |      6       |  1.0  |  8   |\n",
      "|     118972    |      10      |  1.0  |  9   |\n",
      "|     118972    |      19      |  1.0  |  10  |\n",
      "|     118972    |      7       |  1.0  |  11  |\n",
      "|     118972    |      3       |  1.0  |  12  |\n",
      "|     118972    |      17      |  1.0  |  13  |\n",
      "|     118972    |      8       |  1.0  |  14  |\n",
      "|     118972    |      14      |  1.0  |  15  |\n",
      "|     116132    |      4       |  1.0  |  1   |\n",
      "|     116132    |      18      |  1.0  |  2   |\n",
      "|     116132    |      21      |  1.0  |  3   |\n",
      "|     116132    |      11      |  1.0  |  4   |\n",
      "|     116132    |      13      |  1.0  |  5   |\n",
      "|     116132    |      9       |  1.0  |  6   |\n",
      "|     116132    |      12      |  1.0  |  7   |\n",
      "|     116132    |      6       |  1.0  |  8   |\n",
      "|     116132    |      10      |  1.0  |  9   |\n",
      "|     116132    |      19      |  1.0  |  10  |\n",
      "|     116132    |      7       |  1.0  |  11  |\n",
      "|     116132    |      3       |  1.0  |  12  |\n",
      "|     116132    |      17      |  1.0  |  13  |\n",
      "|     116132    |      8       |  1.0  |  14  |\n",
      "|     116132    |      14      |  1.0  |  15  |\n",
      "+---------------+--------------+-------+------+\n",
      "[599460 rows x 4 columns]\n",
      "\n"
     ]
    }
   ],
   "source": [
    "#Popularity model using purchase dummies\n",
    "name = 'popularity'\n",
    "target = 'purchase_dummy'\n",
    "pop_dummy = model(train_data_dummy, name, user_id, item_id, target, users_to_recommend, n_rec, n_display)"
   ]
  },
  {
   "cell_type": "code",
   "execution_count": 354,
   "metadata": {},
   "outputs": [
    {
     "data": {
      "text/html": [
       "<pre>Preparing data set.</pre>"
      ],
      "text/plain": [
       "Preparing data set."
      ]
     },
     "metadata": {},
     "output_type": "display_data"
    },
    {
     "data": {
      "text/html": [
       "<pre>    Data has 19657 observations with 19657 users and 20 items.</pre>"
      ],
      "text/plain": [
       "    Data has 19657 observations with 19657 users and 20 items."
      ]
     },
     "metadata": {},
     "output_type": "display_data"
    },
    {
     "data": {
      "text/html": [
       "<pre>    Data prepared in: 0.050549s</pre>"
      ],
      "text/plain": [
       "    Data prepared in: 0.050549s"
      ]
     },
     "metadata": {},
     "output_type": "display_data"
    },
    {
     "data": {
      "text/html": [
       "<pre>19657 observations to process; with 20 unique items.</pre>"
      ],
      "text/plain": [
       "19657 observations to process; with 20 unique items."
      ]
     },
     "metadata": {},
     "output_type": "display_data"
    },
    {
     "data": {
      "text/html": [
       "<pre>recommendations finished on 1000/39964 queries. users per second: 92910.9</pre>"
      ],
      "text/plain": [
       "recommendations finished on 1000/39964 queries. users per second: 92910.9"
      ]
     },
     "metadata": {},
     "output_type": "display_data"
    },
    {
     "data": {
      "text/html": [
       "<pre>recommendations finished on 2000/39964 queries. users per second: 133342</pre>"
      ],
      "text/plain": [
       "recommendations finished on 2000/39964 queries. users per second: 133342"
      ]
     },
     "metadata": {},
     "output_type": "display_data"
    },
    {
     "data": {
      "text/html": [
       "<pre>recommendations finished on 3000/39964 queries. users per second: 150883</pre>"
      ],
      "text/plain": [
       "recommendations finished on 3000/39964 queries. users per second: 150883"
      ]
     },
     "metadata": {},
     "output_type": "display_data"
    },
    {
     "data": {
      "text/html": [
       "<pre>recommendations finished on 4000/39964 queries. users per second: 172496</pre>"
      ],
      "text/plain": [
       "recommendations finished on 4000/39964 queries. users per second: 172496"
      ]
     },
     "metadata": {},
     "output_type": "display_data"
    },
    {
     "data": {
      "text/html": [
       "<pre>recommendations finished on 5000/39964 queries. users per second: 173641</pre>"
      ],
      "text/plain": [
       "recommendations finished on 5000/39964 queries. users per second: 173641"
      ]
     },
     "metadata": {},
     "output_type": "display_data"
    },
    {
     "data": {
      "text/html": [
       "<pre>recommendations finished on 6000/39964 queries. users per second: 184797</pre>"
      ],
      "text/plain": [
       "recommendations finished on 6000/39964 queries. users per second: 184797"
      ]
     },
     "metadata": {},
     "output_type": "display_data"
    },
    {
     "data": {
      "text/html": [
       "<pre>recommendations finished on 7000/39964 queries. users per second: 197830</pre>"
      ],
      "text/plain": [
       "recommendations finished on 7000/39964 queries. users per second: 197830"
      ]
     },
     "metadata": {},
     "output_type": "display_data"
    },
    {
     "data": {
      "text/html": [
       "<pre>recommendations finished on 8000/39964 queries. users per second: 199516</pre>"
      ],
      "text/plain": [
       "recommendations finished on 8000/39964 queries. users per second: 199516"
      ]
     },
     "metadata": {},
     "output_type": "display_data"
    },
    {
     "data": {
      "text/html": [
       "<pre>recommendations finished on 9000/39964 queries. users per second: 212299</pre>"
      ],
      "text/plain": [
       "recommendations finished on 9000/39964 queries. users per second: 212299"
      ]
     },
     "metadata": {},
     "output_type": "display_data"
    },
    {
     "data": {
      "text/html": [
       "<pre>recommendations finished on 10000/39964 queries. users per second: 214744</pre>"
      ],
      "text/plain": [
       "recommendations finished on 10000/39964 queries. users per second: 214744"
      ]
     },
     "metadata": {},
     "output_type": "display_data"
    },
    {
     "data": {
      "text/html": [
       "<pre>recommendations finished on 11000/39964 queries. users per second: 217861</pre>"
      ],
      "text/plain": [
       "recommendations finished on 11000/39964 queries. users per second: 217861"
      ]
     },
     "metadata": {},
     "output_type": "display_data"
    },
    {
     "data": {
      "text/html": [
       "<pre>recommendations finished on 12000/39964 queries. users per second: 226809</pre>"
      ],
      "text/plain": [
       "recommendations finished on 12000/39964 queries. users per second: 226809"
      ]
     },
     "metadata": {},
     "output_type": "display_data"
    },
    {
     "data": {
      "text/html": [
       "<pre>recommendations finished on 13000/39964 queries. users per second: 225906</pre>"
      ],
      "text/plain": [
       "recommendations finished on 13000/39964 queries. users per second: 225906"
      ]
     },
     "metadata": {},
     "output_type": "display_data"
    },
    {
     "data": {
      "text/html": [
       "<pre>recommendations finished on 14000/39964 queries. users per second: 219808</pre>"
      ],
      "text/plain": [
       "recommendations finished on 14000/39964 queries. users per second: 219808"
      ]
     },
     "metadata": {},
     "output_type": "display_data"
    },
    {
     "data": {
      "text/html": [
       "<pre>recommendations finished on 15000/39964 queries. users per second: 224642</pre>"
      ],
      "text/plain": [
       "recommendations finished on 15000/39964 queries. users per second: 224642"
      ]
     },
     "metadata": {},
     "output_type": "display_data"
    },
    {
     "data": {
      "text/html": [
       "<pre>recommendations finished on 16000/39964 queries. users per second: 227541</pre>"
      ],
      "text/plain": [
       "recommendations finished on 16000/39964 queries. users per second: 227541"
      ]
     },
     "metadata": {},
     "output_type": "display_data"
    },
    {
     "data": {
      "text/html": [
       "<pre>recommendations finished on 17000/39964 queries. users per second: 226730</pre>"
      ],
      "text/plain": [
       "recommendations finished on 17000/39964 queries. users per second: 226730"
      ]
     },
     "metadata": {},
     "output_type": "display_data"
    },
    {
     "data": {
      "text/html": [
       "<pre>recommendations finished on 18000/39964 queries. users per second: 233251</pre>"
      ],
      "text/plain": [
       "recommendations finished on 18000/39964 queries. users per second: 233251"
      ]
     },
     "metadata": {},
     "output_type": "display_data"
    },
    {
     "data": {
      "text/html": [
       "<pre>recommendations finished on 19000/39964 queries. users per second: 227952</pre>"
      ],
      "text/plain": [
       "recommendations finished on 19000/39964 queries. users per second: 227952"
      ]
     },
     "metadata": {},
     "output_type": "display_data"
    },
    {
     "data": {
      "text/html": [
       "<pre>recommendations finished on 20000/39964 queries. users per second: 222551</pre>"
      ],
      "text/plain": [
       "recommendations finished on 20000/39964 queries. users per second: 222551"
      ]
     },
     "metadata": {},
     "output_type": "display_data"
    },
    {
     "data": {
      "text/html": [
       "<pre>recommendations finished on 21000/39964 queries. users per second: 223449</pre>"
      ],
      "text/plain": [
       "recommendations finished on 21000/39964 queries. users per second: 223449"
      ]
     },
     "metadata": {},
     "output_type": "display_data"
    },
    {
     "data": {
      "text/html": [
       "<pre>recommendations finished on 22000/39964 queries. users per second: 222950</pre>"
      ],
      "text/plain": [
       "recommendations finished on 22000/39964 queries. users per second: 222950"
      ]
     },
     "metadata": {},
     "output_type": "display_data"
    },
    {
     "data": {
      "text/html": [
       "<pre>recommendations finished on 23000/39964 queries. users per second: 224482</pre>"
      ],
      "text/plain": [
       "recommendations finished on 23000/39964 queries. users per second: 224482"
      ]
     },
     "metadata": {},
     "output_type": "display_data"
    },
    {
     "data": {
      "text/html": [
       "<pre>recommendations finished on 24000/39964 queries. users per second: 226112</pre>"
      ],
      "text/plain": [
       "recommendations finished on 24000/39964 queries. users per second: 226112"
      ]
     },
     "metadata": {},
     "output_type": "display_data"
    },
    {
     "data": {
      "text/html": [
       "<pre>recommendations finished on 25000/39964 queries. users per second: 226675</pre>"
      ],
      "text/plain": [
       "recommendations finished on 25000/39964 queries. users per second: 226675"
      ]
     },
     "metadata": {},
     "output_type": "display_data"
    },
    {
     "data": {
      "text/html": [
       "<pre>recommendations finished on 26000/39964 queries. users per second: 223314</pre>"
      ],
      "text/plain": [
       "recommendations finished on 26000/39964 queries. users per second: 223314"
      ]
     },
     "metadata": {},
     "output_type": "display_data"
    },
    {
     "data": {
      "text/html": [
       "<pre>recommendations finished on 27000/39964 queries. users per second: 226008</pre>"
      ],
      "text/plain": [
       "recommendations finished on 27000/39964 queries. users per second: 226008"
      ]
     },
     "metadata": {},
     "output_type": "display_data"
    },
    {
     "data": {
      "text/html": [
       "<pre>recommendations finished on 28000/39964 queries. users per second: 228370</pre>"
      ],
      "text/plain": [
       "recommendations finished on 28000/39964 queries. users per second: 228370"
      ]
     },
     "metadata": {},
     "output_type": "display_data"
    },
    {
     "data": {
      "text/html": [
       "<pre>recommendations finished on 29000/39964 queries. users per second: 228525</pre>"
      ],
      "text/plain": [
       "recommendations finished on 29000/39964 queries. users per second: 228525"
      ]
     },
     "metadata": {},
     "output_type": "display_data"
    },
    {
     "data": {
      "text/html": [
       "<pre>recommendations finished on 30000/39964 queries. users per second: 230337</pre>"
      ],
      "text/plain": [
       "recommendations finished on 30000/39964 queries. users per second: 230337"
      ]
     },
     "metadata": {},
     "output_type": "display_data"
    },
    {
     "data": {
      "text/html": [
       "<pre>recommendations finished on 31000/39964 queries. users per second: 230396</pre>"
      ],
      "text/plain": [
       "recommendations finished on 31000/39964 queries. users per second: 230396"
      ]
     },
     "metadata": {},
     "output_type": "display_data"
    },
    {
     "data": {
      "text/html": [
       "<pre>recommendations finished on 32000/39964 queries. users per second: 229981</pre>"
      ],
      "text/plain": [
       "recommendations finished on 32000/39964 queries. users per second: 229981"
      ]
     },
     "metadata": {},
     "output_type": "display_data"
    },
    {
     "data": {
      "text/html": [
       "<pre>recommendations finished on 33000/39964 queries. users per second: 229544</pre>"
      ],
      "text/plain": [
       "recommendations finished on 33000/39964 queries. users per second: 229544"
      ]
     },
     "metadata": {},
     "output_type": "display_data"
    },
    {
     "data": {
      "text/html": [
       "<pre>recommendations finished on 34000/39964 queries. users per second: 223820</pre>"
      ],
      "text/plain": [
       "recommendations finished on 34000/39964 queries. users per second: 223820"
      ]
     },
     "metadata": {},
     "output_type": "display_data"
    },
    {
     "data": {
      "text/html": [
       "<pre>recommendations finished on 35000/39964 queries. users per second: 223860</pre>"
      ],
      "text/plain": [
       "recommendations finished on 35000/39964 queries. users per second: 223860"
      ]
     },
     "metadata": {},
     "output_type": "display_data"
    },
    {
     "data": {
      "text/html": [
       "<pre>recommendations finished on 36000/39964 queries. users per second: 223225</pre>"
      ],
      "text/plain": [
       "recommendations finished on 36000/39964 queries. users per second: 223225"
      ]
     },
     "metadata": {},
     "output_type": "display_data"
    },
    {
     "data": {
      "text/html": [
       "<pre>recommendations finished on 37000/39964 queries. users per second: 220539</pre>"
      ],
      "text/plain": [
       "recommendations finished on 37000/39964 queries. users per second: 220539"
      ]
     },
     "metadata": {},
     "output_type": "display_data"
    },
    {
     "data": {
      "text/html": [
       "<pre>recommendations finished on 38000/39964 queries. users per second: 209518</pre>"
      ],
      "text/plain": [
       "recommendations finished on 38000/39964 queries. users per second: 209518"
      ]
     },
     "metadata": {},
     "output_type": "display_data"
    },
    {
     "data": {
      "text/html": [
       "<pre>recommendations finished on 39000/39964 queries. users per second: 206858</pre>"
      ],
      "text/plain": [
       "recommendations finished on 39000/39964 queries. users per second: 206858"
      ]
     },
     "metadata": {},
     "output_type": "display_data"
    },
    {
     "name": "stdout",
     "output_type": "stream",
     "text": [
      "+---------------+--------------+---------------------+------+\n",
      "| customer_code | product_code |        score        | rank |\n",
      "+---------------+--------------+---------------------+------+\n",
      "|     118972    |      20      |         0.4         |  1   |\n",
      "|     118972    |      3       | 0.35714285714285715 |  2   |\n",
      "|     118972    |      16      | 0.26666666666666666 |  3   |\n",
      "|     118972    |      15      |  0.2391304347826087 |  4   |\n",
      "|     118972    |      19      | 0.23166666666666666 |  5   |\n",
      "|     118972    |      5       | 0.22988505747126436 |  6   |\n",
      "|     118972    |      10      | 0.22510822510822517 |  7   |\n",
      "|     118972    |      17      | 0.20821114369501467 |  8   |\n",
      "|     118972    |      6       | 0.20219435736677116 |  9   |\n",
      "|     118972    |      14      | 0.18055555555555555 |  10  |\n",
      "|     118972    |      8       | 0.17647058823529413 |  11  |\n",
      "|     118972    |      9       | 0.16319444444444445 |  12  |\n",
      "|     118972    |      7       |  0.1621621621621628 |  13  |\n",
      "|     118972    |      4       | 0.15677031093279564 |  14  |\n",
      "|     118972    |      21      | 0.15511037634931935 |  15  |\n",
      "|     116132    |      20      |         0.4         |  1   |\n",
      "|     116132    |      3       | 0.35714285714285715 |  2   |\n",
      "|     116132    |      16      | 0.26666666666666666 |  3   |\n",
      "|     116132    |      15      |  0.2391304347826087 |  4   |\n",
      "|     116132    |      19      | 0.23166666666666666 |  5   |\n",
      "|     116132    |      5       | 0.22988505747126436 |  6   |\n",
      "|     116132    |      10      | 0.22510822510822517 |  7   |\n",
      "|     116132    |      17      | 0.20821114369501467 |  8   |\n",
      "|     116132    |      6       | 0.20219435736677116 |  9   |\n",
      "|     116132    |      14      | 0.18055555555555555 |  10  |\n",
      "|     116132    |      8       | 0.17647058823529413 |  11  |\n",
      "|     116132    |      9       | 0.16319444444444445 |  12  |\n",
      "|     116132    |      7       |  0.1621621621621628 |  13  |\n",
      "|     116132    |      4       | 0.15677031093279564 |  14  |\n",
      "|     116132    |      21      | 0.15511037634931935 |  15  |\n",
      "+---------------+--------------+---------------------+------+\n",
      "[599460 rows x 4 columns]\n",
      "\n"
     ]
    }
   ],
   "source": [
    "#Popularity model using scaled purchase frequencies\n",
    "name = 'popularity'\n",
    "target = 'scaled_purchase_freq'\n",
    "pop_norm = model(train_data_norm, name, user_id, item_id, target, users_to_recommend, n_rec, n_display)"
   ]
  },
  {
   "cell_type": "markdown",
   "metadata": {},
   "source": [
    "In the models above, we have a list of users, the most popular items, their score and their rank. This is showing us what each user was recommended. You'll notice that each user is recommended the same list of items in the exact same order. This is exactly what we want. We are looking for the most popular, and the most popular items should not change depending on the user. The different popularity models are taking in the 3 different data sets. The popularity of the product changes depending on the data we input."
   ]
  },
  {
   "cell_type": "markdown",
   "metadata": {},
   "source": [
    "### Collaborative Filtering Models"
   ]
  },
  {
   "cell_type": "markdown",
   "metadata": {},
   "source": [
    "As mentioned above, the ultimate goal is to be able to identify users who are similar and recommend products to them based on what other users like them bought that they have not already purchased themselves. The question is: How do we identify which users are similar?\n",
    "\n",
    "We will use a few different methods for defining similarity:\n",
    "\n",
    "    1. Create a user-item matrix where indexes represent customer IDs and column values represent product IDs.\n",
    "\n",
    "\n",
    "    2. Create an item-to-item similarity matrix. We will basically be calculating how 'similar' one product is to another product. There are a few different ways to do this, but for our example we will focus on the cosine and pearson measures of similarity.\n",
    "    \n",
    "        -For calculating the similarity between two products, we will look at all of the customers who purchased both of these items\n",
    "    \n",
    "        -Then we will create two-item vectors and find the cosine or pearson angle/distance between the vectors. Total similarity is equivalent to a cosine value of 1 and an angle of 90 degrees represents a cosine of 0, or no similarity.\n",
    "    \n",
    "\n",
    "    3. We will then predict the likelihood of a customer to buy a product for products they have not already purchased."
   ]
  },
  {
   "cell_type": "markdown",
   "metadata": {},
   "source": [
    "### Cosine Similarity Models"
   ]
  },
  {
   "cell_type": "code",
   "execution_count": 355,
   "metadata": {
    "scrolled": true
   },
   "outputs": [
    {
     "data": {
      "text/html": [
       "<pre>Preparing data set.</pre>"
      ],
      "text/plain": [
       "Preparing data set."
      ]
     },
     "metadata": {},
     "output_type": "display_data"
    },
    {
     "data": {
      "text/html": [
       "<pre>    Data has 19658 observations with 19658 users and 21 items.</pre>"
      ],
      "text/plain": [
       "    Data has 19658 observations with 19658 users and 21 items."
      ]
     },
     "metadata": {},
     "output_type": "display_data"
    },
    {
     "data": {
      "text/html": [
       "<pre>    Data prepared in: 0.048829s</pre>"
      ],
      "text/plain": [
       "    Data prepared in: 0.048829s"
      ]
     },
     "metadata": {},
     "output_type": "display_data"
    },
    {
     "data": {
      "text/html": [
       "<pre>Training model from provided data.</pre>"
      ],
      "text/plain": [
       "Training model from provided data."
      ]
     },
     "metadata": {},
     "output_type": "display_data"
    },
    {
     "data": {
      "text/html": [
       "<pre>Gathering per-item and per-user statistics.</pre>"
      ],
      "text/plain": [
       "Gathering per-item and per-user statistics."
      ]
     },
     "metadata": {},
     "output_type": "display_data"
    },
    {
     "data": {
      "text/html": [
       "<pre>+--------------------------------+------------+</pre>"
      ],
      "text/plain": [
       "+--------------------------------+------------+"
      ]
     },
     "metadata": {},
     "output_type": "display_data"
    },
    {
     "data": {
      "text/html": [
       "<pre>| Elapsed Time (Item Statistics) | % Complete |</pre>"
      ],
      "text/plain": [
       "| Elapsed Time (Item Statistics) | % Complete |"
      ]
     },
     "metadata": {},
     "output_type": "display_data"
    },
    {
     "data": {
      "text/html": [
       "<pre>+--------------------------------+------------+</pre>"
      ],
      "text/plain": [
       "+--------------------------------+------------+"
      ]
     },
     "metadata": {},
     "output_type": "display_data"
    },
    {
     "data": {
      "text/html": [
       "<pre>| 1.279ms                        | 5          |</pre>"
      ],
      "text/plain": [
       "| 1.279ms                        | 5          |"
      ]
     },
     "metadata": {},
     "output_type": "display_data"
    },
    {
     "data": {
      "text/html": [
       "<pre>| 4.237ms                        | 100        |</pre>"
      ],
      "text/plain": [
       "| 4.237ms                        | 100        |"
      ]
     },
     "metadata": {},
     "output_type": "display_data"
    },
    {
     "data": {
      "text/html": [
       "<pre>+--------------------------------+------------+</pre>"
      ],
      "text/plain": [
       "+--------------------------------+------------+"
      ]
     },
     "metadata": {},
     "output_type": "display_data"
    },
    {
     "data": {
      "text/html": [
       "<pre>Setting up lookup tables.</pre>"
      ],
      "text/plain": [
       "Setting up lookup tables."
      ]
     },
     "metadata": {},
     "output_type": "display_data"
    },
    {
     "data": {
      "text/html": [
       "<pre>Processing data in one pass using dense lookup tables.</pre>"
      ],
      "text/plain": [
       "Processing data in one pass using dense lookup tables."
      ]
     },
     "metadata": {},
     "output_type": "display_data"
    },
    {
     "data": {
      "text/html": [
       "<pre>+-------------------------------------+------------------+-----------------+</pre>"
      ],
      "text/plain": [
       "+-------------------------------------+------------------+-----------------+"
      ]
     },
     "metadata": {},
     "output_type": "display_data"
    },
    {
     "data": {
      "text/html": [
       "<pre>| Elapsed Time (Constructing Lookups) | Total % Complete | Items Processed |</pre>"
      ],
      "text/plain": [
       "| Elapsed Time (Constructing Lookups) | Total % Complete | Items Processed |"
      ]
     },
     "metadata": {},
     "output_type": "display_data"
    },
    {
     "data": {
      "text/html": [
       "<pre>+-------------------------------------+------------------+-----------------+</pre>"
      ],
      "text/plain": [
       "+-------------------------------------+------------------+-----------------+"
      ]
     },
     "metadata": {},
     "output_type": "display_data"
    },
    {
     "data": {
      "text/html": [
       "<pre>| 4.783ms                             | 0                | 0               |</pre>"
      ],
      "text/plain": [
       "| 4.783ms                             | 0                | 0               |"
      ]
     },
     "metadata": {},
     "output_type": "display_data"
    },
    {
     "data": {
      "text/html": [
       "<pre>| 10.007ms                            | 100              | 21              |</pre>"
      ],
      "text/plain": [
       "| 10.007ms                            | 100              | 21              |"
      ]
     },
     "metadata": {},
     "output_type": "display_data"
    },
    {
     "data": {
      "text/html": [
       "<pre>+-------------------------------------+------------------+-----------------+</pre>"
      ],
      "text/plain": [
       "+-------------------------------------+------------------+-----------------+"
      ]
     },
     "metadata": {},
     "output_type": "display_data"
    },
    {
     "data": {
      "text/html": [
       "<pre>Finalizing lookup tables.</pre>"
      ],
      "text/plain": [
       "Finalizing lookup tables."
      ]
     },
     "metadata": {},
     "output_type": "display_data"
    },
    {
     "data": {
      "text/html": [
       "<pre>Generating candidate set for working with new users.</pre>"
      ],
      "text/plain": [
       "Generating candidate set for working with new users."
      ]
     },
     "metadata": {},
     "output_type": "display_data"
    },
    {
     "data": {
      "text/html": [
       "<pre>Finished training in 0.018114s</pre>"
      ],
      "text/plain": [
       "Finished training in 0.018114s"
      ]
     },
     "metadata": {},
     "output_type": "display_data"
    },
    {
     "data": {
      "text/html": [
       "<pre>recommendations finished on 1000/39964 queries. users per second: 15914.2</pre>"
      ],
      "text/plain": [
       "recommendations finished on 1000/39964 queries. users per second: 15914.2"
      ]
     },
     "metadata": {},
     "output_type": "display_data"
    },
    {
     "data": {
      "text/html": [
       "<pre>recommendations finished on 2000/39964 queries. users per second: 20736.3</pre>"
      ],
      "text/plain": [
       "recommendations finished on 2000/39964 queries. users per second: 20736.3"
      ]
     },
     "metadata": {},
     "output_type": "display_data"
    },
    {
     "data": {
      "text/html": [
       "<pre>recommendations finished on 3000/39964 queries. users per second: 23857.4</pre>"
      ],
      "text/plain": [
       "recommendations finished on 3000/39964 queries. users per second: 23857.4"
      ]
     },
     "metadata": {},
     "output_type": "display_data"
    },
    {
     "data": {
      "text/html": [
       "<pre>recommendations finished on 4000/39964 queries. users per second: 28455.6</pre>"
      ],
      "text/plain": [
       "recommendations finished on 4000/39964 queries. users per second: 28455.6"
      ]
     },
     "metadata": {},
     "output_type": "display_data"
    },
    {
     "data": {
      "text/html": [
       "<pre>recommendations finished on 5000/39964 queries. users per second: 33983.3</pre>"
      ],
      "text/plain": [
       "recommendations finished on 5000/39964 queries. users per second: 33983.3"
      ]
     },
     "metadata": {},
     "output_type": "display_data"
    },
    {
     "data": {
      "text/html": [
       "<pre>recommendations finished on 6000/39964 queries. users per second: 38204.4</pre>"
      ],
      "text/plain": [
       "recommendations finished on 6000/39964 queries. users per second: 38204.4"
      ]
     },
     "metadata": {},
     "output_type": "display_data"
    },
    {
     "data": {
      "text/html": [
       "<pre>recommendations finished on 7000/39964 queries. users per second: 41330.9</pre>"
      ],
      "text/plain": [
       "recommendations finished on 7000/39964 queries. users per second: 41330.9"
      ]
     },
     "metadata": {},
     "output_type": "display_data"
    },
    {
     "data": {
      "text/html": [
       "<pre>recommendations finished on 8000/39964 queries. users per second: 45075.8</pre>"
      ],
      "text/plain": [
       "recommendations finished on 8000/39964 queries. users per second: 45075.8"
      ]
     },
     "metadata": {},
     "output_type": "display_data"
    },
    {
     "data": {
      "text/html": [
       "<pre>recommendations finished on 9000/39964 queries. users per second: 49492.4</pre>"
      ],
      "text/plain": [
       "recommendations finished on 9000/39964 queries. users per second: 49492.4"
      ]
     },
     "metadata": {},
     "output_type": "display_data"
    },
    {
     "data": {
      "text/html": [
       "<pre>recommendations finished on 10000/39964 queries. users per second: 53558.1</pre>"
      ],
      "text/plain": [
       "recommendations finished on 10000/39964 queries. users per second: 53558.1"
      ]
     },
     "metadata": {},
     "output_type": "display_data"
    },
    {
     "data": {
      "text/html": [
       "<pre>recommendations finished on 11000/39964 queries. users per second: 54111</pre>"
      ],
      "text/plain": [
       "recommendations finished on 11000/39964 queries. users per second: 54111"
      ]
     },
     "metadata": {},
     "output_type": "display_data"
    },
    {
     "data": {
      "text/html": [
       "<pre>recommendations finished on 12000/39964 queries. users per second: 56002</pre>"
      ],
      "text/plain": [
       "recommendations finished on 12000/39964 queries. users per second: 56002"
      ]
     },
     "metadata": {},
     "output_type": "display_data"
    },
    {
     "data": {
      "text/html": [
       "<pre>recommendations finished on 13000/39964 queries. users per second: 52985.1</pre>"
      ],
      "text/plain": [
       "recommendations finished on 13000/39964 queries. users per second: 52985.1"
      ]
     },
     "metadata": {},
     "output_type": "display_data"
    },
    {
     "data": {
      "text/html": [
       "<pre>recommendations finished on 14000/39964 queries. users per second: 53159.2</pre>"
      ],
      "text/plain": [
       "recommendations finished on 14000/39964 queries. users per second: 53159.2"
      ]
     },
     "metadata": {},
     "output_type": "display_data"
    },
    {
     "data": {
      "text/html": [
       "<pre>recommendations finished on 15000/39964 queries. users per second: 53131.4</pre>"
      ],
      "text/plain": [
       "recommendations finished on 15000/39964 queries. users per second: 53131.4"
      ]
     },
     "metadata": {},
     "output_type": "display_data"
    },
    {
     "data": {
      "text/html": [
       "<pre>recommendations finished on 16000/39964 queries. users per second: 55635.1</pre>"
      ],
      "text/plain": [
       "recommendations finished on 16000/39964 queries. users per second: 55635.1"
      ]
     },
     "metadata": {},
     "output_type": "display_data"
    },
    {
     "data": {
      "text/html": [
       "<pre>recommendations finished on 17000/39964 queries. users per second: 56619.3</pre>"
      ],
      "text/plain": [
       "recommendations finished on 17000/39964 queries. users per second: 56619.3"
      ]
     },
     "metadata": {},
     "output_type": "display_data"
    },
    {
     "data": {
      "text/html": [
       "<pre>recommendations finished on 18000/39964 queries. users per second: 56381.6</pre>"
      ],
      "text/plain": [
       "recommendations finished on 18000/39964 queries. users per second: 56381.6"
      ]
     },
     "metadata": {},
     "output_type": "display_data"
    },
    {
     "data": {
      "text/html": [
       "<pre>recommendations finished on 19000/39964 queries. users per second: 57903.7</pre>"
      ],
      "text/plain": [
       "recommendations finished on 19000/39964 queries. users per second: 57903.7"
      ]
     },
     "metadata": {},
     "output_type": "display_data"
    },
    {
     "data": {
      "text/html": [
       "<pre>recommendations finished on 20000/39964 queries. users per second: 60184</pre>"
      ],
      "text/plain": [
       "recommendations finished on 20000/39964 queries. users per second: 60184"
      ]
     },
     "metadata": {},
     "output_type": "display_data"
    },
    {
     "data": {
      "text/html": [
       "<pre>recommendations finished on 21000/39964 queries. users per second: 61907.3</pre>"
      ],
      "text/plain": [
       "recommendations finished on 21000/39964 queries. users per second: 61907.3"
      ]
     },
     "metadata": {},
     "output_type": "display_data"
    },
    {
     "data": {
      "text/html": [
       "<pre>recommendations finished on 22000/39964 queries. users per second: 60951.1</pre>"
      ],
      "text/plain": [
       "recommendations finished on 22000/39964 queries. users per second: 60951.1"
      ]
     },
     "metadata": {},
     "output_type": "display_data"
    },
    {
     "data": {
      "text/html": [
       "<pre>recommendations finished on 23000/39964 queries. users per second: 61685</pre>"
      ],
      "text/plain": [
       "recommendations finished on 23000/39964 queries. users per second: 61685"
      ]
     },
     "metadata": {},
     "output_type": "display_data"
    },
    {
     "data": {
      "text/html": [
       "<pre>recommendations finished on 24000/39964 queries. users per second: 63187.5</pre>"
      ],
      "text/plain": [
       "recommendations finished on 24000/39964 queries. users per second: 63187.5"
      ]
     },
     "metadata": {},
     "output_type": "display_data"
    },
    {
     "data": {
      "text/html": [
       "<pre>recommendations finished on 25000/39964 queries. users per second: 62160.3</pre>"
      ],
      "text/plain": [
       "recommendations finished on 25000/39964 queries. users per second: 62160.3"
      ]
     },
     "metadata": {},
     "output_type": "display_data"
    },
    {
     "data": {
      "text/html": [
       "<pre>recommendations finished on 26000/39964 queries. users per second: 61812.6</pre>"
      ],
      "text/plain": [
       "recommendations finished on 26000/39964 queries. users per second: 61812.6"
      ]
     },
     "metadata": {},
     "output_type": "display_data"
    },
    {
     "data": {
      "text/html": [
       "<pre>recommendations finished on 27000/39964 queries. users per second: 62078.4</pre>"
      ],
      "text/plain": [
       "recommendations finished on 27000/39964 queries. users per second: 62078.4"
      ]
     },
     "metadata": {},
     "output_type": "display_data"
    },
    {
     "data": {
      "text/html": [
       "<pre>recommendations finished on 28000/39964 queries. users per second: 63025.2</pre>"
      ],
      "text/plain": [
       "recommendations finished on 28000/39964 queries. users per second: 63025.2"
      ]
     },
     "metadata": {},
     "output_type": "display_data"
    },
    {
     "data": {
      "text/html": [
       "<pre>recommendations finished on 29000/39964 queries. users per second: 64278</pre>"
      ],
      "text/plain": [
       "recommendations finished on 29000/39964 queries. users per second: 64278"
      ]
     },
     "metadata": {},
     "output_type": "display_data"
    },
    {
     "data": {
      "text/html": [
       "<pre>recommendations finished on 30000/39964 queries. users per second: 65771.9</pre>"
      ],
      "text/plain": [
       "recommendations finished on 30000/39964 queries. users per second: 65771.9"
      ]
     },
     "metadata": {},
     "output_type": "display_data"
    },
    {
     "data": {
      "text/html": [
       "<pre>recommendations finished on 31000/39964 queries. users per second: 67345.3</pre>"
      ],
      "text/plain": [
       "recommendations finished on 31000/39964 queries. users per second: 67345.3"
      ]
     },
     "metadata": {},
     "output_type": "display_data"
    },
    {
     "data": {
      "text/html": [
       "<pre>recommendations finished on 32000/39964 queries. users per second: 67652.8</pre>"
      ],
      "text/plain": [
       "recommendations finished on 32000/39964 queries. users per second: 67652.8"
      ]
     },
     "metadata": {},
     "output_type": "display_data"
    },
    {
     "data": {
      "text/html": [
       "<pre>recommendations finished on 33000/39964 queries. users per second: 68921.2</pre>"
      ],
      "text/plain": [
       "recommendations finished on 33000/39964 queries. users per second: 68921.2"
      ]
     },
     "metadata": {},
     "output_type": "display_data"
    },
    {
     "data": {
      "text/html": [
       "<pre>recommendations finished on 34000/39964 queries. users per second: 70312.6</pre>"
      ],
      "text/plain": [
       "recommendations finished on 34000/39964 queries. users per second: 70312.6"
      ]
     },
     "metadata": {},
     "output_type": "display_data"
    },
    {
     "data": {
      "text/html": [
       "<pre>recommendations finished on 35000/39964 queries. users per second: 71057.5</pre>"
      ],
      "text/plain": [
       "recommendations finished on 35000/39964 queries. users per second: 71057.5"
      ]
     },
     "metadata": {},
     "output_type": "display_data"
    },
    {
     "data": {
      "text/html": [
       "<pre>recommendations finished on 36000/39964 queries. users per second: 71693.2</pre>"
      ],
      "text/plain": [
       "recommendations finished on 36000/39964 queries. users per second: 71693.2"
      ]
     },
     "metadata": {},
     "output_type": "display_data"
    },
    {
     "data": {
      "text/html": [
       "<pre>recommendations finished on 37000/39964 queries. users per second: 71134.8</pre>"
      ],
      "text/plain": [
       "recommendations finished on 37000/39964 queries. users per second: 71134.8"
      ]
     },
     "metadata": {},
     "output_type": "display_data"
    },
    {
     "data": {
      "text/html": [
       "<pre>recommendations finished on 38000/39964 queries. users per second: 72431.6</pre>"
      ],
      "text/plain": [
       "recommendations finished on 38000/39964 queries. users per second: 72431.6"
      ]
     },
     "metadata": {},
     "output_type": "display_data"
    },
    {
     "data": {
      "text/html": [
       "<pre>recommendations finished on 39000/39964 queries. users per second: 63518.4</pre>"
      ],
      "text/plain": [
       "recommendations finished on 39000/39964 queries. users per second: 63518.4"
      ]
     },
     "metadata": {},
     "output_type": "display_data"
    },
    {
     "name": "stdout",
     "output_type": "stream",
     "text": [
      "+---------------+--------------+---------------------+------+\n",
      "| customer_code | product_code |        score        | rank |\n",
      "+---------------+--------------+---------------------+------+\n",
      "|     118972    |      21      |  0.4760633276694447 |  1   |\n",
      "|     118972    |      1       |  0.3921568627450981 |  2   |\n",
      "|     118972    |      19      |  0.2981129755977626 |  3   |\n",
      "|     118972    |      20      |  0.2921568627450981 |  4   |\n",
      "|     118972    |      16      | 0.28104575163398693 |  5   |\n",
      "|     118972    |      18      |  0.2626402038994857 |  6   |\n",
      "|     118972    |      17      | 0.25262197902416783 |  7   |\n",
      "|     118972    |      6       |  0.2062193627450981 |  8   |\n",
      "|     118972    |      13      |  0.1741793346552104 |  9   |\n",
      "|     118972    |      12      | 0.17360340362560123 |  10  |\n",
      "|     118972    |      7       | 0.17244433707774698 |  11  |\n",
      "|     118972    |      4       | 0.17032411362141253 |  12  |\n",
      "|     118972    |      3       | 0.16138763197586736 |  13  |\n",
      "|     118972    |      11      | 0.12253759312582846 |  14  |\n",
      "|     118972    |      10      | 0.11010558069381604 |  15  |\n",
      "|     116132    |      21      |  0.4760633276694447 |  1   |\n",
      "|     116132    |      1       |  0.3921568627450981 |  2   |\n",
      "|     116132    |      19      |  0.2981129755977626 |  3   |\n",
      "|     116132    |      20      |  0.2921568627450981 |  4   |\n",
      "|     116132    |      16      | 0.28104575163398693 |  5   |\n",
      "|     116132    |      18      |  0.2626402038994857 |  6   |\n",
      "|     116132    |      17      | 0.25262197902416783 |  7   |\n",
      "|     116132    |      6       |  0.2062193627450981 |  8   |\n",
      "|     116132    |      13      |  0.1741793346552104 |  9   |\n",
      "|     116132    |      12      | 0.17360340362560123 |  10  |\n",
      "|     116132    |      7       | 0.17244433707774698 |  11  |\n",
      "|     116132    |      4       | 0.17032411362141253 |  12  |\n",
      "|     116132    |      3       | 0.16138763197586736 |  13  |\n",
      "|     116132    |      11      | 0.12253759312582846 |  14  |\n",
      "|     116132    |      10      | 0.11010558069381604 |  15  |\n",
      "+---------------+--------------+---------------------+------+\n",
      "[599460 rows x 4 columns]\n",
      "\n"
     ]
    }
   ],
   "source": [
    "#Cosine similarity model using purchase counts\n",
    "name = 'cosine'\n",
    "target = 'purchase_counts'\n",
    "cos = model(train_data, name, user_id, item_id, target, users_to_recommend, n_rec, n_display)"
   ]
  },
  {
   "cell_type": "code",
   "execution_count": 356,
   "metadata": {},
   "outputs": [
    {
     "data": {
      "text/html": [
       "<pre>Warning: Ignoring columns purchase_counts;</pre>"
      ],
      "text/plain": [
       "Warning: Ignoring columns purchase_counts;"
      ]
     },
     "metadata": {},
     "output_type": "display_data"
    },
    {
     "data": {
      "text/html": [
       "<pre>    To use these columns in scoring predictions, use a model that allows the use of additional features.</pre>"
      ],
      "text/plain": [
       "    To use these columns in scoring predictions, use a model that allows the use of additional features."
      ]
     },
     "metadata": {},
     "output_type": "display_data"
    },
    {
     "data": {
      "text/html": [
       "<pre>Preparing data set.</pre>"
      ],
      "text/plain": [
       "Preparing data set."
      ]
     },
     "metadata": {},
     "output_type": "display_data"
    },
    {
     "data": {
      "text/html": [
       "<pre>    Data has 19658 observations with 19658 users and 21 items.</pre>"
      ],
      "text/plain": [
       "    Data has 19658 observations with 19658 users and 21 items."
      ]
     },
     "metadata": {},
     "output_type": "display_data"
    },
    {
     "data": {
      "text/html": [
       "<pre>    Data prepared in: 0.047318s</pre>"
      ],
      "text/plain": [
       "    Data prepared in: 0.047318s"
      ]
     },
     "metadata": {},
     "output_type": "display_data"
    },
    {
     "data": {
      "text/html": [
       "<pre>Training model from provided data.</pre>"
      ],
      "text/plain": [
       "Training model from provided data."
      ]
     },
     "metadata": {},
     "output_type": "display_data"
    },
    {
     "data": {
      "text/html": [
       "<pre>Gathering per-item and per-user statistics.</pre>"
      ],
      "text/plain": [
       "Gathering per-item and per-user statistics."
      ]
     },
     "metadata": {},
     "output_type": "display_data"
    },
    {
     "data": {
      "text/html": [
       "<pre>+--------------------------------+------------+</pre>"
      ],
      "text/plain": [
       "+--------------------------------+------------+"
      ]
     },
     "metadata": {},
     "output_type": "display_data"
    },
    {
     "data": {
      "text/html": [
       "<pre>| Elapsed Time (Item Statistics) | % Complete |</pre>"
      ],
      "text/plain": [
       "| Elapsed Time (Item Statistics) | % Complete |"
      ]
     },
     "metadata": {},
     "output_type": "display_data"
    },
    {
     "data": {
      "text/html": [
       "<pre>+--------------------------------+------------+</pre>"
      ],
      "text/plain": [
       "+--------------------------------+------------+"
      ]
     },
     "metadata": {},
     "output_type": "display_data"
    },
    {
     "data": {
      "text/html": [
       "<pre>| 1.326ms                        | 5          |</pre>"
      ],
      "text/plain": [
       "| 1.326ms                        | 5          |"
      ]
     },
     "metadata": {},
     "output_type": "display_data"
    },
    {
     "data": {
      "text/html": [
       "<pre>| 3.565ms                        | 100        |</pre>"
      ],
      "text/plain": [
       "| 3.565ms                        | 100        |"
      ]
     },
     "metadata": {},
     "output_type": "display_data"
    },
    {
     "data": {
      "text/html": [
       "<pre>+--------------------------------+------------+</pre>"
      ],
      "text/plain": [
       "+--------------------------------+------------+"
      ]
     },
     "metadata": {},
     "output_type": "display_data"
    },
    {
     "data": {
      "text/html": [
       "<pre>Setting up lookup tables.</pre>"
      ],
      "text/plain": [
       "Setting up lookup tables."
      ]
     },
     "metadata": {},
     "output_type": "display_data"
    },
    {
     "data": {
      "text/html": [
       "<pre>Processing data in one pass using dense lookup tables.</pre>"
      ],
      "text/plain": [
       "Processing data in one pass using dense lookup tables."
      ]
     },
     "metadata": {},
     "output_type": "display_data"
    },
    {
     "data": {
      "text/html": [
       "<pre>+-------------------------------------+------------------+-----------------+</pre>"
      ],
      "text/plain": [
       "+-------------------------------------+------------------+-----------------+"
      ]
     },
     "metadata": {},
     "output_type": "display_data"
    },
    {
     "data": {
      "text/html": [
       "<pre>| Elapsed Time (Constructing Lookups) | Total % Complete | Items Processed |</pre>"
      ],
      "text/plain": [
       "| Elapsed Time (Constructing Lookups) | Total % Complete | Items Processed |"
      ]
     },
     "metadata": {},
     "output_type": "display_data"
    },
    {
     "data": {
      "text/html": [
       "<pre>+-------------------------------------+------------------+-----------------+</pre>"
      ],
      "text/plain": [
       "+-------------------------------------+------------------+-----------------+"
      ]
     },
     "metadata": {},
     "output_type": "display_data"
    },
    {
     "data": {
      "text/html": [
       "<pre>| 4.161ms                             | 0                | 0               |</pre>"
      ],
      "text/plain": [
       "| 4.161ms                             | 0                | 0               |"
      ]
     },
     "metadata": {},
     "output_type": "display_data"
    },
    {
     "data": {
      "text/html": [
       "<pre>| 10.163ms                            | 100              | 21              |</pre>"
      ],
      "text/plain": [
       "| 10.163ms                            | 100              | 21              |"
      ]
     },
     "metadata": {},
     "output_type": "display_data"
    },
    {
     "data": {
      "text/html": [
       "<pre>+-------------------------------------+------------------+-----------------+</pre>"
      ],
      "text/plain": [
       "+-------------------------------------+------------------+-----------------+"
      ]
     },
     "metadata": {},
     "output_type": "display_data"
    },
    {
     "data": {
      "text/html": [
       "<pre>Finalizing lookup tables.</pre>"
      ],
      "text/plain": [
       "Finalizing lookup tables."
      ]
     },
     "metadata": {},
     "output_type": "display_data"
    },
    {
     "data": {
      "text/html": [
       "<pre>Generating candidate set for working with new users.</pre>"
      ],
      "text/plain": [
       "Generating candidate set for working with new users."
      ]
     },
     "metadata": {},
     "output_type": "display_data"
    },
    {
     "data": {
      "text/html": [
       "<pre>Finished training in 0.012373s</pre>"
      ],
      "text/plain": [
       "Finished training in 0.012373s"
      ]
     },
     "metadata": {},
     "output_type": "display_data"
    },
    {
     "data": {
      "text/html": [
       "<pre>recommendations finished on 1000/39964 queries. users per second: 76080.3</pre>"
      ],
      "text/plain": [
       "recommendations finished on 1000/39964 queries. users per second: 76080.3"
      ]
     },
     "metadata": {},
     "output_type": "display_data"
    },
    {
     "data": {
      "text/html": [
       "<pre>recommendations finished on 2000/39964 queries. users per second: 49481.7</pre>"
      ],
      "text/plain": [
       "recommendations finished on 2000/39964 queries. users per second: 49481.7"
      ]
     },
     "metadata": {},
     "output_type": "display_data"
    },
    {
     "data": {
      "text/html": [
       "<pre>recommendations finished on 3000/39964 queries. users per second: 41158.5</pre>"
      ],
      "text/plain": [
       "recommendations finished on 3000/39964 queries. users per second: 41158.5"
      ]
     },
     "metadata": {},
     "output_type": "display_data"
    },
    {
     "data": {
      "text/html": [
       "<pre>recommendations finished on 4000/39964 queries. users per second: 49761.8</pre>"
      ],
      "text/plain": [
       "recommendations finished on 4000/39964 queries. users per second: 49761.8"
      ]
     },
     "metadata": {},
     "output_type": "display_data"
    },
    {
     "data": {
      "text/html": [
       "<pre>recommendations finished on 5000/39964 queries. users per second: 54981.3</pre>"
      ],
      "text/plain": [
       "recommendations finished on 5000/39964 queries. users per second: 54981.3"
      ]
     },
     "metadata": {},
     "output_type": "display_data"
    },
    {
     "data": {
      "text/html": [
       "<pre>recommendations finished on 6000/39964 queries. users per second: 62482.4</pre>"
      ],
      "text/plain": [
       "recommendations finished on 6000/39964 queries. users per second: 62482.4"
      ]
     },
     "metadata": {},
     "output_type": "display_data"
    },
    {
     "data": {
      "text/html": [
       "<pre>recommendations finished on 7000/39964 queries. users per second: 59710.7</pre>"
      ],
      "text/plain": [
       "recommendations finished on 7000/39964 queries. users per second: 59710.7"
      ]
     },
     "metadata": {},
     "output_type": "display_data"
    },
    {
     "data": {
      "text/html": [
       "<pre>recommendations finished on 8000/39964 queries. users per second: 55949.5</pre>"
      ],
      "text/plain": [
       "recommendations finished on 8000/39964 queries. users per second: 55949.5"
      ]
     },
     "metadata": {},
     "output_type": "display_data"
    },
    {
     "data": {
      "text/html": [
       "<pre>recommendations finished on 9000/39964 queries. users per second: 60590.1</pre>"
      ],
      "text/plain": [
       "recommendations finished on 9000/39964 queries. users per second: 60590.1"
      ]
     },
     "metadata": {},
     "output_type": "display_data"
    },
    {
     "data": {
      "text/html": [
       "<pre>recommendations finished on 10000/39964 queries. users per second: 60913.2</pre>"
      ],
      "text/plain": [
       "recommendations finished on 10000/39964 queries. users per second: 60913.2"
      ]
     },
     "metadata": {},
     "output_type": "display_data"
    },
    {
     "data": {
      "text/html": [
       "<pre>recommendations finished on 11000/39964 queries. users per second: 55550.2</pre>"
      ],
      "text/plain": [
       "recommendations finished on 11000/39964 queries. users per second: 55550.2"
      ]
     },
     "metadata": {},
     "output_type": "display_data"
    },
    {
     "data": {
      "text/html": [
       "<pre>recommendations finished on 12000/39964 queries. users per second: 52726.2</pre>"
      ],
      "text/plain": [
       "recommendations finished on 12000/39964 queries. users per second: 52726.2"
      ]
     },
     "metadata": {},
     "output_type": "display_data"
    },
    {
     "data": {
      "text/html": [
       "<pre>recommendations finished on 13000/39964 queries. users per second: 50442.1</pre>"
      ],
      "text/plain": [
       "recommendations finished on 13000/39964 queries. users per second: 50442.1"
      ]
     },
     "metadata": {},
     "output_type": "display_data"
    },
    {
     "data": {
      "text/html": [
       "<pre>recommendations finished on 14000/39964 queries. users per second: 49797.3</pre>"
      ],
      "text/plain": [
       "recommendations finished on 14000/39964 queries. users per second: 49797.3"
      ]
     },
     "metadata": {},
     "output_type": "display_data"
    },
    {
     "data": {
      "text/html": [
       "<pre>recommendations finished on 15000/39964 queries. users per second: 49425</pre>"
      ],
      "text/plain": [
       "recommendations finished on 15000/39964 queries. users per second: 49425"
      ]
     },
     "metadata": {},
     "output_type": "display_data"
    },
    {
     "data": {
      "text/html": [
       "<pre>recommendations finished on 16000/39964 queries. users per second: 50907.9</pre>"
      ],
      "text/plain": [
       "recommendations finished on 16000/39964 queries. users per second: 50907.9"
      ]
     },
     "metadata": {},
     "output_type": "display_data"
    },
    {
     "data": {
      "text/html": [
       "<pre>recommendations finished on 17000/39964 queries. users per second: 53486.7</pre>"
      ],
      "text/plain": [
       "recommendations finished on 17000/39964 queries. users per second: 53486.7"
      ]
     },
     "metadata": {},
     "output_type": "display_data"
    },
    {
     "data": {
      "text/html": [
       "<pre>recommendations finished on 18000/39964 queries. users per second: 55111.3</pre>"
      ],
      "text/plain": [
       "recommendations finished on 18000/39964 queries. users per second: 55111.3"
      ]
     },
     "metadata": {},
     "output_type": "display_data"
    },
    {
     "data": {
      "text/html": [
       "<pre>recommendations finished on 19000/39964 queries. users per second: 57260.5</pre>"
      ],
      "text/plain": [
       "recommendations finished on 19000/39964 queries. users per second: 57260.5"
      ]
     },
     "metadata": {},
     "output_type": "display_data"
    },
    {
     "data": {
      "text/html": [
       "<pre>recommendations finished on 20000/39964 queries. users per second: 59126.1</pre>"
      ],
      "text/plain": [
       "recommendations finished on 20000/39964 queries. users per second: 59126.1"
      ]
     },
     "metadata": {},
     "output_type": "display_data"
    },
    {
     "data": {
      "text/html": [
       "<pre>recommendations finished on 21000/39964 queries. users per second: 58317.6</pre>"
      ],
      "text/plain": [
       "recommendations finished on 21000/39964 queries. users per second: 58317.6"
      ]
     },
     "metadata": {},
     "output_type": "display_data"
    },
    {
     "data": {
      "text/html": [
       "<pre>recommendations finished on 22000/39964 queries. users per second: 56760</pre>"
      ],
      "text/plain": [
       "recommendations finished on 22000/39964 queries. users per second: 56760"
      ]
     },
     "metadata": {},
     "output_type": "display_data"
    },
    {
     "data": {
      "text/html": [
       "<pre>recommendations finished on 23000/39964 queries. users per second: 57874.7</pre>"
      ],
      "text/plain": [
       "recommendations finished on 23000/39964 queries. users per second: 57874.7"
      ]
     },
     "metadata": {},
     "output_type": "display_data"
    },
    {
     "data": {
      "text/html": [
       "<pre>recommendations finished on 24000/39964 queries. users per second: 57986.1</pre>"
      ],
      "text/plain": [
       "recommendations finished on 24000/39964 queries. users per second: 57986.1"
      ]
     },
     "metadata": {},
     "output_type": "display_data"
    },
    {
     "data": {
      "text/html": [
       "<pre>recommendations finished on 25000/39964 queries. users per second: 56101.4</pre>"
      ],
      "text/plain": [
       "recommendations finished on 25000/39964 queries. users per second: 56101.4"
      ]
     },
     "metadata": {},
     "output_type": "display_data"
    },
    {
     "data": {
      "text/html": [
       "<pre>recommendations finished on 26000/39964 queries. users per second: 56166.9</pre>"
      ],
      "text/plain": [
       "recommendations finished on 26000/39964 queries. users per second: 56166.9"
      ]
     },
     "metadata": {},
     "output_type": "display_data"
    },
    {
     "data": {
      "text/html": [
       "<pre>recommendations finished on 27000/39964 queries. users per second: 54975.5</pre>"
      ],
      "text/plain": [
       "recommendations finished on 27000/39964 queries. users per second: 54975.5"
      ]
     },
     "metadata": {},
     "output_type": "display_data"
    },
    {
     "data": {
      "text/html": [
       "<pre>recommendations finished on 28000/39964 queries. users per second: 54811.7</pre>"
      ],
      "text/plain": [
       "recommendations finished on 28000/39964 queries. users per second: 54811.7"
      ]
     },
     "metadata": {},
     "output_type": "display_data"
    },
    {
     "data": {
      "text/html": [
       "<pre>recommendations finished on 29000/39964 queries. users per second: 54004.1</pre>"
      ],
      "text/plain": [
       "recommendations finished on 29000/39964 queries. users per second: 54004.1"
      ]
     },
     "metadata": {},
     "output_type": "display_data"
    },
    {
     "data": {
      "text/html": [
       "<pre>recommendations finished on 30000/39964 queries. users per second: 52413.7</pre>"
      ],
      "text/plain": [
       "recommendations finished on 30000/39964 queries. users per second: 52413.7"
      ]
     },
     "metadata": {},
     "output_type": "display_data"
    },
    {
     "data": {
      "text/html": [
       "<pre>recommendations finished on 31000/39964 queries. users per second: 51310.7</pre>"
      ],
      "text/plain": [
       "recommendations finished on 31000/39964 queries. users per second: 51310.7"
      ]
     },
     "metadata": {},
     "output_type": "display_data"
    },
    {
     "data": {
      "text/html": [
       "<pre>recommendations finished on 32000/39964 queries. users per second: 51055.8</pre>"
      ],
      "text/plain": [
       "recommendations finished on 32000/39964 queries. users per second: 51055.8"
      ]
     },
     "metadata": {},
     "output_type": "display_data"
    },
    {
     "data": {
      "text/html": [
       "<pre>recommendations finished on 33000/39964 queries. users per second: 50846.5</pre>"
      ],
      "text/plain": [
       "recommendations finished on 33000/39964 queries. users per second: 50846.5"
      ]
     },
     "metadata": {},
     "output_type": "display_data"
    },
    {
     "data": {
      "text/html": [
       "<pre>recommendations finished on 34000/39964 queries. users per second: 51763.4</pre>"
      ],
      "text/plain": [
       "recommendations finished on 34000/39964 queries. users per second: 51763.4"
      ]
     },
     "metadata": {},
     "output_type": "display_data"
    },
    {
     "data": {
      "text/html": [
       "<pre>recommendations finished on 35000/39964 queries. users per second: 52571.3</pre>"
      ],
      "text/plain": [
       "recommendations finished on 35000/39964 queries. users per second: 52571.3"
      ]
     },
     "metadata": {},
     "output_type": "display_data"
    },
    {
     "data": {
      "text/html": [
       "<pre>recommendations finished on 36000/39964 queries. users per second: 52782.4</pre>"
      ],
      "text/plain": [
       "recommendations finished on 36000/39964 queries. users per second: 52782.4"
      ]
     },
     "metadata": {},
     "output_type": "display_data"
    },
    {
     "data": {
      "text/html": [
       "<pre>recommendations finished on 37000/39964 queries. users per second: 53546.6</pre>"
      ],
      "text/plain": [
       "recommendations finished on 37000/39964 queries. users per second: 53546.6"
      ]
     },
     "metadata": {},
     "output_type": "display_data"
    },
    {
     "data": {
      "text/html": [
       "<pre>recommendations finished on 38000/39964 queries. users per second: 54030.9</pre>"
      ],
      "text/plain": [
       "recommendations finished on 38000/39964 queries. users per second: 54030.9"
      ]
     },
     "metadata": {},
     "output_type": "display_data"
    },
    {
     "data": {
      "text/html": [
       "<pre>recommendations finished on 39000/39964 queries. users per second: 54125.1</pre>"
      ],
      "text/plain": [
       "recommendations finished on 39000/39964 queries. users per second: 54125.1"
      ]
     },
     "metadata": {},
     "output_type": "display_data"
    },
    {
     "name": "stdout",
     "output_type": "stream",
     "text": [
      "+---------------+--------------+-------+------+\n",
      "| customer_code | product_code | score | rank |\n",
      "+---------------+--------------+-------+------+\n",
      "|     118972    |      4       |  0.0  |  1   |\n",
      "|     118972    |      18      |  0.0  |  2   |\n",
      "|     118972    |      21      |  0.0  |  3   |\n",
      "|     118972    |      11      |  0.0  |  4   |\n",
      "|     118972    |      13      |  0.0  |  5   |\n",
      "|     118972    |      9       |  0.0  |  6   |\n",
      "|     118972    |      12      |  0.0  |  7   |\n",
      "|     118972    |      6       |  0.0  |  8   |\n",
      "|     118972    |      10      |  0.0  |  9   |\n",
      "|     118972    |      19      |  0.0  |  10  |\n",
      "|     118972    |      7       |  0.0  |  11  |\n",
      "|     118972    |      3       |  0.0  |  12  |\n",
      "|     118972    |      17      |  0.0  |  13  |\n",
      "|     118972    |      8       |  0.0  |  14  |\n",
      "|     118972    |      14      |  0.0  |  15  |\n",
      "|     116132    |      4       |  0.0  |  1   |\n",
      "|     116132    |      18      |  0.0  |  2   |\n",
      "|     116132    |      21      |  0.0  |  3   |\n",
      "|     116132    |      11      |  0.0  |  4   |\n",
      "|     116132    |      13      |  0.0  |  5   |\n",
      "|     116132    |      9       |  0.0  |  6   |\n",
      "|     116132    |      12      |  0.0  |  7   |\n",
      "|     116132    |      6       |  0.0  |  8   |\n",
      "|     116132    |      10      |  0.0  |  9   |\n",
      "|     116132    |      19      |  0.0  |  10  |\n",
      "|     116132    |      7       |  0.0  |  11  |\n",
      "|     116132    |      3       |  0.0  |  12  |\n",
      "|     116132    |      17      |  0.0  |  13  |\n",
      "|     116132    |      8       |  0.0  |  14  |\n",
      "|     116132    |      14      |  0.0  |  15  |\n",
      "+---------------+--------------+-------+------+\n",
      "[599460 rows x 4 columns]\n",
      "\n"
     ]
    }
   ],
   "source": [
    "#Cosine similarity model using purchase dummies\n",
    "name = 'cosine'\n",
    "target = 'purchase_dummy'\n",
    "cos_dummy = model(train_data_dummy, name, user_id, item_id, target, users_to_recommend, n_rec, n_display)"
   ]
  },
  {
   "cell_type": "code",
   "execution_count": 357,
   "metadata": {},
   "outputs": [
    {
     "data": {
      "text/html": [
       "<pre>Preparing data set.</pre>"
      ],
      "text/plain": [
       "Preparing data set."
      ]
     },
     "metadata": {},
     "output_type": "display_data"
    },
    {
     "data": {
      "text/html": [
       "<pre>    Data has 19657 observations with 19657 users and 20 items.</pre>"
      ],
      "text/plain": [
       "    Data has 19657 observations with 19657 users and 20 items."
      ]
     },
     "metadata": {},
     "output_type": "display_data"
    },
    {
     "data": {
      "text/html": [
       "<pre>    Data prepared in: 0.052753s</pre>"
      ],
      "text/plain": [
       "    Data prepared in: 0.052753s"
      ]
     },
     "metadata": {},
     "output_type": "display_data"
    },
    {
     "data": {
      "text/html": [
       "<pre>Training model from provided data.</pre>"
      ],
      "text/plain": [
       "Training model from provided data."
      ]
     },
     "metadata": {},
     "output_type": "display_data"
    },
    {
     "data": {
      "text/html": [
       "<pre>Gathering per-item and per-user statistics.</pre>"
      ],
      "text/plain": [
       "Gathering per-item and per-user statistics."
      ]
     },
     "metadata": {},
     "output_type": "display_data"
    },
    {
     "data": {
      "text/html": [
       "<pre>+--------------------------------+------------+</pre>"
      ],
      "text/plain": [
       "+--------------------------------+------------+"
      ]
     },
     "metadata": {},
     "output_type": "display_data"
    },
    {
     "data": {
      "text/html": [
       "<pre>| Elapsed Time (Item Statistics) | % Complete |</pre>"
      ],
      "text/plain": [
       "| Elapsed Time (Item Statistics) | % Complete |"
      ]
     },
     "metadata": {},
     "output_type": "display_data"
    },
    {
     "data": {
      "text/html": [
       "<pre>+--------------------------------+------------+</pre>"
      ],
      "text/plain": [
       "+--------------------------------+------------+"
      ]
     },
     "metadata": {},
     "output_type": "display_data"
    },
    {
     "data": {
      "text/html": [
       "<pre>| 1.328ms                        | 5          |</pre>"
      ],
      "text/plain": [
       "| 1.328ms                        | 5          |"
      ]
     },
     "metadata": {},
     "output_type": "display_data"
    },
    {
     "data": {
      "text/html": [
       "<pre>| 5.246ms                        | 100        |</pre>"
      ],
      "text/plain": [
       "| 5.246ms                        | 100        |"
      ]
     },
     "metadata": {},
     "output_type": "display_data"
    },
    {
     "data": {
      "text/html": [
       "<pre>+--------------------------------+------------+</pre>"
      ],
      "text/plain": [
       "+--------------------------------+------------+"
      ]
     },
     "metadata": {},
     "output_type": "display_data"
    },
    {
     "data": {
      "text/html": [
       "<pre>Setting up lookup tables.</pre>"
      ],
      "text/plain": [
       "Setting up lookup tables."
      ]
     },
     "metadata": {},
     "output_type": "display_data"
    },
    {
     "data": {
      "text/html": [
       "<pre>Processing data in one pass using dense lookup tables.</pre>"
      ],
      "text/plain": [
       "Processing data in one pass using dense lookup tables."
      ]
     },
     "metadata": {},
     "output_type": "display_data"
    },
    {
     "data": {
      "text/html": [
       "<pre>+-------------------------------------+------------------+-----------------+</pre>"
      ],
      "text/plain": [
       "+-------------------------------------+------------------+-----------------+"
      ]
     },
     "metadata": {},
     "output_type": "display_data"
    },
    {
     "data": {
      "text/html": [
       "<pre>| Elapsed Time (Constructing Lookups) | Total % Complete | Items Processed |</pre>"
      ],
      "text/plain": [
       "| Elapsed Time (Constructing Lookups) | Total % Complete | Items Processed |"
      ]
     },
     "metadata": {},
     "output_type": "display_data"
    },
    {
     "data": {
      "text/html": [
       "<pre>+-------------------------------------+------------------+-----------------+</pre>"
      ],
      "text/plain": [
       "+-------------------------------------+------------------+-----------------+"
      ]
     },
     "metadata": {},
     "output_type": "display_data"
    },
    {
     "data": {
      "text/html": [
       "<pre>| 6.142ms                             | 0                | 0               |</pre>"
      ],
      "text/plain": [
       "| 6.142ms                             | 0                | 0               |"
      ]
     },
     "metadata": {},
     "output_type": "display_data"
    },
    {
     "data": {
      "text/html": [
       "<pre>| 27.389ms                            | 100              | 20              |</pre>"
      ],
      "text/plain": [
       "| 27.389ms                            | 100              | 20              |"
      ]
     },
     "metadata": {},
     "output_type": "display_data"
    },
    {
     "data": {
      "text/html": [
       "<pre>+-------------------------------------+------------------+-----------------+</pre>"
      ],
      "text/plain": [
       "+-------------------------------------+------------------+-----------------+"
      ]
     },
     "metadata": {},
     "output_type": "display_data"
    },
    {
     "data": {
      "text/html": [
       "<pre>Finalizing lookup tables.</pre>"
      ],
      "text/plain": [
       "Finalizing lookup tables."
      ]
     },
     "metadata": {},
     "output_type": "display_data"
    },
    {
     "data": {
      "text/html": [
       "<pre>Generating candidate set for working with new users.</pre>"
      ],
      "text/plain": [
       "Generating candidate set for working with new users."
      ]
     },
     "metadata": {},
     "output_type": "display_data"
    },
    {
     "data": {
      "text/html": [
       "<pre>Finished training in 0.034191s</pre>"
      ],
      "text/plain": [
       "Finished training in 0.034191s"
      ]
     },
     "metadata": {},
     "output_type": "display_data"
    },
    {
     "data": {
      "text/html": [
       "<pre>recommendations finished on 1000/39964 queries. users per second: 37735.8</pre>"
      ],
      "text/plain": [
       "recommendations finished on 1000/39964 queries. users per second: 37735.8"
      ]
     },
     "metadata": {},
     "output_type": "display_data"
    },
    {
     "data": {
      "text/html": [
       "<pre>recommendations finished on 2000/39964 queries. users per second: 45702.8</pre>"
      ],
      "text/plain": [
       "recommendations finished on 2000/39964 queries. users per second: 45702.8"
      ]
     },
     "metadata": {},
     "output_type": "display_data"
    },
    {
     "data": {
      "text/html": [
       "<pre>recommendations finished on 3000/39964 queries. users per second: 41027.9</pre>"
      ],
      "text/plain": [
       "recommendations finished on 3000/39964 queries. users per second: 41027.9"
      ]
     },
     "metadata": {},
     "output_type": "display_data"
    },
    {
     "data": {
      "text/html": [
       "<pre>recommendations finished on 4000/39964 queries. users per second: 40123.2</pre>"
      ],
      "text/plain": [
       "recommendations finished on 4000/39964 queries. users per second: 40123.2"
      ]
     },
     "metadata": {},
     "output_type": "display_data"
    },
    {
     "data": {
      "text/html": [
       "<pre>recommendations finished on 5000/39964 queries. users per second: 46813</pre>"
      ],
      "text/plain": [
       "recommendations finished on 5000/39964 queries. users per second: 46813"
      ]
     },
     "metadata": {},
     "output_type": "display_data"
    },
    {
     "data": {
      "text/html": [
       "<pre>recommendations finished on 6000/39964 queries. users per second: 43752.5</pre>"
      ],
      "text/plain": [
       "recommendations finished on 6000/39964 queries. users per second: 43752.5"
      ]
     },
     "metadata": {},
     "output_type": "display_data"
    },
    {
     "data": {
      "text/html": [
       "<pre>recommendations finished on 7000/39964 queries. users per second: 48359.6</pre>"
      ],
      "text/plain": [
       "recommendations finished on 7000/39964 queries. users per second: 48359.6"
      ]
     },
     "metadata": {},
     "output_type": "display_data"
    },
    {
     "data": {
      "text/html": [
       "<pre>recommendations finished on 8000/39964 queries. users per second: 52964.7</pre>"
      ],
      "text/plain": [
       "recommendations finished on 8000/39964 queries. users per second: 52964.7"
      ]
     },
     "metadata": {},
     "output_type": "display_data"
    },
    {
     "data": {
      "text/html": [
       "<pre>recommendations finished on 9000/39964 queries. users per second: 57090.3</pre>"
      ],
      "text/plain": [
       "recommendations finished on 9000/39964 queries. users per second: 57090.3"
      ]
     },
     "metadata": {},
     "output_type": "display_data"
    },
    {
     "data": {
      "text/html": [
       "<pre>recommendations finished on 10000/39964 queries. users per second: 55330.2</pre>"
      ],
      "text/plain": [
       "recommendations finished on 10000/39964 queries. users per second: 55330.2"
      ]
     },
     "metadata": {},
     "output_type": "display_data"
    },
    {
     "data": {
      "text/html": [
       "<pre>recommendations finished on 11000/39964 queries. users per second: 56519.5</pre>"
      ],
      "text/plain": [
       "recommendations finished on 11000/39964 queries. users per second: 56519.5"
      ]
     },
     "metadata": {},
     "output_type": "display_data"
    },
    {
     "data": {
      "text/html": [
       "<pre>recommendations finished on 12000/39964 queries. users per second: 59959.2</pre>"
      ],
      "text/plain": [
       "recommendations finished on 12000/39964 queries. users per second: 59959.2"
      ]
     },
     "metadata": {},
     "output_type": "display_data"
    },
    {
     "data": {
      "text/html": [
       "<pre>recommendations finished on 13000/39964 queries. users per second: 61637.7</pre>"
      ],
      "text/plain": [
       "recommendations finished on 13000/39964 queries. users per second: 61637.7"
      ]
     },
     "metadata": {},
     "output_type": "display_data"
    },
    {
     "data": {
      "text/html": [
       "<pre>recommendations finished on 14000/39964 queries. users per second: 65018.3</pre>"
      ],
      "text/plain": [
       "recommendations finished on 14000/39964 queries. users per second: 65018.3"
      ]
     },
     "metadata": {},
     "output_type": "display_data"
    },
    {
     "data": {
      "text/html": [
       "<pre>recommendations finished on 15000/39964 queries. users per second: 65278.1</pre>"
      ],
      "text/plain": [
       "recommendations finished on 15000/39964 queries. users per second: 65278.1"
      ]
     },
     "metadata": {},
     "output_type": "display_data"
    },
    {
     "data": {
      "text/html": [
       "<pre>recommendations finished on 16000/39964 queries. users per second: 66540.8</pre>"
      ],
      "text/plain": [
       "recommendations finished on 16000/39964 queries. users per second: 66540.8"
      ]
     },
     "metadata": {},
     "output_type": "display_data"
    },
    {
     "data": {
      "text/html": [
       "<pre>recommendations finished on 17000/39964 queries. users per second: 67657.9</pre>"
      ],
      "text/plain": [
       "recommendations finished on 17000/39964 queries. users per second: 67657.9"
      ]
     },
     "metadata": {},
     "output_type": "display_data"
    },
    {
     "data": {
      "text/html": [
       "<pre>recommendations finished on 18000/39964 queries. users per second: 64752.4</pre>"
      ],
      "text/plain": [
       "recommendations finished on 18000/39964 queries. users per second: 64752.4"
      ]
     },
     "metadata": {},
     "output_type": "display_data"
    },
    {
     "data": {
      "text/html": [
       "<pre>recommendations finished on 19000/39964 queries. users per second: 66448.9</pre>"
      ],
      "text/plain": [
       "recommendations finished on 19000/39964 queries. users per second: 66448.9"
      ]
     },
     "metadata": {},
     "output_type": "display_data"
    },
    {
     "data": {
      "text/html": [
       "<pre>recommendations finished on 20000/39964 queries. users per second: 68856.8</pre>"
      ],
      "text/plain": [
       "recommendations finished on 20000/39964 queries. users per second: 68856.8"
      ]
     },
     "metadata": {},
     "output_type": "display_data"
    },
    {
     "data": {
      "text/html": [
       "<pre>recommendations finished on 21000/39964 queries. users per second: 67648.8</pre>"
      ],
      "text/plain": [
       "recommendations finished on 21000/39964 queries. users per second: 67648.8"
      ]
     },
     "metadata": {},
     "output_type": "display_data"
    },
    {
     "data": {
      "text/html": [
       "<pre>recommendations finished on 22000/39964 queries. users per second: 67469.3</pre>"
      ],
      "text/plain": [
       "recommendations finished on 22000/39964 queries. users per second: 67469.3"
      ]
     },
     "metadata": {},
     "output_type": "display_data"
    },
    {
     "data": {
      "text/html": [
       "<pre>recommendations finished on 23000/39964 queries. users per second: 66974.9</pre>"
      ],
      "text/plain": [
       "recommendations finished on 23000/39964 queries. users per second: 66974.9"
      ]
     },
     "metadata": {},
     "output_type": "display_data"
    },
    {
     "data": {
      "text/html": [
       "<pre>recommendations finished on 24000/39964 queries. users per second: 68012.6</pre>"
      ],
      "text/plain": [
       "recommendations finished on 24000/39964 queries. users per second: 68012.6"
      ]
     },
     "metadata": {},
     "output_type": "display_data"
    },
    {
     "data": {
      "text/html": [
       "<pre>recommendations finished on 25000/39964 queries. users per second: 65375.7</pre>"
      ],
      "text/plain": [
       "recommendations finished on 25000/39964 queries. users per second: 65375.7"
      ]
     },
     "metadata": {},
     "output_type": "display_data"
    },
    {
     "data": {
      "text/html": [
       "<pre>recommendations finished on 26000/39964 queries. users per second: 62656.5</pre>"
      ],
      "text/plain": [
       "recommendations finished on 26000/39964 queries. users per second: 62656.5"
      ]
     },
     "metadata": {},
     "output_type": "display_data"
    },
    {
     "data": {
      "text/html": [
       "<pre>recommendations finished on 27000/39964 queries. users per second: 64233</pre>"
      ],
      "text/plain": [
       "recommendations finished on 27000/39964 queries. users per second: 64233"
      ]
     },
     "metadata": {},
     "output_type": "display_data"
    },
    {
     "data": {
      "text/html": [
       "<pre>recommendations finished on 28000/39964 queries. users per second: 65036.7</pre>"
      ],
      "text/plain": [
       "recommendations finished on 28000/39964 queries. users per second: 65036.7"
      ]
     },
     "metadata": {},
     "output_type": "display_data"
    },
    {
     "data": {
      "text/html": [
       "<pre>recommendations finished on 29000/39964 queries. users per second: 66457.1</pre>"
      ],
      "text/plain": [
       "recommendations finished on 29000/39964 queries. users per second: 66457.1"
      ]
     },
     "metadata": {},
     "output_type": "display_data"
    },
    {
     "data": {
      "text/html": [
       "<pre>recommendations finished on 30000/39964 queries. users per second: 68097.8</pre>"
      ],
      "text/plain": [
       "recommendations finished on 30000/39964 queries. users per second: 68097.8"
      ]
     },
     "metadata": {},
     "output_type": "display_data"
    },
    {
     "data": {
      "text/html": [
       "<pre>recommendations finished on 31000/39964 queries. users per second: 67291</pre>"
      ],
      "text/plain": [
       "recommendations finished on 31000/39964 queries. users per second: 67291"
      ]
     },
     "metadata": {},
     "output_type": "display_data"
    },
    {
     "data": {
      "text/html": [
       "<pre>recommendations finished on 32000/39964 queries. users per second: 68450.8</pre>"
      ],
      "text/plain": [
       "recommendations finished on 32000/39964 queries. users per second: 68450.8"
      ]
     },
     "metadata": {},
     "output_type": "display_data"
    },
    {
     "data": {
      "text/html": [
       "<pre>recommendations finished on 33000/39964 queries. users per second: 69837.3</pre>"
      ],
      "text/plain": [
       "recommendations finished on 33000/39964 queries. users per second: 69837.3"
      ]
     },
     "metadata": {},
     "output_type": "display_data"
    },
    {
     "data": {
      "text/html": [
       "<pre>recommendations finished on 34000/39964 queries. users per second: 71285.3</pre>"
      ],
      "text/plain": [
       "recommendations finished on 34000/39964 queries. users per second: 71285.3"
      ]
     },
     "metadata": {},
     "output_type": "display_data"
    },
    {
     "data": {
      "text/html": [
       "<pre>recommendations finished on 35000/39964 queries. users per second: 69346.1</pre>"
      ],
      "text/plain": [
       "recommendations finished on 35000/39964 queries. users per second: 69346.1"
      ]
     },
     "metadata": {},
     "output_type": "display_data"
    },
    {
     "data": {
      "text/html": [
       "<pre>recommendations finished on 36000/39964 queries. users per second: 70076.4</pre>"
      ],
      "text/plain": [
       "recommendations finished on 36000/39964 queries. users per second: 70076.4"
      ]
     },
     "metadata": {},
     "output_type": "display_data"
    },
    {
     "data": {
      "text/html": [
       "<pre>recommendations finished on 37000/39964 queries. users per second: 69089.5</pre>"
      ],
      "text/plain": [
       "recommendations finished on 37000/39964 queries. users per second: 69089.5"
      ]
     },
     "metadata": {},
     "output_type": "display_data"
    },
    {
     "data": {
      "text/html": [
       "<pre>recommendations finished on 38000/39964 queries. users per second: 69827</pre>"
      ],
      "text/plain": [
       "recommendations finished on 38000/39964 queries. users per second: 69827"
      ]
     },
     "metadata": {},
     "output_type": "display_data"
    },
    {
     "data": {
      "text/html": [
       "<pre>recommendations finished on 39000/39964 queries. users per second: 69952</pre>"
      ],
      "text/plain": [
       "recommendations finished on 39000/39964 queries. users per second: 69952"
      ]
     },
     "metadata": {},
     "output_type": "display_data"
    },
    {
     "name": "stdout",
     "output_type": "stream",
     "text": [
      "+---------------+--------------+----------------------+------+\n",
      "| customer_code | product_code |        score         | rank |\n",
      "+---------------+--------------+----------------------+------+\n",
      "|     118972    |      20      | 0.27182361733931265  |  1   |\n",
      "|     118972    |      3       | 0.22896647448216978  |  2   |\n",
      "|     118972    |      16      |  0.1384902840059793  |  3   |\n",
      "|     118972    |      15      | 0.11095405212192133  |  4   |\n",
      "|     118972    |      19      | 0.10349028400597929  |  5   |\n",
      "|     118972    |      5       | 0.10170867481057697  |  6   |\n",
      "|     118972    |      10      | 0.09693184244753772  |  7   |\n",
      "|     118972    |      17      |  0.0800347610343273  |  8   |\n",
      "|     118972    |      6       | 0.07401797470608379  |  9   |\n",
      "|     118972    |      14      | 0.052379172894868126 |  10  |\n",
      "|     118972    |      8       | 0.04829420557460676  |  11  |\n",
      "|     118972    |      9       | 0.035018061783757076 |  12  |\n",
      "|     118972    |      7       | 0.03398577950147544  |  13  |\n",
      "|     118972    |      4       | 0.02859392827210827  |  14  |\n",
      "|     118972    |      21      | 0.026933993688631863 |  15  |\n",
      "|     116132    |      20      | 0.27182361733931265  |  1   |\n",
      "|     116132    |      3       | 0.22896647448216978  |  2   |\n",
      "|     116132    |      16      |  0.1384902840059793  |  3   |\n",
      "|     116132    |      15      | 0.11095405212192133  |  4   |\n",
      "|     116132    |      19      | 0.10349028400597929  |  5   |\n",
      "|     116132    |      5       | 0.10170867481057697  |  6   |\n",
      "|     116132    |      10      | 0.09693184244753772  |  7   |\n",
      "|     116132    |      17      |  0.0800347610343273  |  8   |\n",
      "|     116132    |      6       | 0.07401797470608379  |  9   |\n",
      "|     116132    |      14      | 0.052379172894868126 |  10  |\n",
      "|     116132    |      8       | 0.04829420557460676  |  11  |\n",
      "|     116132    |      9       | 0.035018061783757076 |  12  |\n",
      "|     116132    |      7       | 0.03398577950147544  |  13  |\n",
      "|     116132    |      4       | 0.02859392827210827  |  14  |\n",
      "|     116132    |      21      | 0.026933993688631863 |  15  |\n",
      "+---------------+--------------+----------------------+------+\n",
      "[599460 rows x 4 columns]\n",
      "\n"
     ]
    }
   ],
   "source": [
    "#Cosine similarity model using scaled purchase frequencies\n",
    "name = 'cosine' \n",
    "target = 'scaled_purchase_freq' \n",
    "cos_norm = model(train_data_norm, name, user_id, item_id, target, users_to_recommend, n_rec, n_display)"
   ]
  },
  {
   "cell_type": "markdown",
   "metadata": {},
   "source": [
    "### Pearson simliarity models"
   ]
  },
  {
   "cell_type": "code",
   "execution_count": 358,
   "metadata": {},
   "outputs": [
    {
     "data": {
      "text/html": [
       "<pre>Preparing data set.</pre>"
      ],
      "text/plain": [
       "Preparing data set."
      ]
     },
     "metadata": {},
     "output_type": "display_data"
    },
    {
     "data": {
      "text/html": [
       "<pre>    Data has 19658 observations with 19658 users and 21 items.</pre>"
      ],
      "text/plain": [
       "    Data has 19658 observations with 19658 users and 21 items."
      ]
     },
     "metadata": {},
     "output_type": "display_data"
    },
    {
     "data": {
      "text/html": [
       "<pre>    Data prepared in: 0.045586s</pre>"
      ],
      "text/plain": [
       "    Data prepared in: 0.045586s"
      ]
     },
     "metadata": {},
     "output_type": "display_data"
    },
    {
     "data": {
      "text/html": [
       "<pre>Training model from provided data.</pre>"
      ],
      "text/plain": [
       "Training model from provided data."
      ]
     },
     "metadata": {},
     "output_type": "display_data"
    },
    {
     "data": {
      "text/html": [
       "<pre>Gathering per-item and per-user statistics.</pre>"
      ],
      "text/plain": [
       "Gathering per-item and per-user statistics."
      ]
     },
     "metadata": {},
     "output_type": "display_data"
    },
    {
     "data": {
      "text/html": [
       "<pre>+--------------------------------+------------+</pre>"
      ],
      "text/plain": [
       "+--------------------------------+------------+"
      ]
     },
     "metadata": {},
     "output_type": "display_data"
    },
    {
     "data": {
      "text/html": [
       "<pre>| Elapsed Time (Item Statistics) | % Complete |</pre>"
      ],
      "text/plain": [
       "| Elapsed Time (Item Statistics) | % Complete |"
      ]
     },
     "metadata": {},
     "output_type": "display_data"
    },
    {
     "data": {
      "text/html": [
       "<pre>+--------------------------------+------------+</pre>"
      ],
      "text/plain": [
       "+--------------------------------+------------+"
      ]
     },
     "metadata": {},
     "output_type": "display_data"
    },
    {
     "data": {
      "text/html": [
       "<pre>| 1.446ms                        | 5          |</pre>"
      ],
      "text/plain": [
       "| 1.446ms                        | 5          |"
      ]
     },
     "metadata": {},
     "output_type": "display_data"
    },
    {
     "data": {
      "text/html": [
       "<pre>| 3.809ms                        | 100        |</pre>"
      ],
      "text/plain": [
       "| 3.809ms                        | 100        |"
      ]
     },
     "metadata": {},
     "output_type": "display_data"
    },
    {
     "data": {
      "text/html": [
       "<pre>+--------------------------------+------------+</pre>"
      ],
      "text/plain": [
       "+--------------------------------+------------+"
      ]
     },
     "metadata": {},
     "output_type": "display_data"
    },
    {
     "data": {
      "text/html": [
       "<pre>Setting up lookup tables.</pre>"
      ],
      "text/plain": [
       "Setting up lookup tables."
      ]
     },
     "metadata": {},
     "output_type": "display_data"
    },
    {
     "data": {
      "text/html": [
       "<pre>Processing data in one pass using dense lookup tables.</pre>"
      ],
      "text/plain": [
       "Processing data in one pass using dense lookup tables."
      ]
     },
     "metadata": {},
     "output_type": "display_data"
    },
    {
     "data": {
      "text/html": [
       "<pre>+-------------------------------------+------------------+-----------------+</pre>"
      ],
      "text/plain": [
       "+-------------------------------------+------------------+-----------------+"
      ]
     },
     "metadata": {},
     "output_type": "display_data"
    },
    {
     "data": {
      "text/html": [
       "<pre>| Elapsed Time (Constructing Lookups) | Total % Complete | Items Processed |</pre>"
      ],
      "text/plain": [
       "| Elapsed Time (Constructing Lookups) | Total % Complete | Items Processed |"
      ]
     },
     "metadata": {},
     "output_type": "display_data"
    },
    {
     "data": {
      "text/html": [
       "<pre>+-------------------------------------+------------------+-----------------+</pre>"
      ],
      "text/plain": [
       "+-------------------------------------+------------------+-----------------+"
      ]
     },
     "metadata": {},
     "output_type": "display_data"
    },
    {
     "data": {
      "text/html": [
       "<pre>| 4.378ms                             | 0                | 0               |</pre>"
      ],
      "text/plain": [
       "| 4.378ms                             | 0                | 0               |"
      ]
     },
     "metadata": {},
     "output_type": "display_data"
    },
    {
     "data": {
      "text/html": [
       "<pre>| 7.92ms                              | 100              | 21              |</pre>"
      ],
      "text/plain": [
       "| 7.92ms                              | 100              | 21              |"
      ]
     },
     "metadata": {},
     "output_type": "display_data"
    },
    {
     "data": {
      "text/html": [
       "<pre>+-------------------------------------+------------------+-----------------+</pre>"
      ],
      "text/plain": [
       "+-------------------------------------+------------------+-----------------+"
      ]
     },
     "metadata": {},
     "output_type": "display_data"
    },
    {
     "data": {
      "text/html": [
       "<pre>Finalizing lookup tables.</pre>"
      ],
      "text/plain": [
       "Finalizing lookup tables."
      ]
     },
     "metadata": {},
     "output_type": "display_data"
    },
    {
     "data": {
      "text/html": [
       "<pre>Generating candidate set for working with new users.</pre>"
      ],
      "text/plain": [
       "Generating candidate set for working with new users."
      ]
     },
     "metadata": {},
     "output_type": "display_data"
    },
    {
     "data": {
      "text/html": [
       "<pre>Finished training in 0.014796s</pre>"
      ],
      "text/plain": [
       "Finished training in 0.014796s"
      ]
     },
     "metadata": {},
     "output_type": "display_data"
    },
    {
     "data": {
      "text/html": [
       "<pre>recommendations finished on 1000/39964 queries. users per second: 21000.9</pre>"
      ],
      "text/plain": [
       "recommendations finished on 1000/39964 queries. users per second: 21000.9"
      ]
     },
     "metadata": {},
     "output_type": "display_data"
    },
    {
     "data": {
      "text/html": [
       "<pre>recommendations finished on 2000/39964 queries. users per second: 27503.9</pre>"
      ],
      "text/plain": [
       "recommendations finished on 2000/39964 queries. users per second: 27503.9"
      ]
     },
     "metadata": {},
     "output_type": "display_data"
    },
    {
     "data": {
      "text/html": [
       "<pre>recommendations finished on 3000/39964 queries. users per second: 27800.9</pre>"
      ],
      "text/plain": [
       "recommendations finished on 3000/39964 queries. users per second: 27800.9"
      ]
     },
     "metadata": {},
     "output_type": "display_data"
    },
    {
     "data": {
      "text/html": [
       "<pre>recommendations finished on 4000/39964 queries. users per second: 31337.2</pre>"
      ],
      "text/plain": [
       "recommendations finished on 4000/39964 queries. users per second: 31337.2"
      ]
     },
     "metadata": {},
     "output_type": "display_data"
    },
    {
     "data": {
      "text/html": [
       "<pre>recommendations finished on 5000/39964 queries. users per second: 33807.8</pre>"
      ],
      "text/plain": [
       "recommendations finished on 5000/39964 queries. users per second: 33807.8"
      ]
     },
     "metadata": {},
     "output_type": "display_data"
    },
    {
     "data": {
      "text/html": [
       "<pre>recommendations finished on 6000/39964 queries. users per second: 33821.3</pre>"
      ],
      "text/plain": [
       "recommendations finished on 6000/39964 queries. users per second: 33821.3"
      ]
     },
     "metadata": {},
     "output_type": "display_data"
    },
    {
     "data": {
      "text/html": [
       "<pre>recommendations finished on 7000/39964 queries. users per second: 33102.9</pre>"
      ],
      "text/plain": [
       "recommendations finished on 7000/39964 queries. users per second: 33102.9"
      ]
     },
     "metadata": {},
     "output_type": "display_data"
    },
    {
     "data": {
      "text/html": [
       "<pre>recommendations finished on 8000/39964 queries. users per second: 36866</pre>"
      ],
      "text/plain": [
       "recommendations finished on 8000/39964 queries. users per second: 36866"
      ]
     },
     "metadata": {},
     "output_type": "display_data"
    },
    {
     "data": {
      "text/html": [
       "<pre>recommendations finished on 9000/39964 queries. users per second: 40140.8</pre>"
      ],
      "text/plain": [
       "recommendations finished on 9000/39964 queries. users per second: 40140.8"
      ]
     },
     "metadata": {},
     "output_type": "display_data"
    },
    {
     "data": {
      "text/html": [
       "<pre>recommendations finished on 10000/39964 queries. users per second: 42274.4</pre>"
      ],
      "text/plain": [
       "recommendations finished on 10000/39964 queries. users per second: 42274.4"
      ]
     },
     "metadata": {},
     "output_type": "display_data"
    },
    {
     "data": {
      "text/html": [
       "<pre>recommendations finished on 11000/39964 queries. users per second: 43759.5</pre>"
      ],
      "text/plain": [
       "recommendations finished on 11000/39964 queries. users per second: 43759.5"
      ]
     },
     "metadata": {},
     "output_type": "display_data"
    },
    {
     "data": {
      "text/html": [
       "<pre>recommendations finished on 12000/39964 queries. users per second: 47091.5</pre>"
      ],
      "text/plain": [
       "recommendations finished on 12000/39964 queries. users per second: 47091.5"
      ]
     },
     "metadata": {},
     "output_type": "display_data"
    },
    {
     "data": {
      "text/html": [
       "<pre>recommendations finished on 13000/39964 queries. users per second: 49778.1</pre>"
      ],
      "text/plain": [
       "recommendations finished on 13000/39964 queries. users per second: 49778.1"
      ]
     },
     "metadata": {},
     "output_type": "display_data"
    },
    {
     "data": {
      "text/html": [
       "<pre>recommendations finished on 14000/39964 queries. users per second: 49834.7</pre>"
      ],
      "text/plain": [
       "recommendations finished on 14000/39964 queries. users per second: 49834.7"
      ]
     },
     "metadata": {},
     "output_type": "display_data"
    },
    {
     "data": {
      "text/html": [
       "<pre>recommendations finished on 15000/39964 queries. users per second: 52160.5</pre>"
      ],
      "text/plain": [
       "recommendations finished on 15000/39964 queries. users per second: 52160.5"
      ]
     },
     "metadata": {},
     "output_type": "display_data"
    },
    {
     "data": {
      "text/html": [
       "<pre>recommendations finished on 16000/39964 queries. users per second: 54327</pre>"
      ],
      "text/plain": [
       "recommendations finished on 16000/39964 queries. users per second: 54327"
      ]
     },
     "metadata": {},
     "output_type": "display_data"
    },
    {
     "data": {
      "text/html": [
       "<pre>recommendations finished on 17000/39964 queries. users per second: 56491.7</pre>"
      ],
      "text/plain": [
       "recommendations finished on 17000/39964 queries. users per second: 56491.7"
      ]
     },
     "metadata": {},
     "output_type": "display_data"
    },
    {
     "data": {
      "text/html": [
       "<pre>recommendations finished on 18000/39964 queries. users per second: 56433.6</pre>"
      ],
      "text/plain": [
       "recommendations finished on 18000/39964 queries. users per second: 56433.6"
      ]
     },
     "metadata": {},
     "output_type": "display_data"
    },
    {
     "data": {
      "text/html": [
       "<pre>recommendations finished on 19000/39964 queries. users per second: 57820.4</pre>"
      ],
      "text/plain": [
       "recommendations finished on 19000/39964 queries. users per second: 57820.4"
      ]
     },
     "metadata": {},
     "output_type": "display_data"
    },
    {
     "data": {
      "text/html": [
       "<pre>recommendations finished on 20000/39964 queries. users per second: 55555.9</pre>"
      ],
      "text/plain": [
       "recommendations finished on 20000/39964 queries. users per second: 55555.9"
      ]
     },
     "metadata": {},
     "output_type": "display_data"
    },
    {
     "data": {
      "text/html": [
       "<pre>recommendations finished on 21000/39964 queries. users per second: 55953.1</pre>"
      ],
      "text/plain": [
       "recommendations finished on 21000/39964 queries. users per second: 55953.1"
      ]
     },
     "metadata": {},
     "output_type": "display_data"
    },
    {
     "data": {
      "text/html": [
       "<pre>recommendations finished on 22000/39964 queries. users per second: 57689.5</pre>"
      ],
      "text/plain": [
       "recommendations finished on 22000/39964 queries. users per second: 57689.5"
      ]
     },
     "metadata": {},
     "output_type": "display_data"
    },
    {
     "data": {
      "text/html": [
       "<pre>recommendations finished on 23000/39964 queries. users per second: 59586.9</pre>"
      ],
      "text/plain": [
       "recommendations finished on 23000/39964 queries. users per second: 59586.9"
      ]
     },
     "metadata": {},
     "output_type": "display_data"
    },
    {
     "data": {
      "text/html": [
       "<pre>recommendations finished on 24000/39964 queries. users per second: 61139.2</pre>"
      ],
      "text/plain": [
       "recommendations finished on 24000/39964 queries. users per second: 61139.2"
      ]
     },
     "metadata": {},
     "output_type": "display_data"
    },
    {
     "data": {
      "text/html": [
       "<pre>recommendations finished on 25000/39964 queries. users per second: 62324.1</pre>"
      ],
      "text/plain": [
       "recommendations finished on 25000/39964 queries. users per second: 62324.1"
      ]
     },
     "metadata": {},
     "output_type": "display_data"
    },
    {
     "data": {
      "text/html": [
       "<pre>recommendations finished on 26000/39964 queries. users per second: 62075.2</pre>"
      ],
      "text/plain": [
       "recommendations finished on 26000/39964 queries. users per second: 62075.2"
      ]
     },
     "metadata": {},
     "output_type": "display_data"
    },
    {
     "data": {
      "text/html": [
       "<pre>recommendations finished on 27000/39964 queries. users per second: 63463</pre>"
      ],
      "text/plain": [
       "recommendations finished on 27000/39964 queries. users per second: 63463"
      ]
     },
     "metadata": {},
     "output_type": "display_data"
    },
    {
     "data": {
      "text/html": [
       "<pre>recommendations finished on 28000/39964 queries. users per second: 64222</pre>"
      ],
      "text/plain": [
       "recommendations finished on 28000/39964 queries. users per second: 64222"
      ]
     },
     "metadata": {},
     "output_type": "display_data"
    },
    {
     "data": {
      "text/html": [
       "<pre>recommendations finished on 29000/39964 queries. users per second: 62471.1</pre>"
      ],
      "text/plain": [
       "recommendations finished on 29000/39964 queries. users per second: 62471.1"
      ]
     },
     "metadata": {},
     "output_type": "display_data"
    },
    {
     "data": {
      "text/html": [
       "<pre>recommendations finished on 30000/39964 queries. users per second: 63254.2</pre>"
      ],
      "text/plain": [
       "recommendations finished on 30000/39964 queries. users per second: 63254.2"
      ]
     },
     "metadata": {},
     "output_type": "display_data"
    },
    {
     "data": {
      "text/html": [
       "<pre>recommendations finished on 31000/39964 queries. users per second: 63852.2</pre>"
      ],
      "text/plain": [
       "recommendations finished on 31000/39964 queries. users per second: 63852.2"
      ]
     },
     "metadata": {},
     "output_type": "display_data"
    },
    {
     "data": {
      "text/html": [
       "<pre>recommendations finished on 32000/39964 queries. users per second: 62812.6</pre>"
      ],
      "text/plain": [
       "recommendations finished on 32000/39964 queries. users per second: 62812.6"
      ]
     },
     "metadata": {},
     "output_type": "display_data"
    },
    {
     "data": {
      "text/html": [
       "<pre>recommendations finished on 33000/39964 queries. users per second: 63725.5</pre>"
      ],
      "text/plain": [
       "recommendations finished on 33000/39964 queries. users per second: 63725.5"
      ]
     },
     "metadata": {},
     "output_type": "display_data"
    },
    {
     "data": {
      "text/html": [
       "<pre>recommendations finished on 34000/39964 queries. users per second: 62205.2</pre>"
      ],
      "text/plain": [
       "recommendations finished on 34000/39964 queries. users per second: 62205.2"
      ]
     },
     "metadata": {},
     "output_type": "display_data"
    },
    {
     "data": {
      "text/html": [
       "<pre>recommendations finished on 35000/39964 queries. users per second: 61932.4</pre>"
      ],
      "text/plain": [
       "recommendations finished on 35000/39964 queries. users per second: 61932.4"
      ]
     },
     "metadata": {},
     "output_type": "display_data"
    },
    {
     "data": {
      "text/html": [
       "<pre>recommendations finished on 36000/39964 queries. users per second: 62228.2</pre>"
      ],
      "text/plain": [
       "recommendations finished on 36000/39964 queries. users per second: 62228.2"
      ]
     },
     "metadata": {},
     "output_type": "display_data"
    },
    {
     "data": {
      "text/html": [
       "<pre>recommendations finished on 37000/39964 queries. users per second: 62746.9</pre>"
      ],
      "text/plain": [
       "recommendations finished on 37000/39964 queries. users per second: 62746.9"
      ]
     },
     "metadata": {},
     "output_type": "display_data"
    },
    {
     "data": {
      "text/html": [
       "<pre>recommendations finished on 38000/39964 queries. users per second: 63096.9</pre>"
      ],
      "text/plain": [
       "recommendations finished on 38000/39964 queries. users per second: 63096.9"
      ]
     },
     "metadata": {},
     "output_type": "display_data"
    },
    {
     "data": {
      "text/html": [
       "<pre>recommendations finished on 39000/39964 queries. users per second: 63711.5</pre>"
      ],
      "text/plain": [
       "recommendations finished on 39000/39964 queries. users per second: 63711.5"
      ]
     },
     "metadata": {},
     "output_type": "display_data"
    },
    {
     "name": "stdout",
     "output_type": "stream",
     "text": [
      "+---------------+--------------+---------------------+------+\n",
      "| customer_code | product_code |        score        | rank |\n",
      "+---------------+--------------+---------------------+------+\n",
      "|     118972    |      21      |  0.4760633276694447 |  1   |\n",
      "|     118972    |      1       |  0.3921568627450981 |  2   |\n",
      "|     118972    |      19      |  0.2981129755977626 |  3   |\n",
      "|     118972    |      20      |  0.2921568627450981 |  4   |\n",
      "|     118972    |      16      | 0.28104575163398693 |  5   |\n",
      "|     118972    |      18      |  0.2626402038994857 |  6   |\n",
      "|     118972    |      17      | 0.25262197902416783 |  7   |\n",
      "|     118972    |      6       |  0.2062193627450981 |  8   |\n",
      "|     118972    |      13      |  0.1741793346552104 |  9   |\n",
      "|     118972    |      12      | 0.17360340362560123 |  10  |\n",
      "|     118972    |      7       | 0.17244433707774698 |  11  |\n",
      "|     118972    |      4       | 0.17032411362141253 |  12  |\n",
      "|     118972    |      3       | 0.16138763197586736 |  13  |\n",
      "|     118972    |      11      | 0.12253759312582846 |  14  |\n",
      "|     118972    |      10      | 0.11010558069381604 |  15  |\n",
      "|     116132    |      21      |  0.4760633276694447 |  1   |\n",
      "|     116132    |      1       |  0.3921568627450981 |  2   |\n",
      "|     116132    |      19      |  0.2981129755977626 |  3   |\n",
      "|     116132    |      20      |  0.2921568627450981 |  4   |\n",
      "|     116132    |      16      | 0.28104575163398693 |  5   |\n",
      "|     116132    |      18      |  0.2626402038994857 |  6   |\n",
      "|     116132    |      17      | 0.25262197902416783 |  7   |\n",
      "|     116132    |      6       |  0.2062193627450981 |  8   |\n",
      "|     116132    |      13      |  0.1741793346552104 |  9   |\n",
      "|     116132    |      12      | 0.17360340362560123 |  10  |\n",
      "|     116132    |      7       | 0.17244433707774698 |  11  |\n",
      "|     116132    |      4       | 0.17032411362141253 |  12  |\n",
      "|     116132    |      3       | 0.16138763197586736 |  13  |\n",
      "|     116132    |      11      | 0.12253759312582846 |  14  |\n",
      "|     116132    |      10      | 0.11010558069381604 |  15  |\n",
      "+---------------+--------------+---------------------+------+\n",
      "[599460 rows x 4 columns]\n",
      "\n"
     ]
    }
   ],
   "source": [
    "#Pearson similarity model using purchase counts\n",
    "name = 'pearson'\n",
    "target = 'purchase_counts'\n",
    "pear = model(train_data, name, user_id, item_id, target, users_to_recommend, n_rec, n_display)"
   ]
  },
  {
   "cell_type": "code",
   "execution_count": 359,
   "metadata": {},
   "outputs": [
    {
     "data": {
      "text/html": [
       "<pre>Warning: Ignoring columns purchase_counts;</pre>"
      ],
      "text/plain": [
       "Warning: Ignoring columns purchase_counts;"
      ]
     },
     "metadata": {},
     "output_type": "display_data"
    },
    {
     "data": {
      "text/html": [
       "<pre>    To use these columns in scoring predictions, use a model that allows the use of additional features.</pre>"
      ],
      "text/plain": [
       "    To use these columns in scoring predictions, use a model that allows the use of additional features."
      ]
     },
     "metadata": {},
     "output_type": "display_data"
    },
    {
     "data": {
      "text/html": [
       "<pre>Preparing data set.</pre>"
      ],
      "text/plain": [
       "Preparing data set."
      ]
     },
     "metadata": {},
     "output_type": "display_data"
    },
    {
     "data": {
      "text/html": [
       "<pre>    Data has 19658 observations with 19658 users and 21 items.</pre>"
      ],
      "text/plain": [
       "    Data has 19658 observations with 19658 users and 21 items."
      ]
     },
     "metadata": {},
     "output_type": "display_data"
    },
    {
     "data": {
      "text/html": [
       "<pre>    Data prepared in: 0.047726s</pre>"
      ],
      "text/plain": [
       "    Data prepared in: 0.047726s"
      ]
     },
     "metadata": {},
     "output_type": "display_data"
    },
    {
     "data": {
      "text/html": [
       "<pre>Training model from provided data.</pre>"
      ],
      "text/plain": [
       "Training model from provided data."
      ]
     },
     "metadata": {},
     "output_type": "display_data"
    },
    {
     "data": {
      "text/html": [
       "<pre>Gathering per-item and per-user statistics.</pre>"
      ],
      "text/plain": [
       "Gathering per-item and per-user statistics."
      ]
     },
     "metadata": {},
     "output_type": "display_data"
    },
    {
     "data": {
      "text/html": [
       "<pre>+--------------------------------+------------+</pre>"
      ],
      "text/plain": [
       "+--------------------------------+------------+"
      ]
     },
     "metadata": {},
     "output_type": "display_data"
    },
    {
     "data": {
      "text/html": [
       "<pre>| Elapsed Time (Item Statistics) | % Complete |</pre>"
      ],
      "text/plain": [
       "| Elapsed Time (Item Statistics) | % Complete |"
      ]
     },
     "metadata": {},
     "output_type": "display_data"
    },
    {
     "data": {
      "text/html": [
       "<pre>+--------------------------------+------------+</pre>"
      ],
      "text/plain": [
       "+--------------------------------+------------+"
      ]
     },
     "metadata": {},
     "output_type": "display_data"
    },
    {
     "data": {
      "text/html": [
       "<pre>| 1.762ms                        | 5          |</pre>"
      ],
      "text/plain": [
       "| 1.762ms                        | 5          |"
      ]
     },
     "metadata": {},
     "output_type": "display_data"
    },
    {
     "data": {
      "text/html": [
       "<pre>| 5.462ms                        | 100        |</pre>"
      ],
      "text/plain": [
       "| 5.462ms                        | 100        |"
      ]
     },
     "metadata": {},
     "output_type": "display_data"
    },
    {
     "data": {
      "text/html": [
       "<pre>+--------------------------------+------------+</pre>"
      ],
      "text/plain": [
       "+--------------------------------+------------+"
      ]
     },
     "metadata": {},
     "output_type": "display_data"
    },
    {
     "data": {
      "text/html": [
       "<pre>Setting up lookup tables.</pre>"
      ],
      "text/plain": [
       "Setting up lookup tables."
      ]
     },
     "metadata": {},
     "output_type": "display_data"
    },
    {
     "data": {
      "text/html": [
       "<pre>Processing data in one pass using dense lookup tables.</pre>"
      ],
      "text/plain": [
       "Processing data in one pass using dense lookup tables."
      ]
     },
     "metadata": {},
     "output_type": "display_data"
    },
    {
     "data": {
      "text/html": [
       "<pre>+-------------------------------------+------------------+-----------------+</pre>"
      ],
      "text/plain": [
       "+-------------------------------------+------------------+-----------------+"
      ]
     },
     "metadata": {},
     "output_type": "display_data"
    },
    {
     "data": {
      "text/html": [
       "<pre>| Elapsed Time (Constructing Lookups) | Total % Complete | Items Processed |</pre>"
      ],
      "text/plain": [
       "| Elapsed Time (Constructing Lookups) | Total % Complete | Items Processed |"
      ]
     },
     "metadata": {},
     "output_type": "display_data"
    },
    {
     "data": {
      "text/html": [
       "<pre>+-------------------------------------+------------------+-----------------+</pre>"
      ],
      "text/plain": [
       "+-------------------------------------+------------------+-----------------+"
      ]
     },
     "metadata": {},
     "output_type": "display_data"
    },
    {
     "data": {
      "text/html": [
       "<pre>| 6.148ms                             | 0                | 0               |</pre>"
      ],
      "text/plain": [
       "| 6.148ms                             | 0                | 0               |"
      ]
     },
     "metadata": {},
     "output_type": "display_data"
    },
    {
     "data": {
      "text/html": [
       "<pre>| 11.09ms                             | 100              | 21              |</pre>"
      ],
      "text/plain": [
       "| 11.09ms                             | 100              | 21              |"
      ]
     },
     "metadata": {},
     "output_type": "display_data"
    },
    {
     "data": {
      "text/html": [
       "<pre>+-------------------------------------+------------------+-----------------+</pre>"
      ],
      "text/plain": [
       "+-------------------------------------+------------------+-----------------+"
      ]
     },
     "metadata": {},
     "output_type": "display_data"
    },
    {
     "data": {
      "text/html": [
       "<pre>Finalizing lookup tables.</pre>"
      ],
      "text/plain": [
       "Finalizing lookup tables."
      ]
     },
     "metadata": {},
     "output_type": "display_data"
    },
    {
     "data": {
      "text/html": [
       "<pre>Generating candidate set for working with new users.</pre>"
      ],
      "text/plain": [
       "Generating candidate set for working with new users."
      ]
     },
     "metadata": {},
     "output_type": "display_data"
    },
    {
     "data": {
      "text/html": [
       "<pre>Finished training in 0.016716s</pre>"
      ],
      "text/plain": [
       "Finished training in 0.016716s"
      ]
     },
     "metadata": {},
     "output_type": "display_data"
    },
    {
     "data": {
      "text/html": [
       "<pre>recommendations finished on 1000/39964 queries. users per second: 37155.4</pre>"
      ],
      "text/plain": [
       "recommendations finished on 1000/39964 queries. users per second: 37155.4"
      ]
     },
     "metadata": {},
     "output_type": "display_data"
    },
    {
     "data": {
      "text/html": [
       "<pre>recommendations finished on 2000/39964 queries. users per second: 42745.1</pre>"
      ],
      "text/plain": [
       "recommendations finished on 2000/39964 queries. users per second: 42745.1"
      ]
     },
     "metadata": {},
     "output_type": "display_data"
    },
    {
     "data": {
      "text/html": [
       "<pre>recommendations finished on 3000/39964 queries. users per second: 38595.1</pre>"
      ],
      "text/plain": [
       "recommendations finished on 3000/39964 queries. users per second: 38595.1"
      ]
     },
     "metadata": {},
     "output_type": "display_data"
    },
    {
     "data": {
      "text/html": [
       "<pre>recommendations finished on 4000/39964 queries. users per second: 38339.9</pre>"
      ],
      "text/plain": [
       "recommendations finished on 4000/39964 queries. users per second: 38339.9"
      ]
     },
     "metadata": {},
     "output_type": "display_data"
    },
    {
     "data": {
      "text/html": [
       "<pre>recommendations finished on 5000/39964 queries. users per second: 46008.3</pre>"
      ],
      "text/plain": [
       "recommendations finished on 5000/39964 queries. users per second: 46008.3"
      ]
     },
     "metadata": {},
     "output_type": "display_data"
    },
    {
     "data": {
      "text/html": [
       "<pre>recommendations finished on 6000/39964 queries. users per second: 51259.3</pre>"
      ],
      "text/plain": [
       "recommendations finished on 6000/39964 queries. users per second: 51259.3"
      ]
     },
     "metadata": {},
     "output_type": "display_data"
    },
    {
     "data": {
      "text/html": [
       "<pre>recommendations finished on 7000/39964 queries. users per second: 56180.2</pre>"
      ],
      "text/plain": [
       "recommendations finished on 7000/39964 queries. users per second: 56180.2"
      ]
     },
     "metadata": {},
     "output_type": "display_data"
    },
    {
     "data": {
      "text/html": [
       "<pre>recommendations finished on 8000/39964 queries. users per second: 56601.9</pre>"
      ],
      "text/plain": [
       "recommendations finished on 8000/39964 queries. users per second: 56601.9"
      ]
     },
     "metadata": {},
     "output_type": "display_data"
    },
    {
     "data": {
      "text/html": [
       "<pre>recommendations finished on 9000/39964 queries. users per second: 62064.7</pre>"
      ],
      "text/plain": [
       "recommendations finished on 9000/39964 queries. users per second: 62064.7"
      ]
     },
     "metadata": {},
     "output_type": "display_data"
    },
    {
     "data": {
      "text/html": [
       "<pre>recommendations finished on 10000/39964 queries. users per second: 66361</pre>"
      ],
      "text/plain": [
       "recommendations finished on 10000/39964 queries. users per second: 66361"
      ]
     },
     "metadata": {},
     "output_type": "display_data"
    },
    {
     "data": {
      "text/html": [
       "<pre>recommendations finished on 11000/39964 queries. users per second: 64846.6</pre>"
      ],
      "text/plain": [
       "recommendations finished on 11000/39964 queries. users per second: 64846.6"
      ]
     },
     "metadata": {},
     "output_type": "display_data"
    },
    {
     "data": {
      "text/html": [
       "<pre>recommendations finished on 12000/39964 queries. users per second: 61240.4</pre>"
      ],
      "text/plain": [
       "recommendations finished on 12000/39964 queries. users per second: 61240.4"
      ]
     },
     "metadata": {},
     "output_type": "display_data"
    },
    {
     "data": {
      "text/html": [
       "<pre>recommendations finished on 13000/39964 queries. users per second: 60315.3</pre>"
      ],
      "text/plain": [
       "recommendations finished on 13000/39964 queries. users per second: 60315.3"
      ]
     },
     "metadata": {},
     "output_type": "display_data"
    },
    {
     "data": {
      "text/html": [
       "<pre>recommendations finished on 14000/39964 queries. users per second: 61840.2</pre>"
      ],
      "text/plain": [
       "recommendations finished on 14000/39964 queries. users per second: 61840.2"
      ]
     },
     "metadata": {},
     "output_type": "display_data"
    },
    {
     "data": {
      "text/html": [
       "<pre>recommendations finished on 15000/39964 queries. users per second: 58445.1</pre>"
      ],
      "text/plain": [
       "recommendations finished on 15000/39964 queries. users per second: 58445.1"
      ]
     },
     "metadata": {},
     "output_type": "display_data"
    },
    {
     "data": {
      "text/html": [
       "<pre>recommendations finished on 16000/39964 queries. users per second: 60179.8</pre>"
      ],
      "text/plain": [
       "recommendations finished on 16000/39964 queries. users per second: 60179.8"
      ]
     },
     "metadata": {},
     "output_type": "display_data"
    },
    {
     "data": {
      "text/html": [
       "<pre>recommendations finished on 17000/39964 queries. users per second: 62690.4</pre>"
      ],
      "text/plain": [
       "recommendations finished on 17000/39964 queries. users per second: 62690.4"
      ]
     },
     "metadata": {},
     "output_type": "display_data"
    },
    {
     "data": {
      "text/html": [
       "<pre>recommendations finished on 18000/39964 queries. users per second: 64726.8</pre>"
      ],
      "text/plain": [
       "recommendations finished on 18000/39964 queries. users per second: 64726.8"
      ]
     },
     "metadata": {},
     "output_type": "display_data"
    },
    {
     "data": {
      "text/html": [
       "<pre>recommendations finished on 19000/39964 queries. users per second: 66499.4</pre>"
      ],
      "text/plain": [
       "recommendations finished on 19000/39964 queries. users per second: 66499.4"
      ]
     },
     "metadata": {},
     "output_type": "display_data"
    },
    {
     "data": {
      "text/html": [
       "<pre>recommendations finished on 20000/39964 queries. users per second: 67159.4</pre>"
      ],
      "text/plain": [
       "recommendations finished on 20000/39964 queries. users per second: 67159.4"
      ]
     },
     "metadata": {},
     "output_type": "display_data"
    },
    {
     "data": {
      "text/html": [
       "<pre>recommendations finished on 21000/39964 queries. users per second: 69643.7</pre>"
      ],
      "text/plain": [
       "recommendations finished on 21000/39964 queries. users per second: 69643.7"
      ]
     },
     "metadata": {},
     "output_type": "display_data"
    },
    {
     "data": {
      "text/html": [
       "<pre>recommendations finished on 22000/39964 queries. users per second: 70462</pre>"
      ],
      "text/plain": [
       "recommendations finished on 22000/39964 queries. users per second: 70462"
      ]
     },
     "metadata": {},
     "output_type": "display_data"
    },
    {
     "data": {
      "text/html": [
       "<pre>recommendations finished on 23000/39964 queries. users per second: 69802.5</pre>"
      ],
      "text/plain": [
       "recommendations finished on 23000/39964 queries. users per second: 69802.5"
      ]
     },
     "metadata": {},
     "output_type": "display_data"
    },
    {
     "data": {
      "text/html": [
       "<pre>recommendations finished on 24000/39964 queries. users per second: 72055.2</pre>"
      ],
      "text/plain": [
       "recommendations finished on 24000/39964 queries. users per second: 72055.2"
      ]
     },
     "metadata": {},
     "output_type": "display_data"
    },
    {
     "data": {
      "text/html": [
       "<pre>recommendations finished on 25000/39964 queries. users per second: 74228.2</pre>"
      ],
      "text/plain": [
       "recommendations finished on 25000/39964 queries. users per second: 74228.2"
      ]
     },
     "metadata": {},
     "output_type": "display_data"
    },
    {
     "data": {
      "text/html": [
       "<pre>recommendations finished on 26000/39964 queries. users per second: 75976.3</pre>"
      ],
      "text/plain": [
       "recommendations finished on 26000/39964 queries. users per second: 75976.3"
      ]
     },
     "metadata": {},
     "output_type": "display_data"
    },
    {
     "data": {
      "text/html": [
       "<pre>recommendations finished on 27000/39964 queries. users per second: 76049.7</pre>"
      ],
      "text/plain": [
       "recommendations finished on 27000/39964 queries. users per second: 76049.7"
      ]
     },
     "metadata": {},
     "output_type": "display_data"
    },
    {
     "data": {
      "text/html": [
       "<pre>recommendations finished on 28000/39964 queries. users per second: 74835.1</pre>"
      ],
      "text/plain": [
       "recommendations finished on 28000/39964 queries. users per second: 74835.1"
      ]
     },
     "metadata": {},
     "output_type": "display_data"
    },
    {
     "data": {
      "text/html": [
       "<pre>recommendations finished on 29000/39964 queries. users per second: 76064.8</pre>"
      ],
      "text/plain": [
       "recommendations finished on 29000/39964 queries. users per second: 76064.8"
      ]
     },
     "metadata": {},
     "output_type": "display_data"
    },
    {
     "data": {
      "text/html": [
       "<pre>recommendations finished on 30000/39964 queries. users per second: 76642.6</pre>"
      ],
      "text/plain": [
       "recommendations finished on 30000/39964 queries. users per second: 76642.6"
      ]
     },
     "metadata": {},
     "output_type": "display_data"
    },
    {
     "data": {
      "text/html": [
       "<pre>recommendations finished on 31000/39964 queries. users per second: 74752.7</pre>"
      ],
      "text/plain": [
       "recommendations finished on 31000/39964 queries. users per second: 74752.7"
      ]
     },
     "metadata": {},
     "output_type": "display_data"
    },
    {
     "data": {
      "text/html": [
       "<pre>recommendations finished on 32000/39964 queries. users per second: 75424.2</pre>"
      ],
      "text/plain": [
       "recommendations finished on 32000/39964 queries. users per second: 75424.2"
      ]
     },
     "metadata": {},
     "output_type": "display_data"
    },
    {
     "data": {
      "text/html": [
       "<pre>recommendations finished on 33000/39964 queries. users per second: 73589.4</pre>"
      ],
      "text/plain": [
       "recommendations finished on 33000/39964 queries. users per second: 73589.4"
      ]
     },
     "metadata": {},
     "output_type": "display_data"
    },
    {
     "data": {
      "text/html": [
       "<pre>recommendations finished on 34000/39964 queries. users per second: 75002.2</pre>"
      ],
      "text/plain": [
       "recommendations finished on 34000/39964 queries. users per second: 75002.2"
      ]
     },
     "metadata": {},
     "output_type": "display_data"
    },
    {
     "data": {
      "text/html": [
       "<pre>recommendations finished on 35000/39964 queries. users per second: 76492.2</pre>"
      ],
      "text/plain": [
       "recommendations finished on 35000/39964 queries. users per second: 76492.2"
      ]
     },
     "metadata": {},
     "output_type": "display_data"
    },
    {
     "data": {
      "text/html": [
       "<pre>recommendations finished on 36000/39964 queries. users per second: 77214.6</pre>"
      ],
      "text/plain": [
       "recommendations finished on 36000/39964 queries. users per second: 77214.6"
      ]
     },
     "metadata": {},
     "output_type": "display_data"
    },
    {
     "data": {
      "text/html": [
       "<pre>recommendations finished on 37000/39964 queries. users per second: 76985.2</pre>"
      ],
      "text/plain": [
       "recommendations finished on 37000/39964 queries. users per second: 76985.2"
      ]
     },
     "metadata": {},
     "output_type": "display_data"
    },
    {
     "data": {
      "text/html": [
       "<pre>recommendations finished on 38000/39964 queries. users per second: 78070.1</pre>"
      ],
      "text/plain": [
       "recommendations finished on 38000/39964 queries. users per second: 78070.1"
      ]
     },
     "metadata": {},
     "output_type": "display_data"
    },
    {
     "data": {
      "text/html": [
       "<pre>recommendations finished on 39000/39964 queries. users per second: 77271</pre>"
      ],
      "text/plain": [
       "recommendations finished on 39000/39964 queries. users per second: 77271"
      ]
     },
     "metadata": {},
     "output_type": "display_data"
    },
    {
     "name": "stdout",
     "output_type": "stream",
     "text": [
      "+---------------+--------------+-------+------+\n",
      "| customer_code | product_code | score | rank |\n",
      "+---------------+--------------+-------+------+\n",
      "|     118972    |      4       |  0.0  |  1   |\n",
      "|     118972    |      18      |  0.0  |  2   |\n",
      "|     118972    |      21      |  0.0  |  3   |\n",
      "|     118972    |      11      |  0.0  |  4   |\n",
      "|     118972    |      13      |  0.0  |  5   |\n",
      "|     118972    |      9       |  0.0  |  6   |\n",
      "|     118972    |      12      |  0.0  |  7   |\n",
      "|     118972    |      6       |  0.0  |  8   |\n",
      "|     118972    |      10      |  0.0  |  9   |\n",
      "|     118972    |      19      |  0.0  |  10  |\n",
      "|     118972    |      7       |  0.0  |  11  |\n",
      "|     118972    |      3       |  0.0  |  12  |\n",
      "|     118972    |      17      |  0.0  |  13  |\n",
      "|     118972    |      8       |  0.0  |  14  |\n",
      "|     118972    |      14      |  0.0  |  15  |\n",
      "|     116132    |      4       |  0.0  |  1   |\n",
      "|     116132    |      18      |  0.0  |  2   |\n",
      "|     116132    |      21      |  0.0  |  3   |\n",
      "|     116132    |      11      |  0.0  |  4   |\n",
      "|     116132    |      13      |  0.0  |  5   |\n",
      "|     116132    |      9       |  0.0  |  6   |\n",
      "|     116132    |      12      |  0.0  |  7   |\n",
      "|     116132    |      6       |  0.0  |  8   |\n",
      "|     116132    |      10      |  0.0  |  9   |\n",
      "|     116132    |      19      |  0.0  |  10  |\n",
      "|     116132    |      7       |  0.0  |  11  |\n",
      "|     116132    |      3       |  0.0  |  12  |\n",
      "|     116132    |      17      |  0.0  |  13  |\n",
      "|     116132    |      8       |  0.0  |  14  |\n",
      "|     116132    |      14      |  0.0  |  15  |\n",
      "+---------------+--------------+-------+------+\n",
      "[599460 rows x 4 columns]\n",
      "\n"
     ]
    }
   ],
   "source": [
    "#Pearson similarity model using purchase dummies\n",
    "name = 'pearson'\n",
    "target = 'purchase_dummy'\n",
    "pear_dummy = model(train_data_dummy, name, user_id, item_id, target, users_to_recommend, n_rec, n_display)"
   ]
  },
  {
   "cell_type": "code",
   "execution_count": 360,
   "metadata": {},
   "outputs": [
    {
     "data": {
      "text/html": [
       "<pre>Preparing data set.</pre>"
      ],
      "text/plain": [
       "Preparing data set."
      ]
     },
     "metadata": {},
     "output_type": "display_data"
    },
    {
     "data": {
      "text/html": [
       "<pre>    Data has 19657 observations with 19657 users and 20 items.</pre>"
      ],
      "text/plain": [
       "    Data has 19657 observations with 19657 users and 20 items."
      ]
     },
     "metadata": {},
     "output_type": "display_data"
    },
    {
     "data": {
      "text/html": [
       "<pre>    Data prepared in: 0.047062s</pre>"
      ],
      "text/plain": [
       "    Data prepared in: 0.047062s"
      ]
     },
     "metadata": {},
     "output_type": "display_data"
    },
    {
     "data": {
      "text/html": [
       "<pre>Training model from provided data.</pre>"
      ],
      "text/plain": [
       "Training model from provided data."
      ]
     },
     "metadata": {},
     "output_type": "display_data"
    },
    {
     "data": {
      "text/html": [
       "<pre>Gathering per-item and per-user statistics.</pre>"
      ],
      "text/plain": [
       "Gathering per-item and per-user statistics."
      ]
     },
     "metadata": {},
     "output_type": "display_data"
    },
    {
     "data": {
      "text/html": [
       "<pre>+--------------------------------+------------+</pre>"
      ],
      "text/plain": [
       "+--------------------------------+------------+"
      ]
     },
     "metadata": {},
     "output_type": "display_data"
    },
    {
     "data": {
      "text/html": [
       "<pre>| Elapsed Time (Item Statistics) | % Complete |</pre>"
      ],
      "text/plain": [
       "| Elapsed Time (Item Statistics) | % Complete |"
      ]
     },
     "metadata": {},
     "output_type": "display_data"
    },
    {
     "data": {
      "text/html": [
       "<pre>+--------------------------------+------------+</pre>"
      ],
      "text/plain": [
       "+--------------------------------+------------+"
      ]
     },
     "metadata": {},
     "output_type": "display_data"
    },
    {
     "data": {
      "text/html": [
       "<pre>| 1.779ms                        | 5          |</pre>"
      ],
      "text/plain": [
       "| 1.779ms                        | 5          |"
      ]
     },
     "metadata": {},
     "output_type": "display_data"
    },
    {
     "data": {
      "text/html": [
       "<pre>| 4.612ms                        | 100        |</pre>"
      ],
      "text/plain": [
       "| 4.612ms                        | 100        |"
      ]
     },
     "metadata": {},
     "output_type": "display_data"
    },
    {
     "data": {
      "text/html": [
       "<pre>+--------------------------------+------------+</pre>"
      ],
      "text/plain": [
       "+--------------------------------+------------+"
      ]
     },
     "metadata": {},
     "output_type": "display_data"
    },
    {
     "data": {
      "text/html": [
       "<pre>Setting up lookup tables.</pre>"
      ],
      "text/plain": [
       "Setting up lookup tables."
      ]
     },
     "metadata": {},
     "output_type": "display_data"
    },
    {
     "data": {
      "text/html": [
       "<pre>Processing data in one pass using dense lookup tables.</pre>"
      ],
      "text/plain": [
       "Processing data in one pass using dense lookup tables."
      ]
     },
     "metadata": {},
     "output_type": "display_data"
    },
    {
     "data": {
      "text/html": [
       "<pre>+-------------------------------------+------------------+-----------------+</pre>"
      ],
      "text/plain": [
       "+-------------------------------------+------------------+-----------------+"
      ]
     },
     "metadata": {},
     "output_type": "display_data"
    },
    {
     "data": {
      "text/html": [
       "<pre>| Elapsed Time (Constructing Lookups) | Total % Complete | Items Processed |</pre>"
      ],
      "text/plain": [
       "| Elapsed Time (Constructing Lookups) | Total % Complete | Items Processed |"
      ]
     },
     "metadata": {},
     "output_type": "display_data"
    },
    {
     "data": {
      "text/html": [
       "<pre>+-------------------------------------+------------------+-----------------+</pre>"
      ],
      "text/plain": [
       "+-------------------------------------+------------------+-----------------+"
      ]
     },
     "metadata": {},
     "output_type": "display_data"
    },
    {
     "data": {
      "text/html": [
       "<pre>| 5.372ms                             | 0                | 0               |</pre>"
      ],
      "text/plain": [
       "| 5.372ms                             | 0                | 0               |"
      ]
     },
     "metadata": {},
     "output_type": "display_data"
    },
    {
     "data": {
      "text/html": [
       "<pre>| 8.762ms                             | 100              | 20              |</pre>"
      ],
      "text/plain": [
       "| 8.762ms                             | 100              | 20              |"
      ]
     },
     "metadata": {},
     "output_type": "display_data"
    },
    {
     "data": {
      "text/html": [
       "<pre>+-------------------------------------+------------------+-----------------+</pre>"
      ],
      "text/plain": [
       "+-------------------------------------+------------------+-----------------+"
      ]
     },
     "metadata": {},
     "output_type": "display_data"
    },
    {
     "data": {
      "text/html": [
       "<pre>Finalizing lookup tables.</pre>"
      ],
      "text/plain": [
       "Finalizing lookup tables."
      ]
     },
     "metadata": {},
     "output_type": "display_data"
    },
    {
     "data": {
      "text/html": [
       "<pre>Generating candidate set for working with new users.</pre>"
      ],
      "text/plain": [
       "Generating candidate set for working with new users."
      ]
     },
     "metadata": {},
     "output_type": "display_data"
    },
    {
     "data": {
      "text/html": [
       "<pre>Finished training in 0.014569s</pre>"
      ],
      "text/plain": [
       "Finished training in 0.014569s"
      ]
     },
     "metadata": {},
     "output_type": "display_data"
    },
    {
     "data": {
      "text/html": [
       "<pre>recommendations finished on 1000/39964 queries. users per second: 40993.7</pre>"
      ],
      "text/plain": [
       "recommendations finished on 1000/39964 queries. users per second: 40993.7"
      ]
     },
     "metadata": {},
     "output_type": "display_data"
    },
    {
     "data": {
      "text/html": [
       "<pre>recommendations finished on 2000/39964 queries. users per second: 43214.3</pre>"
      ],
      "text/plain": [
       "recommendations finished on 2000/39964 queries. users per second: 43214.3"
      ]
     },
     "metadata": {},
     "output_type": "display_data"
    },
    {
     "data": {
      "text/html": [
       "<pre>recommendations finished on 3000/39964 queries. users per second: 45010.6</pre>"
      ],
      "text/plain": [
       "recommendations finished on 3000/39964 queries. users per second: 45010.6"
      ]
     },
     "metadata": {},
     "output_type": "display_data"
    },
    {
     "data": {
      "text/html": [
       "<pre>recommendations finished on 4000/39964 queries. users per second: 54404</pre>"
      ],
      "text/plain": [
       "recommendations finished on 4000/39964 queries. users per second: 54404"
      ]
     },
     "metadata": {},
     "output_type": "display_data"
    },
    {
     "data": {
      "text/html": [
       "<pre>recommendations finished on 5000/39964 queries. users per second: 62943</pre>"
      ],
      "text/plain": [
       "recommendations finished on 5000/39964 queries. users per second: 62943"
      ]
     },
     "metadata": {},
     "output_type": "display_data"
    },
    {
     "data": {
      "text/html": [
       "<pre>recommendations finished on 6000/39964 queries. users per second: 65284.8</pre>"
      ],
      "text/plain": [
       "recommendations finished on 6000/39964 queries. users per second: 65284.8"
      ]
     },
     "metadata": {},
     "output_type": "display_data"
    },
    {
     "data": {
      "text/html": [
       "<pre>recommendations finished on 7000/39964 queries. users per second: 57426.5</pre>"
      ],
      "text/plain": [
       "recommendations finished on 7000/39964 queries. users per second: 57426.5"
      ]
     },
     "metadata": {},
     "output_type": "display_data"
    },
    {
     "data": {
      "text/html": [
       "<pre>recommendations finished on 8000/39964 queries. users per second: 54554.6</pre>"
      ],
      "text/plain": [
       "recommendations finished on 8000/39964 queries. users per second: 54554.6"
      ]
     },
     "metadata": {},
     "output_type": "display_data"
    },
    {
     "data": {
      "text/html": [
       "<pre>recommendations finished on 9000/39964 queries. users per second: 56202.6</pre>"
      ],
      "text/plain": [
       "recommendations finished on 9000/39964 queries. users per second: 56202.6"
      ]
     },
     "metadata": {},
     "output_type": "display_data"
    },
    {
     "data": {
      "text/html": [
       "<pre>recommendations finished on 10000/39964 queries. users per second: 52725.9</pre>"
      ],
      "text/plain": [
       "recommendations finished on 10000/39964 queries. users per second: 52725.9"
      ]
     },
     "metadata": {},
     "output_type": "display_data"
    },
    {
     "data": {
      "text/html": [
       "<pre>recommendations finished on 11000/39964 queries. users per second: 52277.4</pre>"
      ],
      "text/plain": [
       "recommendations finished on 11000/39964 queries. users per second: 52277.4"
      ]
     },
     "metadata": {},
     "output_type": "display_data"
    },
    {
     "data": {
      "text/html": [
       "<pre>recommendations finished on 12000/39964 queries. users per second: 55963.6</pre>"
      ],
      "text/plain": [
       "recommendations finished on 12000/39964 queries. users per second: 55963.6"
      ]
     },
     "metadata": {},
     "output_type": "display_data"
    },
    {
     "data": {
      "text/html": [
       "<pre>recommendations finished on 13000/39964 queries. users per second: 59371</pre>"
      ],
      "text/plain": [
       "recommendations finished on 13000/39964 queries. users per second: 59371"
      ]
     },
     "metadata": {},
     "output_type": "display_data"
    },
    {
     "data": {
      "text/html": [
       "<pre>recommendations finished on 14000/39964 queries. users per second: 61150.1</pre>"
      ],
      "text/plain": [
       "recommendations finished on 14000/39964 queries. users per second: 61150.1"
      ]
     },
     "metadata": {},
     "output_type": "display_data"
    },
    {
     "data": {
      "text/html": [
       "<pre>recommendations finished on 15000/39964 queries. users per second: 59422.2</pre>"
      ],
      "text/plain": [
       "recommendations finished on 15000/39964 queries. users per second: 59422.2"
      ]
     },
     "metadata": {},
     "output_type": "display_data"
    },
    {
     "data": {
      "text/html": [
       "<pre>recommendations finished on 16000/39964 queries. users per second: 56518.5</pre>"
      ],
      "text/plain": [
       "recommendations finished on 16000/39964 queries. users per second: 56518.5"
      ]
     },
     "metadata": {},
     "output_type": "display_data"
    },
    {
     "data": {
      "text/html": [
       "<pre>recommendations finished on 17000/39964 queries. users per second: 57060.2</pre>"
      ],
      "text/plain": [
       "recommendations finished on 17000/39964 queries. users per second: 57060.2"
      ]
     },
     "metadata": {},
     "output_type": "display_data"
    },
    {
     "data": {
      "text/html": [
       "<pre>recommendations finished on 18000/39964 queries. users per second: 56350.6</pre>"
      ],
      "text/plain": [
       "recommendations finished on 18000/39964 queries. users per second: 56350.6"
      ]
     },
     "metadata": {},
     "output_type": "display_data"
    },
    {
     "data": {
      "text/html": [
       "<pre>recommendations finished on 19000/39964 queries. users per second: 54436</pre>"
      ],
      "text/plain": [
       "recommendations finished on 19000/39964 queries. users per second: 54436"
      ]
     },
     "metadata": {},
     "output_type": "display_data"
    },
    {
     "data": {
      "text/html": [
       "<pre>recommendations finished on 20000/39964 queries. users per second: 53584.5</pre>"
      ],
      "text/plain": [
       "recommendations finished on 20000/39964 queries. users per second: 53584.5"
      ]
     },
     "metadata": {},
     "output_type": "display_data"
    },
    {
     "data": {
      "text/html": [
       "<pre>recommendations finished on 21000/39964 queries. users per second: 51408</pre>"
      ],
      "text/plain": [
       "recommendations finished on 21000/39964 queries. users per second: 51408"
      ]
     },
     "metadata": {},
     "output_type": "display_data"
    },
    {
     "data": {
      "text/html": [
       "<pre>recommendations finished on 22000/39964 queries. users per second: 50749.5</pre>"
      ],
      "text/plain": [
       "recommendations finished on 22000/39964 queries. users per second: 50749.5"
      ]
     },
     "metadata": {},
     "output_type": "display_data"
    },
    {
     "data": {
      "text/html": [
       "<pre>recommendations finished on 23000/39964 queries. users per second: 52199.1</pre>"
      ],
      "text/plain": [
       "recommendations finished on 23000/39964 queries. users per second: 52199.1"
      ]
     },
     "metadata": {},
     "output_type": "display_data"
    },
    {
     "data": {
      "text/html": [
       "<pre>recommendations finished on 24000/39964 queries. users per second: 53544.3</pre>"
      ],
      "text/plain": [
       "recommendations finished on 24000/39964 queries. users per second: 53544.3"
      ]
     },
     "metadata": {},
     "output_type": "display_data"
    },
    {
     "data": {
      "text/html": [
       "<pre>recommendations finished on 25000/39964 queries. users per second: 52345.4</pre>"
      ],
      "text/plain": [
       "recommendations finished on 25000/39964 queries. users per second: 52345.4"
      ]
     },
     "metadata": {},
     "output_type": "display_data"
    },
    {
     "data": {
      "text/html": [
       "<pre>recommendations finished on 26000/39964 queries. users per second: 53398.2</pre>"
      ],
      "text/plain": [
       "recommendations finished on 26000/39964 queries. users per second: 53398.2"
      ]
     },
     "metadata": {},
     "output_type": "display_data"
    },
    {
     "data": {
      "text/html": [
       "<pre>recommendations finished on 27000/39964 queries. users per second: 54062.9</pre>"
      ],
      "text/plain": [
       "recommendations finished on 27000/39964 queries. users per second: 54062.9"
      ]
     },
     "metadata": {},
     "output_type": "display_data"
    },
    {
     "data": {
      "text/html": [
       "<pre>recommendations finished on 28000/39964 queries. users per second: 55657.6</pre>"
      ],
      "text/plain": [
       "recommendations finished on 28000/39964 queries. users per second: 55657.6"
      ]
     },
     "metadata": {},
     "output_type": "display_data"
    },
    {
     "data": {
      "text/html": [
       "<pre>recommendations finished on 29000/39964 queries. users per second: 57069.5</pre>"
      ],
      "text/plain": [
       "recommendations finished on 29000/39964 queries. users per second: 57069.5"
      ]
     },
     "metadata": {},
     "output_type": "display_data"
    },
    {
     "data": {
      "text/html": [
       "<pre>recommendations finished on 30000/39964 queries. users per second: 56574.6</pre>"
      ],
      "text/plain": [
       "recommendations finished on 30000/39964 queries. users per second: 56574.6"
      ]
     },
     "metadata": {},
     "output_type": "display_data"
    },
    {
     "data": {
      "text/html": [
       "<pre>recommendations finished on 31000/39964 queries. users per second: 56538.8</pre>"
      ],
      "text/plain": [
       "recommendations finished on 31000/39964 queries. users per second: 56538.8"
      ]
     },
     "metadata": {},
     "output_type": "display_data"
    },
    {
     "data": {
      "text/html": [
       "<pre>recommendations finished on 32000/39964 queries. users per second: 56054.4</pre>"
      ],
      "text/plain": [
       "recommendations finished on 32000/39964 queries. users per second: 56054.4"
      ]
     },
     "metadata": {},
     "output_type": "display_data"
    },
    {
     "data": {
      "text/html": [
       "<pre>recommendations finished on 33000/39964 queries. users per second: 56750.5</pre>"
      ],
      "text/plain": [
       "recommendations finished on 33000/39964 queries. users per second: 56750.5"
      ]
     },
     "metadata": {},
     "output_type": "display_data"
    },
    {
     "data": {
      "text/html": [
       "<pre>recommendations finished on 34000/39964 queries. users per second: 58029</pre>"
      ],
      "text/plain": [
       "recommendations finished on 34000/39964 queries. users per second: 58029"
      ]
     },
     "metadata": {},
     "output_type": "display_data"
    },
    {
     "data": {
      "text/html": [
       "<pre>recommendations finished on 35000/39964 queries. users per second: 59103.4</pre>"
      ],
      "text/plain": [
       "recommendations finished on 35000/39964 queries. users per second: 59103.4"
      ]
     },
     "metadata": {},
     "output_type": "display_data"
    },
    {
     "data": {
      "text/html": [
       "<pre>recommendations finished on 36000/39964 queries. users per second: 60104.8</pre>"
      ],
      "text/plain": [
       "recommendations finished on 36000/39964 queries. users per second: 60104.8"
      ]
     },
     "metadata": {},
     "output_type": "display_data"
    },
    {
     "data": {
      "text/html": [
       "<pre>recommendations finished on 37000/39964 queries. users per second: 60548.6</pre>"
      ],
      "text/plain": [
       "recommendations finished on 37000/39964 queries. users per second: 60548.6"
      ]
     },
     "metadata": {},
     "output_type": "display_data"
    },
    {
     "data": {
      "text/html": [
       "<pre>recommendations finished on 38000/39964 queries. users per second: 61466.7</pre>"
      ],
      "text/plain": [
       "recommendations finished on 38000/39964 queries. users per second: 61466.7"
      ]
     },
     "metadata": {},
     "output_type": "display_data"
    },
    {
     "data": {
      "text/html": [
       "<pre>recommendations finished on 39000/39964 queries. users per second: 62443.7</pre>"
      ],
      "text/plain": [
       "recommendations finished on 39000/39964 queries. users per second: 62443.7"
      ]
     },
     "metadata": {},
     "output_type": "display_data"
    },
    {
     "name": "stdout",
     "output_type": "stream",
     "text": [
      "+---------------+--------------+----------------------+------+\n",
      "| customer_code | product_code |        score         | rank |\n",
      "+---------------+--------------+----------------------+------+\n",
      "|     118972    |      20      |  0.2718236173393127  |  1   |\n",
      "|     118972    |      3       |  0.2289664744821698  |  2   |\n",
      "|     118972    |      16      | 0.13849028400597932  |  3   |\n",
      "|     118972    |      15      | 0.11095405212192144  |  4   |\n",
      "|     118972    |      19      | 0.10349028400597932  |  5   |\n",
      "|     118972    |      5       | 0.10170867481057702  |  6   |\n",
      "|     118972    |      10      |  0.0969318424475378  |  7   |\n",
      "|     118972    |      17      | 0.08003476103432733  |  8   |\n",
      "|     118972    |      6       | 0.07401797470608382  |  9   |\n",
      "|     118972    |      14      | 0.05237917289486815  |  10  |\n",
      "|     118972    |      8       | 0.048294205574606786 |  11  |\n",
      "|     118972    |      9       | 0.035018061783757104 |  12  |\n",
      "|     118972    |      7       | 0.033985779501475466 |  13  |\n",
      "|     118972    |      4       | 0.028593928272108382 |  14  |\n",
      "|     118972    |      21      | 0.02693399368863192  |  15  |\n",
      "|     116132    |      20      |  0.2718236173393127  |  1   |\n",
      "|     116132    |      3       |  0.2289664744821698  |  2   |\n",
      "|     116132    |      16      | 0.13849028400597932  |  3   |\n",
      "|     116132    |      15      | 0.11095405212192144  |  4   |\n",
      "|     116132    |      19      | 0.10349028400597932  |  5   |\n",
      "|     116132    |      5       | 0.10170867481057702  |  6   |\n",
      "|     116132    |      10      |  0.0969318424475378  |  7   |\n",
      "|     116132    |      17      | 0.08003476103432733  |  8   |\n",
      "|     116132    |      6       | 0.07401797470608382  |  9   |\n",
      "|     116132    |      14      | 0.05237917289486815  |  10  |\n",
      "|     116132    |      8       | 0.048294205574606786 |  11  |\n",
      "|     116132    |      9       | 0.035018061783757104 |  12  |\n",
      "|     116132    |      7       | 0.033985779501475466 |  13  |\n",
      "|     116132    |      4       | 0.028593928272108382 |  14  |\n",
      "|     116132    |      21      | 0.02693399368863192  |  15  |\n",
      "+---------------+--------------+----------------------+------+\n",
      "[599460 rows x 4 columns]\n",
      "\n"
     ]
    }
   ],
   "source": [
    "#Pearson similarity model using scaled purchase frequencies\n",
    "name = 'pearson'\n",
    "target = 'scaled_purchase_freq'\n",
    "pear_norm = model(train_data_norm, name, user_id, item_id, target, users_to_recommend, n_rec, n_display)"
   ]
  },
  {
   "cell_type": "markdown",
   "metadata": {},
   "source": [
    "### Model Evaluation\n",
    "\n",
    "It is now time to evaluate the models we have performed. We will be using three different evaluation methods: \n",
    "\n",
    "    1. Root Mean Squared Error\n",
    "        - The smaller the RMSE value, the better our model performed\n",
    "        \n",
    "    2. Precision\n",
    "        - What percentage of products that a user buys that are actually recommended?\n",
    "        \n",
    "    3. Recall\n",
    "        - How many of the recommended items did the user actually like?"
   ]
  },
  {
   "cell_type": "code",
   "execution_count": 361,
   "metadata": {},
   "outputs": [],
   "source": [
    "#For simplicity, create variables to use in calling the evaluation methods\n",
    "models_w_counts = [popularity, cos, pear]\n",
    "models_w_dummy = [pop_dummy, cos_dummy, pear_dummy]\n",
    "models_w_norm = [pop_norm, cos_norm, pear_norm]\n",
    "\n",
    "names_w_counts = ['Popularity Model on Purchase Counts', 'Cosine Similarity on Purchase Counts', 'Pearson Similarity on Purchase Counts']\n",
    "names_w_dummy = ['Popularity Model on Purchase Dummy', 'Cosine Similarity on Purchase Dummy', 'Pearson Similarity on Purchase Dummy']\n",
    "names_w_norm = ['Popularity Model on Scaled Purchase Counts', 'Cosine Similarity on Scaled Purchase Counts', 'Pearson Similarity on Scaled Purchase Counts']"
   ]
  },
  {
   "cell_type": "code",
   "execution_count": 362,
   "metadata": {},
   "outputs": [
    {
     "name": "stdout",
     "output_type": "stream",
     "text": [
      "PROGRESS: Evaluate model Popularity Model on Purchase Counts\n"
     ]
    },
    {
     "data": {
      "text/html": [
       "<pre>recommendations finished on 1000/4915 queries. users per second: 276396</pre>"
      ],
      "text/plain": [
       "recommendations finished on 1000/4915 queries. users per second: 276396"
      ]
     },
     "metadata": {},
     "output_type": "display_data"
    },
    {
     "data": {
      "text/html": [
       "<pre>recommendations finished on 2000/4915 queries. users per second: 267237</pre>"
      ],
      "text/plain": [
       "recommendations finished on 2000/4915 queries. users per second: 267237"
      ]
     },
     "metadata": {},
     "output_type": "display_data"
    },
    {
     "data": {
      "text/html": [
       "<pre>recommendations finished on 3000/4915 queries. users per second: 258911</pre>"
      ],
      "text/plain": [
       "recommendations finished on 3000/4915 queries. users per second: 258911"
      ]
     },
     "metadata": {},
     "output_type": "display_data"
    },
    {
     "data": {
      "text/html": [
       "<pre>recommendations finished on 4000/4915 queries. users per second: 133936</pre>"
      ],
      "text/plain": [
       "recommendations finished on 4000/4915 queries. users per second: 133936"
      ]
     },
     "metadata": {},
     "output_type": "display_data"
    },
    {
     "name": "stdout",
     "output_type": "stream",
     "text": [
      "\n",
      "Precision and recall summary statistics by cutoff\n",
      "+--------+----------------------+---------------------+\n",
      "| cutoff |    mean_precision    |     mean_recall     |\n",
      "+--------+----------------------+---------------------+\n",
      "|   1    | 0.15768056968463867  | 0.15768056968463867 |\n",
      "|   2    | 0.07884028484231934  | 0.15768056968463867 |\n",
      "|   3    | 0.05710410308579187  | 0.17131230925737503 |\n",
      "|   4    |  0.0430315361139369  |  0.1721261444557476 |\n",
      "|   5    | 0.03458799593082409  | 0.17293997965412025 |\n",
      "|   6    | 0.06425907087148194  | 0.38555442522889094 |\n",
      "|   7    | 0.059439035023979174 |  0.4160732451678536 |\n",
      "|   8    | 0.05592573753814852  |  0.4474059003051882 |\n",
      "|   9    | 0.052311518028710285 |  0.4708036622583921 |\n",
      "|   10   | 0.05407934893184134  |  0.5407934893184136 |\n",
      "+--------+----------------------+---------------------+\n",
      "[10 rows x 3 columns]\n",
      "\n",
      "\n",
      "Overall RMSE: 0.8286392012124091\n",
      "\n",
      "Per User RMSE (best)\n",
      "+---------------+---------------------+-------+\n",
      "| customer_code |         rmse        | count |\n",
      "+---------------+---------------------+-------+\n",
      "|    1277723    | 0.08390646492434661 |   1   |\n",
      "+---------------+---------------------+-------+\n",
      "[1 rows x 3 columns]\n",
      "\n",
      "\n",
      "Per User RMSE (worst)\n",
      "+---------------+-------------------+-------+\n",
      "| customer_code |        rmse       | count |\n",
      "+---------------+-------------------+-------+\n",
      "|     878085    | 5.217977528089888 |   1   |\n",
      "+---------------+-------------------+-------+\n",
      "[1 rows x 3 columns]\n",
      "\n",
      "\n",
      "Per Item RMSE (best)\n",
      "+--------------+---------------------+-------+\n",
      "| product_code |         rmse        | count |\n",
      "+--------------+---------------------+-------+\n",
      "|      20      | 0.45825756949558405 |   4   |\n",
      "+--------------+---------------------+-------+\n",
      "[1 rows x 3 columns]\n",
      "\n",
      "\n",
      "Per Item RMSE (worst)\n",
      "+--------------+--------------------+-------+\n",
      "| product_code |        rmse        | count |\n",
      "+--------------+--------------------+-------+\n",
      "|      19      | 0.9543951871545405 |   67  |\n",
      "+--------------+--------------------+-------+\n",
      "[1 rows x 3 columns]\n",
      "\n",
      "PROGRESS: Evaluate model Cosine Similarity on Purchase Counts\n"
     ]
    },
    {
     "data": {
      "text/html": [
       "<pre>recommendations finished on 1000/4915 queries. users per second: 296648</pre>"
      ],
      "text/plain": [
       "recommendations finished on 1000/4915 queries. users per second: 296648"
      ]
     },
     "metadata": {},
     "output_type": "display_data"
    },
    {
     "data": {
      "text/html": [
       "<pre>recommendations finished on 2000/4915 queries. users per second: 181521</pre>"
      ],
      "text/plain": [
       "recommendations finished on 2000/4915 queries. users per second: 181521"
      ]
     },
     "metadata": {},
     "output_type": "display_data"
    },
    {
     "data": {
      "text/html": [
       "<pre>recommendations finished on 3000/4915 queries. users per second: 169252</pre>"
      ],
      "text/plain": [
       "recommendations finished on 3000/4915 queries. users per second: 169252"
      ]
     },
     "metadata": {},
     "output_type": "display_data"
    },
    {
     "data": {
      "text/html": [
       "<pre>recommendations finished on 4000/4915 queries. users per second: 171910</pre>"
      ],
      "text/plain": [
       "recommendations finished on 4000/4915 queries. users per second: 171910"
      ]
     },
     "metadata": {},
     "output_type": "display_data"
    },
    {
     "name": "stdout",
     "output_type": "stream",
     "text": [
      "\n",
      "Precision and recall summary statistics by cutoff\n",
      "+--------+----------------------+---------------------+\n",
      "| cutoff |    mean_precision    |     mean_recall     |\n",
      "+--------+----------------------+---------------------+\n",
      "|   1    | 0.15768056968463903  | 0.15768056968463903 |\n",
      "|   2    | 0.07884028484231954  |  0.1576805696846391 |\n",
      "|   3    | 0.05710410308579176  | 0.17131230925737556 |\n",
      "|   4    | 0.043031536113936834 | 0.17212614445574734 |\n",
      "|   5    | 0.034587995930824005 |  0.1729399796541202 |\n",
      "|   6    | 0.06425907087148196  | 0.38555442522889105 |\n",
      "|   7    | 0.059439035023979125 |  0.4160732451678534 |\n",
      "|   8    | 0.05592573753814843  | 0.44740590030518745 |\n",
      "|   9    |  0.0523115180287103  |  0.4708036622583927 |\n",
      "|   10   | 0.05407934893184147  |  0.5407934893184138 |\n",
      "+--------+----------------------+---------------------+\n",
      "[10 rows x 3 columns]\n",
      "\n",
      "\n",
      "Overall RMSE: 1.0191326912034409\n",
      "\n",
      "Per User RMSE (best)\n",
      "+---------------+------+-------+\n",
      "| customer_code | rmse | count |\n",
      "+---------------+------+-------+\n",
      "|     897906    | 0.0  |   1   |\n",
      "+---------------+------+-------+\n",
      "[1 rows x 3 columns]\n",
      "\n",
      "\n",
      "Per User RMSE (worst)\n",
      "+---------------+-------------------+-------+\n",
      "| customer_code |        rmse       | count |\n",
      "+---------------+-------------------+-------+\n",
      "|     878085    | 5.825820665344789 |   1   |\n",
      "+---------------+-------------------+-------+\n",
      "[1 rows x 3 columns]\n",
      "\n",
      "\n",
      "Per Item RMSE (best)\n",
      "+--------------+--------------------+-------+\n",
      "| product_code |        rmse        | count |\n",
      "+--------------+--------------------+-------+\n",
      "|      16      | 0.5458396860594928 |   4   |\n",
      "+--------------+--------------------+-------+\n",
      "[1 rows x 3 columns]\n",
      "\n",
      "\n",
      "Per Item RMSE (worst)\n",
      "+--------------+--------------------+-------+\n",
      "| product_code |        rmse        | count |\n",
      "+--------------+--------------------+-------+\n",
      "|      15      | 1.3391721665123753 |   7   |\n",
      "+--------------+--------------------+-------+\n",
      "[1 rows x 3 columns]\n",
      "\n",
      "PROGRESS: Evaluate model Pearson Similarity on Purchase Counts\n"
     ]
    },
    {
     "data": {
      "text/html": [
       "<pre>recommendations finished on 1000/4915 queries. users per second: 305157</pre>"
      ],
      "text/plain": [
       "recommendations finished on 1000/4915 queries. users per second: 305157"
      ]
     },
     "metadata": {},
     "output_type": "display_data"
    },
    {
     "data": {
      "text/html": [
       "<pre>recommendations finished on 2000/4915 queries. users per second: 241809</pre>"
      ],
      "text/plain": [
       "recommendations finished on 2000/4915 queries. users per second: 241809"
      ]
     },
     "metadata": {},
     "output_type": "display_data"
    },
    {
     "data": {
      "text/html": [
       "<pre>recommendations finished on 3000/4915 queries. users per second: 210689</pre>"
      ],
      "text/plain": [
       "recommendations finished on 3000/4915 queries. users per second: 210689"
      ]
     },
     "metadata": {},
     "output_type": "display_data"
    },
    {
     "data": {
      "text/html": [
       "<pre>recommendations finished on 4000/4915 queries. users per second: 210172</pre>"
      ],
      "text/plain": [
       "recommendations finished on 4000/4915 queries. users per second: 210172"
      ]
     },
     "metadata": {},
     "output_type": "display_data"
    },
    {
     "name": "stdout",
     "output_type": "stream",
     "text": [
      "\n",
      "Precision and recall summary statistics by cutoff\n",
      "+--------+----------------------+---------------------+\n",
      "| cutoff |    mean_precision    |     mean_recall     |\n",
      "+--------+----------------------+---------------------+\n",
      "|   1    | 0.15768056968463892  | 0.15768056968463892 |\n",
      "|   2    | 0.07884028484231947  | 0.15768056968463895 |\n",
      "|   3    | 0.05710410308579192  |  0.1713123092573756 |\n",
      "|   4    | 0.04303153611393696  | 0.17212614445574784 |\n",
      "|   5    | 0.034587995930824074 | 0.17293997965411972 |\n",
      "|   6    | 0.06425907087148197  |  0.3855544252288904 |\n",
      "|   7    | 0.05943903502397914  | 0.41607324516785316 |\n",
      "|   8    |  0.0559257375381485  |  0.447405900305188  |\n",
      "|   9    | 0.05231151802871027  |  0.4708036622583925 |\n",
      "|   10   | 0.054079348931841194 |  0.5407934893184132 |\n",
      "+--------+----------------------+---------------------+\n",
      "[10 rows x 3 columns]\n",
      "\n",
      "\n",
      "Overall RMSE: 1.0191326912034409\n",
      "\n",
      "Per User RMSE (best)\n",
      "+---------------+------+-------+\n",
      "| customer_code | rmse | count |\n",
      "+---------------+------+-------+\n",
      "|     897906    | 0.0  |   1   |\n",
      "+---------------+------+-------+\n",
      "[1 rows x 3 columns]\n",
      "\n",
      "\n",
      "Per User RMSE (worst)\n",
      "+---------------+-------------------+-------+\n",
      "| customer_code |        rmse       | count |\n",
      "+---------------+-------------------+-------+\n",
      "|     878085    | 5.825820665344789 |   1   |\n",
      "+---------------+-------------------+-------+\n",
      "[1 rows x 3 columns]\n",
      "\n",
      "\n",
      "Per Item RMSE (best)\n",
      "+--------------+--------------------+-------+\n",
      "| product_code |        rmse        | count |\n",
      "+--------------+--------------------+-------+\n",
      "|      16      | 0.5458396860594928 |   4   |\n",
      "+--------------+--------------------+-------+\n",
      "[1 rows x 3 columns]\n",
      "\n",
      "\n",
      "Per Item RMSE (worst)\n",
      "+--------------+--------------------+-------+\n",
      "| product_code |        rmse        | count |\n",
      "+--------------+--------------------+-------+\n",
      "|      15      | 1.3391721665123753 |   7   |\n",
      "+--------------+--------------------+-------+\n",
      "[1 rows x 3 columns]\n",
      "\n",
      "PROGRESS: Evaluate model Popularity Model on Purchase Dummy\n"
     ]
    },
    {
     "data": {
      "text/html": [
       "<pre>recommendations finished on 1000/4915 queries. users per second: 345781</pre>"
      ],
      "text/plain": [
       "recommendations finished on 1000/4915 queries. users per second: 345781"
      ]
     },
     "metadata": {},
     "output_type": "display_data"
    },
    {
     "data": {
      "text/html": [
       "<pre>recommendations finished on 2000/4915 queries. users per second: 253229</pre>"
      ],
      "text/plain": [
       "recommendations finished on 2000/4915 queries. users per second: 253229"
      ]
     },
     "metadata": {},
     "output_type": "display_data"
    },
    {
     "data": {
      "text/html": [
       "<pre>recommendations finished on 3000/4915 queries. users per second: 208333</pre>"
      ],
      "text/plain": [
       "recommendations finished on 3000/4915 queries. users per second: 208333"
      ]
     },
     "metadata": {},
     "output_type": "display_data"
    },
    {
     "data": {
      "text/html": [
       "<pre>recommendations finished on 4000/4915 queries. users per second: 211082</pre>"
      ],
      "text/plain": [
       "recommendations finished on 4000/4915 queries. users per second: 211082"
      ]
     },
     "metadata": {},
     "output_type": "display_data"
    },
    {
     "name": "stdout",
     "output_type": "stream",
     "text": [
      "\n",
      "Precision and recall summary statistics by cutoff\n",
      "+--------+---------------------+---------------------+\n",
      "| cutoff |    mean_precision   |     mean_recall     |\n",
      "+--------+---------------------+---------------------+\n",
      "|   1    | 0.21810783316378465 | 0.21810783316378465 |\n",
      "|   2    | 0.15951169888097683 | 0.31902339776195365 |\n",
      "|   3    |  0.1774160732451681 |  0.5322482197355034 |\n",
      "|   4    | 0.16983723296032516 |  0.6793489318413006 |\n",
      "|   5    | 0.14929806714140353 |  0.7464903357070194 |\n",
      "|   6    | 0.12858596134282838 |  0.7715157680569669 |\n",
      "|   7    | 0.11434384537131241 |  0.800406917599186  |\n",
      "|   8    | 0.10818921668362176 |  0.8655137334689741 |\n",
      "|   9    | 0.09969481180061054 |  0.897253306205494  |\n",
      "|   10   | 0.09011190233977616 |  0.9011190233977616 |\n",
      "+--------+---------------------+---------------------+\n",
      "[10 rows x 3 columns]\n",
      "\n",
      "\n",
      "Overall RMSE: 0.0\n",
      "\n",
      "Per User RMSE (best)\n",
      "+---------------+------+-------+\n",
      "| customer_code | rmse | count |\n",
      "+---------------+------+-------+\n",
      "|     349615    | 0.0  |   1   |\n",
      "+---------------+------+-------+\n",
      "[1 rows x 3 columns]\n",
      "\n",
      "\n",
      "Per User RMSE (worst)\n",
      "+---------------+------+-------+\n",
      "| customer_code | rmse | count |\n",
      "+---------------+------+-------+\n",
      "|     598086    | 0.0  |   1   |\n",
      "+---------------+------+-------+\n",
      "[1 rows x 3 columns]\n",
      "\n",
      "\n",
      "Per Item RMSE (best)\n",
      "+--------------+------+-------+\n",
      "| product_code | rmse | count |\n",
      "+--------------+------+-------+\n",
      "|      17      | 0.0  |  164  |\n",
      "+--------------+------+-------+\n",
      "[1 rows x 3 columns]\n",
      "\n",
      "\n",
      "Per Item RMSE (worst)\n",
      "+--------------+------+-------+\n",
      "| product_code | rmse | count |\n",
      "+--------------+------+-------+\n",
      "|      13      | 0.0  |  123  |\n",
      "+--------------+------+-------+\n",
      "[1 rows x 3 columns]\n",
      "\n",
      "PROGRESS: Evaluate model Cosine Similarity on Purchase Dummy\n"
     ]
    },
    {
     "data": {
      "text/html": [
       "<pre>recommendations finished on 1000/4915 queries. users per second: 114758</pre>"
      ],
      "text/plain": [
       "recommendations finished on 1000/4915 queries. users per second: 114758"
      ]
     },
     "metadata": {},
     "output_type": "display_data"
    },
    {
     "data": {
      "text/html": [
       "<pre>recommendations finished on 2000/4915 queries. users per second: 99815.3</pre>"
      ],
      "text/plain": [
       "recommendations finished on 2000/4915 queries. users per second: 99815.3"
      ]
     },
     "metadata": {},
     "output_type": "display_data"
    },
    {
     "data": {
      "text/html": [
       "<pre>recommendations finished on 3000/4915 queries. users per second: 74445.4</pre>"
      ],
      "text/plain": [
       "recommendations finished on 3000/4915 queries. users per second: 74445.4"
      ]
     },
     "metadata": {},
     "output_type": "display_data"
    },
    {
     "data": {
      "text/html": [
       "<pre>recommendations finished on 4000/4915 queries. users per second: 75125.8</pre>"
      ],
      "text/plain": [
       "recommendations finished on 4000/4915 queries. users per second: 75125.8"
      ]
     },
     "metadata": {},
     "output_type": "display_data"
    },
    {
     "name": "stdout",
     "output_type": "stream",
     "text": [
      "\n",
      "Precision and recall summary statistics by cutoff\n",
      "+--------+---------------------+---------------------+\n",
      "| cutoff |    mean_precision   |     mean_recall     |\n",
      "+--------+---------------------+---------------------+\n",
      "|   1    |  0.2181078331637853 |  0.2181078331637853 |\n",
      "|   2    | 0.15951169888097746 | 0.31902339776195493 |\n",
      "|   3    | 0.17741607324516848 |  0.5322482197355026 |\n",
      "|   4    |  0.1698372329603261 |  0.6793489318413044 |\n",
      "|   5    | 0.14929806714140342 |  0.7464903357070202 |\n",
      "|   6    | 0.12858596134282835 |  0.7715157680569679 |\n",
      "|   7    | 0.11434384537131237 |  0.8004069175991858 |\n",
      "|   8    | 0.10818921668362148 |  0.8655137334689719 |\n",
      "|   9    | 0.09969481180061064 |  0.8972533062054924 |\n",
      "|   10   | 0.09011190233977631 |  0.9011190233977603 |\n",
      "+--------+---------------------+---------------------+\n",
      "[10 rows x 3 columns]\n",
      "\n",
      "\n",
      "Overall RMSE: 1.0\n",
      "\n",
      "Per User RMSE (best)\n",
      "+---------------+------+-------+\n",
      "| customer_code | rmse | count |\n",
      "+---------------+------+-------+\n",
      "|     349615    | 1.0  |   1   |\n",
      "+---------------+------+-------+\n",
      "[1 rows x 3 columns]\n",
      "\n",
      "\n",
      "Per User RMSE (worst)\n",
      "+---------------+------+-------+\n",
      "| customer_code | rmse | count |\n",
      "+---------------+------+-------+\n",
      "|     598086    | 1.0  |   1   |\n",
      "+---------------+------+-------+\n",
      "[1 rows x 3 columns]\n",
      "\n",
      "\n",
      "Per Item RMSE (best)\n",
      "+--------------+------+-------+\n",
      "| product_code | rmse | count |\n",
      "+--------------+------+-------+\n",
      "|      17      | 1.0  |  164  |\n",
      "+--------------+------+-------+\n",
      "[1 rows x 3 columns]\n",
      "\n",
      "\n",
      "Per Item RMSE (worst)\n",
      "+--------------+------+-------+\n",
      "| product_code | rmse | count |\n",
      "+--------------+------+-------+\n",
      "|      13      | 1.0  |  123  |\n",
      "+--------------+------+-------+\n",
      "[1 rows x 3 columns]\n",
      "\n",
      "PROGRESS: Evaluate model Pearson Similarity on Purchase Dummy\n"
     ]
    },
    {
     "data": {
      "text/html": [
       "<pre>recommendations finished on 1000/4915 queries. users per second: 198413</pre>"
      ],
      "text/plain": [
       "recommendations finished on 1000/4915 queries. users per second: 198413"
      ]
     },
     "metadata": {},
     "output_type": "display_data"
    },
    {
     "data": {
      "text/html": [
       "<pre>recommendations finished on 2000/4915 queries. users per second: 187776</pre>"
      ],
      "text/plain": [
       "recommendations finished on 2000/4915 queries. users per second: 187776"
      ]
     },
     "metadata": {},
     "output_type": "display_data"
    },
    {
     "data": {
      "text/html": [
       "<pre>recommendations finished on 3000/4915 queries. users per second: 178338</pre>"
      ],
      "text/plain": [
       "recommendations finished on 3000/4915 queries. users per second: 178338"
      ]
     },
     "metadata": {},
     "output_type": "display_data"
    },
    {
     "data": {
      "text/html": [
       "<pre>recommendations finished on 4000/4915 queries. users per second: 169005</pre>"
      ],
      "text/plain": [
       "recommendations finished on 4000/4915 queries. users per second: 169005"
      ]
     },
     "metadata": {},
     "output_type": "display_data"
    },
    {
     "name": "stdout",
     "output_type": "stream",
     "text": [
      "\n",
      "Precision and recall summary statistics by cutoff\n",
      "+--------+---------------------+--------------------+\n",
      "| cutoff |    mean_precision   |    mean_recall     |\n",
      "+--------+---------------------+--------------------+\n",
      "|   1    |  0.2181078331637844 | 0.2181078331637844 |\n",
      "|   2    |  0.1595116988809769 | 0.3190233977619538 |\n",
      "|   3    |  0.1774160732451676 | 0.5322482197355042 |\n",
      "|   4    | 0.16983723296032618 | 0.6793489318413047 |\n",
      "|   5    | 0.14929806714140362 | 0.7464903357070178 |\n",
      "|   6    | 0.12858596134282843 | 0.7715157680569668 |\n",
      "|   7    | 0.11434384537131242 | 0.8004069175991851 |\n",
      "|   8    | 0.10818921668362165 | 0.8655137334689732 |\n",
      "|   9    | 0.09969481180061053 | 0.8972533062054924 |\n",
      "|   10   | 0.09011190233977617 | 0.9011190233977616 |\n",
      "+--------+---------------------+--------------------+\n",
      "[10 rows x 3 columns]\n",
      "\n",
      "\n",
      "Overall RMSE: 1.0\n",
      "\n",
      "Per User RMSE (best)\n",
      "+---------------+------+-------+\n",
      "| customer_code | rmse | count |\n",
      "+---------------+------+-------+\n",
      "|     349615    | 1.0  |   1   |\n",
      "+---------------+------+-------+\n",
      "[1 rows x 3 columns]\n",
      "\n",
      "\n",
      "Per User RMSE (worst)\n",
      "+---------------+------+-------+\n",
      "| customer_code | rmse | count |\n",
      "+---------------+------+-------+\n",
      "|     598086    | 1.0  |   1   |\n",
      "+---------------+------+-------+\n",
      "[1 rows x 3 columns]\n",
      "\n",
      "\n",
      "Per Item RMSE (best)\n",
      "+--------------+------+-------+\n",
      "| product_code | rmse | count |\n",
      "+--------------+------+-------+\n",
      "|      17      | 1.0  |  164  |\n",
      "+--------------+------+-------+\n",
      "[1 rows x 3 columns]\n",
      "\n",
      "\n",
      "Per Item RMSE (worst)\n",
      "+--------------+------+-------+\n",
      "| product_code | rmse | count |\n",
      "+--------------+------+-------+\n",
      "|      13      | 1.0  |  123  |\n",
      "+--------------+------+-------+\n",
      "[1 rows x 3 columns]\n",
      "\n",
      "PROGRESS: Evaluate model Popularity Model on Scaled Purchase Counts\n"
     ]
    },
    {
     "data": {
      "text/html": [
       "<pre>recommendations finished on 1000/4915 queries. users per second: 321647</pre>"
      ],
      "text/plain": [
       "recommendations finished on 1000/4915 queries. users per second: 321647"
      ]
     },
     "metadata": {},
     "output_type": "display_data"
    },
    {
     "data": {
      "text/html": [
       "<pre>recommendations finished on 2000/4915 queries. users per second: 239149</pre>"
      ],
      "text/plain": [
       "recommendations finished on 2000/4915 queries. users per second: 239149"
      ]
     },
     "metadata": {},
     "output_type": "display_data"
    },
    {
     "data": {
      "text/html": [
       "<pre>recommendations finished on 3000/4915 queries. users per second: 240134</pre>"
      ],
      "text/plain": [
       "recommendations finished on 3000/4915 queries. users per second: 240134"
      ]
     },
     "metadata": {},
     "output_type": "display_data"
    },
    {
     "data": {
      "text/html": [
       "<pre>recommendations finished on 4000/4915 queries. users per second: 238095</pre>"
      ],
      "text/plain": [
       "recommendations finished on 4000/4915 queries. users per second: 238095"
      ]
     },
     "metadata": {},
     "output_type": "display_data"
    },
    {
     "name": "stdout",
     "output_type": "stream",
     "text": [
      "\n",
      "Precision and recall summary statistics by cutoff\n",
      "+--------+-----------------------+-----------------------+\n",
      "| cutoff |     mean_precision    |      mean_recall      |\n",
      "+--------+-----------------------+-----------------------+\n",
      "|   1    | 0.0008138351983723276 | 0.0008138351983723276 |\n",
      "|   2    | 0.0008138351983723274 | 0.0016276703967446548 |\n",
      "|   3    | 0.0006781959986436082 |  0.002034587995930827 |\n",
      "|   4    | 0.0009155645981688714 | 0.0036622583926754857 |\n",
      "|   5    |  0.004231943031536118 |  0.021159715157680586 |\n",
      "|   6    |  0.003763987792472031 |  0.022583926754832142 |\n",
      "|   7    | 0.0038075861066705374 |  0.02665310274669379  |\n",
      "|   8    |  0.007299084435401813 |   0.0583926754832145  |\n",
      "|   9    |  0.01001469424663722  |  0.09013224821973521  |\n",
      "|   10   |  0.009298067141403877 |  0.09298067141403837  |\n",
      "+--------+-----------------------+-----------------------+\n",
      "[10 rows x 3 columns]\n",
      "\n",
      "\n",
      "Overall RMSE: 0.1558247832874474\n",
      "\n",
      "Per User RMSE (best)\n",
      "+---------------+----------------------+-------+\n",
      "| customer_code |         rmse         | count |\n",
      "+---------------+----------------------+-------+\n",
      "|    1383118    | 0.012253233492176496 |   1   |\n",
      "+---------------+----------------------+-------+\n",
      "[1 rows x 3 columns]\n",
      "\n",
      "\n",
      "Per User RMSE (worst)\n",
      "+---------------+--------------------+-------+\n",
      "| customer_code |        rmse        | count |\n",
      "+---------------+--------------------+-------+\n",
      "|     878085    | 0.8718236173393127 |   1   |\n",
      "+---------------+--------------------+-------+\n",
      "[1 rows x 3 columns]\n",
      "\n",
      "\n",
      "Per Item RMSE (best)\n",
      "+--------------+---------------------+-------+\n",
      "| product_code |         rmse        | count |\n",
      "+--------------+---------------------+-------+\n",
      "|      16      | 0.06666666666666665 |   2   |\n",
      "+--------------+---------------------+-------+\n",
      "[1 rows x 3 columns]\n",
      "\n",
      "\n",
      "Per Item RMSE (worst)\n",
      "+--------------+--------------------+-------+\n",
      "| product_code |        rmse        | count |\n",
      "+--------------+--------------------+-------+\n",
      "|      20      | 0.3674234614174767 |   4   |\n",
      "+--------------+--------------------+-------+\n",
      "[1 rows x 3 columns]\n",
      "\n",
      "PROGRESS: Evaluate model Cosine Similarity on Scaled Purchase Counts\n"
     ]
    },
    {
     "data": {
      "text/html": [
       "<pre>recommendations finished on 1000/4915 queries. users per second: 330469</pre>"
      ],
      "text/plain": [
       "recommendations finished on 1000/4915 queries. users per second: 330469"
      ]
     },
     "metadata": {},
     "output_type": "display_data"
    },
    {
     "data": {
      "text/html": [
       "<pre>recommendations finished on 2000/4915 queries. users per second: 108178</pre>"
      ],
      "text/plain": [
       "recommendations finished on 2000/4915 queries. users per second: 108178"
      ]
     },
     "metadata": {},
     "output_type": "display_data"
    },
    {
     "data": {
      "text/html": [
       "<pre>recommendations finished on 3000/4915 queries. users per second: 76968.5</pre>"
      ],
      "text/plain": [
       "recommendations finished on 3000/4915 queries. users per second: 76968.5"
      ]
     },
     "metadata": {},
     "output_type": "display_data"
    },
    {
     "data": {
      "text/html": [
       "<pre>recommendations finished on 4000/4915 queries. users per second: 77397.9</pre>"
      ],
      "text/plain": [
       "recommendations finished on 4000/4915 queries. users per second: 77397.9"
      ]
     },
     "metadata": {},
     "output_type": "display_data"
    },
    {
     "name": "stdout",
     "output_type": "stream",
     "text": [
      "\n",
      "Precision and recall summary statistics by cutoff\n",
      "+--------+-----------------------+-----------------------+\n",
      "| cutoff |     mean_precision    |      mean_recall      |\n",
      "+--------+-----------------------+-----------------------+\n",
      "|   1    |  0.000813835198372328 |  0.000813835198372328 |\n",
      "|   2    | 0.0008138351983723276 | 0.0016276703967446553 |\n",
      "|   3    | 0.0006781959986436081 | 0.0020345879959308274 |\n",
      "|   4    | 0.0009155645981688728 | 0.0036622583926754913 |\n",
      "|   5    |  0.004231943031536114 |  0.021159715157680555 |\n",
      "|   6    |  0.003763987792472031 |  0.022583926754832173 |\n",
      "|   7    |  0.003807586106670539 |  0.02665310274669382  |\n",
      "|   8    |  0.007299084435401827 |  0.05839267548321462  |\n",
      "|   9    |  0.01001469424663725  |  0.09013224821973519  |\n",
      "|   10   |  0.009298067141403884 |  0.09298067141403844  |\n",
      "+--------+-----------------------+-----------------------+\n",
      "[10 rows x 3 columns]\n",
      "\n",
      "\n",
      "Overall RMSE: 0.2034441843851805\n",
      "\n",
      "Per User RMSE (best)\n",
      "+---------------+------+-------+\n",
      "| customer_code | rmse | count |\n",
      "+---------------+------+-------+\n",
      "|     864039    | 0.0  |   1   |\n",
      "+---------------+------+-------+\n",
      "[1 rows x 3 columns]\n",
      "\n",
      "\n",
      "Per User RMSE (worst)\n",
      "+---------------+------+-------+\n",
      "| customer_code | rmse | count |\n",
      "+---------------+------+-------+\n",
      "|     878085    | 1.0  |   1   |\n",
      "+---------------+------+-------+\n",
      "[1 rows x 3 columns]\n",
      "\n",
      "\n",
      "Per Item RMSE (best)\n",
      "+--------------+---------------------+-------+\n",
      "| product_code |         rmse        | count |\n",
      "+--------------+---------------------+-------+\n",
      "|      21      | 0.18155957171897483 |  745  |\n",
      "+--------------+---------------------+-------+\n",
      "[1 rows x 3 columns]\n",
      "\n",
      "\n",
      "Per Item RMSE (worst)\n",
      "+--------------+---------------------+-------+\n",
      "| product_code |         rmse        | count |\n",
      "+--------------+---------------------+-------+\n",
      "|      20      | 0.42079028221207343 |   4   |\n",
      "+--------------+---------------------+-------+\n",
      "[1 rows x 3 columns]\n",
      "\n",
      "PROGRESS: Evaluate model Pearson Similarity on Scaled Purchase Counts\n"
     ]
    },
    {
     "data": {
      "text/html": [
       "<pre>recommendations finished on 1000/4915 queries. users per second: 307882</pre>"
      ],
      "text/plain": [
       "recommendations finished on 1000/4915 queries. users per second: 307882"
      ]
     },
     "metadata": {},
     "output_type": "display_data"
    },
    {
     "data": {
      "text/html": [
       "<pre>recommendations finished on 2000/4915 queries. users per second: 125857</pre>"
      ],
      "text/plain": [
       "recommendations finished on 2000/4915 queries. users per second: 125857"
      ]
     },
     "metadata": {},
     "output_type": "display_data"
    },
    {
     "data": {
      "text/html": [
       "<pre>recommendations finished on 3000/4915 queries. users per second: 89304.3</pre>"
      ],
      "text/plain": [
       "recommendations finished on 3000/4915 queries. users per second: 89304.3"
      ]
     },
     "metadata": {},
     "output_type": "display_data"
    },
    {
     "data": {
      "text/html": [
       "<pre>recommendations finished on 4000/4915 queries. users per second: 90569.5</pre>"
      ],
      "text/plain": [
       "recommendations finished on 4000/4915 queries. users per second: 90569.5"
      ]
     },
     "metadata": {},
     "output_type": "display_data"
    },
    {
     "name": "stdout",
     "output_type": "stream",
     "text": [
      "\n",
      "Precision and recall summary statistics by cutoff\n",
      "+--------+-----------------------+-----------------------+\n",
      "| cutoff |     mean_precision    |      mean_recall      |\n",
      "+--------+-----------------------+-----------------------+\n",
      "|   1    | 0.0008138351983723276 | 0.0008138351983723276 |\n",
      "|   2    | 0.0008138351983723274 | 0.0016276703967446548 |\n",
      "|   3    | 0.0006781959986436083 |  0.002034587995930824 |\n",
      "|   4    | 0.0009155645981688709 | 0.0036622583926754835 |\n",
      "|   5    |  0.004231943031536124 |  0.021159715157680618 |\n",
      "|   6    | 0.0037639877924720345 |  0.02258392675483218  |\n",
      "|   7    | 0.0038075861066705365 |   0.0266531027466938  |\n",
      "|   8    |  0.007299084435401806 |  0.058392675483214446 |\n",
      "|   9    |  0.010014694246637246 |  0.09013224821973527  |\n",
      "|   10   |  0.00929806714140388  |  0.09298067141403854  |\n",
      "+--------+-----------------------+-----------------------+\n",
      "[10 rows x 3 columns]\n",
      "\n",
      "\n",
      "Overall RMSE: 0.20344418438518055\n",
      "\n",
      "Per User RMSE (best)\n",
      "+---------------+------+-------+\n",
      "| customer_code | rmse | count |\n",
      "+---------------+------+-------+\n",
      "|     864039    | 0.0  |   1   |\n",
      "+---------------+------+-------+\n",
      "[1 rows x 3 columns]\n",
      "\n",
      "\n",
      "Per User RMSE (worst)\n",
      "+---------------+------+-------+\n",
      "| customer_code | rmse | count |\n",
      "+---------------+------+-------+\n",
      "|     878085    | 1.0  |   1   |\n",
      "+---------------+------+-------+\n",
      "[1 rows x 3 columns]\n",
      "\n",
      "\n",
      "Per Item RMSE (best)\n",
      "+--------------+--------------------+-------+\n",
      "| product_code |        rmse        | count |\n",
      "+--------------+--------------------+-------+\n",
      "|      21      | 0.1815595717189751 |  745  |\n",
      "+--------------+--------------------+-------+\n",
      "[1 rows x 3 columns]\n",
      "\n",
      "\n",
      "Per Item RMSE (worst)\n",
      "+--------------+---------------------+-------+\n",
      "| product_code |         rmse        | count |\n",
      "+--------------+---------------------+-------+\n",
      "|      20      | 0.42079028221207343 |   4   |\n",
      "+--------------+---------------------+-------+\n",
      "[1 rows x 3 columns]\n",
      "\n"
     ]
    }
   ],
   "source": [
    "eval_counts = tc.recommender.util.compare_models(test_data, models_w_counts, model_names=names_w_counts)\n",
    "eval_dummy = tc.recommender.util.compare_models(test_data_dummy, models_w_dummy, model_names=names_w_dummy)\n",
    "eval_norm = tc.recommender.util.compare_models(test_data_norm, models_w_norm, model_names=names_w_norm)"
   ]
  },
  {
   "cell_type": "markdown",
   "metadata": {},
   "source": [
    "### Evaluation Summary\n",
    "\n",
    "Results based on RMSE:\n",
    "\n",
    "1. Popularity on purchase counts: 0.8286392012124091\n",
    "2. Cosine similarity on purchase counts: 1.0191326912034409\n",
    "3. Pearson similarity on purchase counts: 1.0191326912034409\n",
    "\n",
    "\n",
    "4. Popularity model on purchase dummy: 0.0\n",
    "5. Cosine similarity on purchase dummy: 1.0\n",
    "6. Pearson similarity on purchase dummy: 1.0\n",
    "\n",
    "\n",
    "7. Popularity model on scaled purchase counts: 0.1558247832874474\n",
    "8. Cosine similarity on scaled purchase counts: 0.2034441843851805\n",
    "9. Pearson similarity on scaled purchase counts: 0.20344418438518055\n",
    "\n",
    "As we can see, the RMSE score shows that the scaled purchase count models are the strongest. Specifically, the popularity model. However, we are going to throw out the popularity model, because remember - our goal is to utilize collaborative filtering. Therefore, it looks like the Cosine similarity and Pearson similiarity models on scaled purchase counts are the strongest as they relate to the RMSE evaluation method.\n",
    "\n",
    "When it comes to precision and recall, the goal is to be as close to 1 as possible. This is best seen in the cosine and pearson similiarity models using the purchase dummy data.\n",
    "\n",
    "### Final Evaluation:\n",
    "\n",
    "Based on the evaluation metrics, I have chosen to go with either the pearson similarity model or cosine similarity model for purchase dummy as my final model (They both have nearly the same scores for precision and recall, so we can't go wrong with either one). The RMSE is not as strong for those, but the precision and recall values are much better than the other models."
   ]
  }
 ],
 "metadata": {
  "kernelspec": {
   "display_name": "Python 3",
   "language": "python",
   "name": "python3"
  },
  "language_info": {
   "codemirror_mode": {
    "name": "ipython",
    "version": 3
   },
   "file_extension": ".py",
   "mimetype": "text/x-python",
   "name": "python",
   "nbconvert_exporter": "python",
   "pygments_lexer": "ipython3",
   "version": "3.6.8"
  }
 },
 "nbformat": 4,
 "nbformat_minor": 2
}
