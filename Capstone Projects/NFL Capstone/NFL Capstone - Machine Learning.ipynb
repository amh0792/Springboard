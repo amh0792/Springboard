{
 "cells": [
  {
   "cell_type": "markdown",
   "metadata": {},
   "source": [
    "# Machine Learning\n",
    "After observing the dataset and running some statistical analysis on it, I now want to perform some machine learning algorithms and see if I can acquire some additional insights from the dataset. Here, I will first continue to run some variations on the Multiple Linear Regression model I performed in the Data Storytelling notebook along with Logistic Regression and Random Forest Classifier models. By the conclusion of this notebook, I should have a better idea of how to determine what features can help predict who the elite quarterbacks in the NFL will be based on their college stats."
   ]
  },
  {
   "cell_type": "code",
   "execution_count": 1,
   "metadata": {},
   "outputs": [],
   "source": [
    "#Import appropriate packages\n",
    "import pandas as pd\n",
    "import numpy as np"
   ]
  },
  {
   "cell_type": "code",
   "execution_count": 16,
   "metadata": {},
   "outputs": [
    {
     "data": {
      "text/html": [
       "<div>\n",
       "<style scoped>\n",
       "    .dataframe tbody tr th:only-of-type {\n",
       "        vertical-align: middle;\n",
       "    }\n",
       "\n",
       "    .dataframe tbody tr th {\n",
       "        vertical-align: top;\n",
       "    }\n",
       "\n",
       "    .dataframe thead th {\n",
       "        text-align: right;\n",
       "    }\n",
       "</style>\n",
       "<table border=\"1\" class=\"dataframe\">\n",
       "  <thead>\n",
       "    <tr style=\"text-align: right;\">\n",
       "      <th></th>\n",
       "      <th>name</th>\n",
       "      <th>career_av</th>\n",
       "      <th>school_name_x</th>\n",
       "      <th>pass_cmp</th>\n",
       "      <th>pass_att</th>\n",
       "      <th>pass_cmp_pct</th>\n",
       "      <th>pass_yds</th>\n",
       "      <th>pass_yds_per_att</th>\n",
       "      <th>adj_pass_yds_per_att</th>\n",
       "      <th>pass_td</th>\n",
       "      <th>pass_int</th>\n",
       "      <th>rush_att</th>\n",
       "      <th>rush_yds</th>\n",
       "      <th>rush_yds_per_att</th>\n",
       "      <th>rush_td</th>\n",
       "    </tr>\n",
       "  </thead>\n",
       "  <tbody>\n",
       "    <tr>\n",
       "      <th>0</th>\n",
       "      <td>mike phipps</td>\n",
       "      <td>40.0</td>\n",
       "      <td>Purdue</td>\n",
       "      <td>375</td>\n",
       "      <td>733</td>\n",
       "      <td>51.2</td>\n",
       "      <td>5423</td>\n",
       "      <td>7.4</td>\n",
       "      <td>6.3</td>\n",
       "      <td>37</td>\n",
       "      <td>34</td>\n",
       "      <td>240</td>\n",
       "      <td>460</td>\n",
       "      <td>1.9</td>\n",
       "      <td>9.0</td>\n",
       "    </tr>\n",
       "    <tr>\n",
       "      <th>1</th>\n",
       "      <td>dennis shaw</td>\n",
       "      <td>19.0</td>\n",
       "      <td>San Diego State</td>\n",
       "      <td>199</td>\n",
       "      <td>335</td>\n",
       "      <td>59.4</td>\n",
       "      <td>3185</td>\n",
       "      <td>9.5</td>\n",
       "      <td>8.3</td>\n",
       "      <td>39</td>\n",
       "      <td>26</td>\n",
       "      <td>53</td>\n",
       "      <td>12</td>\n",
       "      <td>0.2</td>\n",
       "      <td>6.0</td>\n",
       "    </tr>\n",
       "    <tr>\n",
       "      <th>2</th>\n",
       "      <td>bill cappleman</td>\n",
       "      <td>0.0</td>\n",
       "      <td>Florida State</td>\n",
       "      <td>349</td>\n",
       "      <td>636</td>\n",
       "      <td>54.9</td>\n",
       "      <td>4904</td>\n",
       "      <td>7.7</td>\n",
       "      <td>6.9</td>\n",
       "      <td>39</td>\n",
       "      <td>29</td>\n",
       "      <td>141</td>\n",
       "      <td>-405</td>\n",
       "      <td>-2.9</td>\n",
       "      <td>1.0</td>\n",
       "    </tr>\n",
       "    <tr>\n",
       "      <th>3</th>\n",
       "      <td>steve ramsey</td>\n",
       "      <td>23.0</td>\n",
       "      <td>North Texas</td>\n",
       "      <td>491</td>\n",
       "      <td>1015</td>\n",
       "      <td>48.4</td>\n",
       "      <td>7076</td>\n",
       "      <td>7.0</td>\n",
       "      <td>5.4</td>\n",
       "      <td>69</td>\n",
       "      <td>67</td>\n",
       "      <td>117</td>\n",
       "      <td>-508</td>\n",
       "      <td>-4.3</td>\n",
       "      <td>2.0</td>\n",
       "    </tr>\n",
       "    <tr>\n",
       "      <th>4</th>\n",
       "      <td>rusty clark</td>\n",
       "      <td>0.0</td>\n",
       "      <td>Houston</td>\n",
       "      <td>40</td>\n",
       "      <td>81</td>\n",
       "      <td>49.4</td>\n",
       "      <td>768</td>\n",
       "      <td>9.5</td>\n",
       "      <td>10.3</td>\n",
       "      <td>8</td>\n",
       "      <td>2</td>\n",
       "      <td>10</td>\n",
       "      <td>3</td>\n",
       "      <td>0.3</td>\n",
       "      <td>1.0</td>\n",
       "    </tr>\n",
       "  </tbody>\n",
       "</table>\n",
       "</div>"
      ],
      "text/plain": [
       "             name  career_av    school_name_x  pass_cmp  pass_att  \\\n",
       "0     mike phipps       40.0           Purdue       375       733   \n",
       "1     dennis shaw       19.0  San Diego State       199       335   \n",
       "2  bill cappleman        0.0    Florida State       349       636   \n",
       "3    steve ramsey       23.0      North Texas       491      1015   \n",
       "4     rusty clark        0.0          Houston        40        81   \n",
       "\n",
       "   pass_cmp_pct  pass_yds  pass_yds_per_att  adj_pass_yds_per_att  pass_td  \\\n",
       "0          51.2      5423               7.4                   6.3       37   \n",
       "1          59.4      3185               9.5                   8.3       39   \n",
       "2          54.9      4904               7.7                   6.9       39   \n",
       "3          48.4      7076               7.0                   5.4       69   \n",
       "4          49.4       768               9.5                  10.3        8   \n",
       "\n",
       "   pass_int  rush_att  rush_yds  rush_yds_per_att  rush_td  \n",
       "0        34       240       460               1.9      9.0  \n",
       "1        26        53        12               0.2      6.0  \n",
       "2        29       141      -405              -2.9      1.0  \n",
       "3        67       117      -508              -4.3      2.0  \n",
       "4         2        10         3               0.3      1.0  "
      ]
     },
     "execution_count": 16,
     "metadata": {},
     "output_type": "execute_result"
    }
   ],
   "source": [
    "#Read data into a Pandas data frame\n",
    "ncaa_stats = pd.read_csv('data/pfr_ncaa_draft_data_CLEAN.csv')\n",
    "ncaa_stats.head()"
   ]
  },
  {
   "cell_type": "markdown",
   "metadata": {},
   "source": [
    "### Multiple Linear Regression"
   ]
  },
  {
   "cell_type": "markdown",
   "metadata": {},
   "source": [
    "After reading the data into a Pandas data frame, I will now try something that will hopefully help make my Multiple Linear Regression model a bit more robust: I will scale all of the numeric data from 0.0 to 1.0."
   ]
  },
  {
   "cell_type": "code",
   "execution_count": 3,
   "metadata": {},
   "outputs": [],
   "source": [
    "#Choose columns to scale\n",
    "columns_to_scale = ['career_av', 'pass_cmp', 'pass_att', 'pass_cmp_pct', 'pass_yds', 'pass_yds_per_att', \n",
    "                    'adj_pass_yds_per_att', 'pass_td', 'pass_int', 'rush_att', 'rush_yds', 'rush_yds_per_att', 'rush_td']"
   ]
  },
  {
   "cell_type": "code",
   "execution_count": 4,
   "metadata": {},
   "outputs": [],
   "source": [
    "#Scale the data\n",
    "ncaa_stats.loc[:, columns_to_scale] -= ncaa_stats.loc[:, columns_to_scale].min()\n",
    "\n",
    "ncaa_stats.loc[:, columns_to_scale] /= ncaa_stats.loc[:, columns_to_scale].max()"
   ]
  },
  {
   "cell_type": "code",
   "execution_count": 5,
   "metadata": {},
   "outputs": [
    {
     "data": {
      "text/html": [
       "<div>\n",
       "<style scoped>\n",
       "    .dataframe tbody tr th:only-of-type {\n",
       "        vertical-align: middle;\n",
       "    }\n",
       "\n",
       "    .dataframe tbody tr th {\n",
       "        vertical-align: top;\n",
       "    }\n",
       "\n",
       "    .dataframe thead th {\n",
       "        text-align: right;\n",
       "    }\n",
       "</style>\n",
       "<table border=\"1\" class=\"dataframe\">\n",
       "  <thead>\n",
       "    <tr style=\"text-align: right;\">\n",
       "      <th></th>\n",
       "      <th>career_av</th>\n",
       "      <th>pass_cmp</th>\n",
       "      <th>pass_att</th>\n",
       "      <th>pass_cmp_pct</th>\n",
       "      <th>pass_yds</th>\n",
       "      <th>pass_yds_per_att</th>\n",
       "      <th>adj_pass_yds_per_att</th>\n",
       "      <th>pass_td</th>\n",
       "      <th>pass_int</th>\n",
       "      <th>rush_att</th>\n",
       "      <th>rush_yds</th>\n",
       "      <th>rush_yds_per_att</th>\n",
       "      <th>rush_td</th>\n",
       "    </tr>\n",
       "  </thead>\n",
       "  <tbody>\n",
       "    <tr>\n",
       "      <th>count</th>\n",
       "      <td>497.000000</td>\n",
       "      <td>497.000000</td>\n",
       "      <td>497.000000</td>\n",
       "      <td>497.000000</td>\n",
       "      <td>497.000000</td>\n",
       "      <td>497.000000</td>\n",
       "      <td>497.000000</td>\n",
       "      <td>497.000000</td>\n",
       "      <td>497.000000</td>\n",
       "      <td>497.000000</td>\n",
       "      <td>497.000000</td>\n",
       "      <td>497.000000</td>\n",
       "      <td>497.000000</td>\n",
       "    </tr>\n",
       "    <tr>\n",
       "      <th>mean</th>\n",
       "      <td>0.120735</td>\n",
       "      <td>0.329040</td>\n",
       "      <td>0.374536</td>\n",
       "      <td>0.553336</td>\n",
       "      <td>0.350772</td>\n",
       "      <td>0.218996</td>\n",
       "      <td>0.652131</td>\n",
       "      <td>0.284086</td>\n",
       "      <td>0.347820</td>\n",
       "      <td>0.238780</td>\n",
       "      <td>0.218074</td>\n",
       "      <td>0.490083</td>\n",
       "      <td>0.130921</td>\n",
       "    </tr>\n",
       "    <tr>\n",
       "      <th>std</th>\n",
       "      <td>0.176912</td>\n",
       "      <td>0.209322</td>\n",
       "      <td>0.221048</td>\n",
       "      <td>0.088840</td>\n",
       "      <td>0.213314</td>\n",
       "      <td>0.059682</td>\n",
       "      <td>0.045920</td>\n",
       "      <td>0.192985</td>\n",
       "      <td>0.195768</td>\n",
       "      <td>0.163126</td>\n",
       "      <td>0.125541</td>\n",
       "      <td>0.148030</td>\n",
       "      <td>0.135476</td>\n",
       "    </tr>\n",
       "    <tr>\n",
       "      <th>min</th>\n",
       "      <td>0.000000</td>\n",
       "      <td>0.000000</td>\n",
       "      <td>0.000000</td>\n",
       "      <td>0.000000</td>\n",
       "      <td>0.000000</td>\n",
       "      <td>0.000000</td>\n",
       "      <td>0.000000</td>\n",
       "      <td>0.000000</td>\n",
       "      <td>0.000000</td>\n",
       "      <td>0.000000</td>\n",
       "      <td>0.000000</td>\n",
       "      <td>0.000000</td>\n",
       "      <td>0.000000</td>\n",
       "    </tr>\n",
       "    <tr>\n",
       "      <th>25%</th>\n",
       "      <td>0.022099</td>\n",
       "      <td>0.168156</td>\n",
       "      <td>0.214665</td>\n",
       "      <td>0.515000</td>\n",
       "      <td>0.202182</td>\n",
       "      <td>0.197059</td>\n",
       "      <td>0.639241</td>\n",
       "      <td>0.145038</td>\n",
       "      <td>0.213333</td>\n",
       "      <td>0.125964</td>\n",
       "      <td>0.146328</td>\n",
       "      <td>0.386905</td>\n",
       "      <td>0.033898</td>\n",
       "    </tr>\n",
       "    <tr>\n",
       "      <th>50%</th>\n",
       "      <td>0.033149</td>\n",
       "      <td>0.304630</td>\n",
       "      <td>0.353348</td>\n",
       "      <td>0.558000</td>\n",
       "      <td>0.331914</td>\n",
       "      <td>0.217647</td>\n",
       "      <td>0.655696</td>\n",
       "      <td>0.251908</td>\n",
       "      <td>0.346667</td>\n",
       "      <td>0.208226</td>\n",
       "      <td>0.180267</td>\n",
       "      <td>0.482143</td>\n",
       "      <td>0.084746</td>\n",
       "    </tr>\n",
       "    <tr>\n",
       "      <th>75%</th>\n",
       "      <td>0.127072</td>\n",
       "      <td>0.463038</td>\n",
       "      <td>0.526567</td>\n",
       "      <td>0.599000</td>\n",
       "      <td>0.494511</td>\n",
       "      <td>0.238235</td>\n",
       "      <td>0.667089</td>\n",
       "      <td>0.404580</td>\n",
       "      <td>0.466667</td>\n",
       "      <td>0.321337</td>\n",
       "      <td>0.258346</td>\n",
       "      <td>0.595238</td>\n",
       "      <td>0.186441</td>\n",
       "    </tr>\n",
       "    <tr>\n",
       "      <th>max</th>\n",
       "      <td>1.000000</td>\n",
       "      <td>1.000000</td>\n",
       "      <td>1.000000</td>\n",
       "      <td>1.000000</td>\n",
       "      <td>1.000000</td>\n",
       "      <td>1.000000</td>\n",
       "      <td>1.000000</td>\n",
       "      <td>1.000000</td>\n",
       "      <td>1.000000</td>\n",
       "      <td>1.000000</td>\n",
       "      <td>1.000000</td>\n",
       "      <td>1.000000</td>\n",
       "      <td>1.000000</td>\n",
       "    </tr>\n",
       "  </tbody>\n",
       "</table>\n",
       "</div>"
      ],
      "text/plain": [
       "        career_av    pass_cmp    pass_att  pass_cmp_pct    pass_yds  \\\n",
       "count  497.000000  497.000000  497.000000    497.000000  497.000000   \n",
       "mean     0.120735    0.329040    0.374536      0.553336    0.350772   \n",
       "std      0.176912    0.209322    0.221048      0.088840    0.213314   \n",
       "min      0.000000    0.000000    0.000000      0.000000    0.000000   \n",
       "25%      0.022099    0.168156    0.214665      0.515000    0.202182   \n",
       "50%      0.033149    0.304630    0.353348      0.558000    0.331914   \n",
       "75%      0.127072    0.463038    0.526567      0.599000    0.494511   \n",
       "max      1.000000    1.000000    1.000000      1.000000    1.000000   \n",
       "\n",
       "       pass_yds_per_att  adj_pass_yds_per_att     pass_td    pass_int  \\\n",
       "count        497.000000            497.000000  497.000000  497.000000   \n",
       "mean           0.218996              0.652131    0.284086    0.347820   \n",
       "std            0.059682              0.045920    0.192985    0.195768   \n",
       "min            0.000000              0.000000    0.000000    0.000000   \n",
       "25%            0.197059              0.639241    0.145038    0.213333   \n",
       "50%            0.217647              0.655696    0.251908    0.346667   \n",
       "75%            0.238235              0.667089    0.404580    0.466667   \n",
       "max            1.000000              1.000000    1.000000    1.000000   \n",
       "\n",
       "         rush_att    rush_yds  rush_yds_per_att     rush_td  \n",
       "count  497.000000  497.000000        497.000000  497.000000  \n",
       "mean     0.238780    0.218074          0.490083    0.130921  \n",
       "std      0.163126    0.125541          0.148030    0.135476  \n",
       "min      0.000000    0.000000          0.000000    0.000000  \n",
       "25%      0.125964    0.146328          0.386905    0.033898  \n",
       "50%      0.208226    0.180267          0.482143    0.084746  \n",
       "75%      0.321337    0.258346          0.595238    0.186441  \n",
       "max      1.000000    1.000000          1.000000    1.000000  "
      ]
     },
     "execution_count": 5,
     "metadata": {},
     "output_type": "execute_result"
    }
   ],
   "source": [
    "#Explore the data frame to make sure scaling worked (It appears as though it did)\n",
    "ncaa_stats.describe()"
   ]
  },
  {
   "cell_type": "markdown",
   "metadata": {},
   "source": [
    "Now that the data has been preprocessed, we will try using the mutliple linear regression model once again to see how the preprocessing changes the results (If at all)."
   ]
  },
  {
   "cell_type": "code",
   "execution_count": 6,
   "metadata": {},
   "outputs": [
    {
     "name": "stderr",
     "output_type": "stream",
     "text": [
      "/anaconda3/lib/python3.6/site-packages/statsmodels/compat/pandas.py:56: FutureWarning: The pandas.core.datetools module is deprecated and will be removed in a future version. Please use the pandas.tseries module instead.\n",
      "  from pandas.core import datetools\n"
     ]
    },
    {
     "data": {
      "text/html": [
       "<table class=\"simpletable\">\n",
       "<caption>OLS Regression Results</caption>\n",
       "<tr>\n",
       "  <th>Dep. Variable:</th>        <td>career_av</td>    <th>  R-squared:         </th> <td>   0.061</td>\n",
       "</tr>\n",
       "<tr>\n",
       "  <th>Model:</th>                   <td>OLS</td>       <th>  Adj. R-squared:    </th> <td>   0.038</td>\n",
       "</tr>\n",
       "<tr>\n",
       "  <th>Method:</th>             <td>Least Squares</td>  <th>  F-statistic:       </th> <td>   2.634</td>\n",
       "</tr>\n",
       "<tr>\n",
       "  <th>Date:</th>             <td>Sat, 29 Dec 2018</td> <th>  Prob (F-statistic):</th>  <td>0.00202</td>\n",
       "</tr>\n",
       "<tr>\n",
       "  <th>Time:</th>                 <td>16:23:23</td>     <th>  Log-Likelihood:    </th> <td>  171.86</td>\n",
       "</tr>\n",
       "<tr>\n",
       "  <th>No. Observations:</th>      <td>   497</td>      <th>  AIC:               </th> <td>  -317.7</td>\n",
       "</tr>\n",
       "<tr>\n",
       "  <th>Df Residuals:</th>          <td>   484</td>      <th>  BIC:               </th> <td>  -263.0</td>\n",
       "</tr>\n",
       "<tr>\n",
       "  <th>Df Model:</th>              <td>    12</td>      <th>                     </th>     <td> </td>   \n",
       "</tr>\n",
       "<tr>\n",
       "  <th>Covariance Type:</th>      <td>nonrobust</td>    <th>                     </th>     <td> </td>   \n",
       "</tr>\n",
       "</table>\n",
       "<table class=\"simpletable\">\n",
       "<tr>\n",
       "            <td></td>              <th>coef</th>     <th>std err</th>      <th>t</th>      <th>P>|t|</th>  <th>[0.025</th>    <th>0.975]</th>  \n",
       "</tr>\n",
       "<tr>\n",
       "  <th>const</th>                <td>    0.0392</td> <td>    0.152</td> <td>    0.258</td> <td> 0.797</td> <td>   -0.260</td> <td>    0.338</td>\n",
       "</tr>\n",
       "<tr>\n",
       "  <th>pass_cmp</th>             <td>   -0.1964</td> <td>    0.397</td> <td>   -0.495</td> <td> 0.621</td> <td>   -0.977</td> <td>    0.584</td>\n",
       "</tr>\n",
       "<tr>\n",
       "  <th>pass_att</th>             <td>    0.0703</td> <td>    0.370</td> <td>    0.190</td> <td> 0.849</td> <td>   -0.657</td> <td>    0.797</td>\n",
       "</tr>\n",
       "<tr>\n",
       "  <th>pass_cmp_pct</th>         <td>    0.1279</td> <td>    0.184</td> <td>    0.697</td> <td> 0.486</td> <td>   -0.233</td> <td>    0.489</td>\n",
       "</tr>\n",
       "<tr>\n",
       "  <th>pass_yds</th>             <td>    0.3186</td> <td>    0.302</td> <td>    1.054</td> <td> 0.292</td> <td>   -0.275</td> <td>    0.912</td>\n",
       "</tr>\n",
       "<tr>\n",
       "  <th>pass_yds_per_att</th>     <td>   -0.1204</td> <td>    0.217</td> <td>   -0.555</td> <td> 0.579</td> <td>   -0.547</td> <td>    0.306</td>\n",
       "</tr>\n",
       "<tr>\n",
       "  <th>adj_pass_yds_per_att</th> <td>   -0.0595</td> <td>    0.326</td> <td>   -0.183</td> <td> 0.855</td> <td>   -0.699</td> <td>    0.580</td>\n",
       "</tr>\n",
       "<tr>\n",
       "  <th>pass_td</th>              <td>    0.0255</td> <td>    0.141</td> <td>    0.180</td> <td> 0.857</td> <td>   -0.252</td> <td>    0.303</td>\n",
       "</tr>\n",
       "<tr>\n",
       "  <th>pass_int</th>             <td>   -0.0431</td> <td>    0.085</td> <td>   -0.505</td> <td> 0.614</td> <td>   -0.211</td> <td>    0.125</td>\n",
       "</tr>\n",
       "<tr>\n",
       "  <th>rush_att</th>             <td>   -0.2047</td> <td>    0.112</td> <td>   -1.828</td> <td> 0.068</td> <td>   -0.425</td> <td>    0.015</td>\n",
       "</tr>\n",
       "<tr>\n",
       "  <th>rush_yds</th>             <td>   -0.0935</td> <td>    0.176</td> <td>   -0.531</td> <td> 0.596</td> <td>   -0.439</td> <td>    0.252</td>\n",
       "</tr>\n",
       "<tr>\n",
       "  <th>rush_yds_per_att</th>     <td>    0.0974</td> <td>    0.089</td> <td>    1.095</td> <td> 0.274</td> <td>   -0.077</td> <td>    0.272</td>\n",
       "</tr>\n",
       "<tr>\n",
       "  <th>rush_td</th>              <td>    0.2430</td> <td>    0.130</td> <td>    1.869</td> <td> 0.062</td> <td>   -0.012</td> <td>    0.498</td>\n",
       "</tr>\n",
       "</table>\n",
       "<table class=\"simpletable\">\n",
       "<tr>\n",
       "  <th>Omnibus:</th>       <td>224.771</td> <th>  Durbin-Watson:     </th> <td>   1.873</td> \n",
       "</tr>\n",
       "<tr>\n",
       "  <th>Prob(Omnibus):</th> <td> 0.000</td>  <th>  Jarque-Bera (JB):  </th> <td> 824.772</td> \n",
       "</tr>\n",
       "<tr>\n",
       "  <th>Skew:</th>          <td> 2.142</td>  <th>  Prob(JB):          </th> <td>8.00e-180</td>\n",
       "</tr>\n",
       "<tr>\n",
       "  <th>Kurtosis:</th>      <td> 7.634</td>  <th>  Cond. No.          </th> <td>    117.</td> \n",
       "</tr>\n",
       "</table>"
      ],
      "text/plain": [
       "<class 'statsmodels.iolib.summary.Summary'>\n",
       "\"\"\"\n",
       "                            OLS Regression Results                            \n",
       "==============================================================================\n",
       "Dep. Variable:              career_av   R-squared:                       0.061\n",
       "Model:                            OLS   Adj. R-squared:                  0.038\n",
       "Method:                 Least Squares   F-statistic:                     2.634\n",
       "Date:                Sat, 29 Dec 2018   Prob (F-statistic):            0.00202\n",
       "Time:                        16:23:23   Log-Likelihood:                 171.86\n",
       "No. Observations:                 497   AIC:                            -317.7\n",
       "Df Residuals:                     484   BIC:                            -263.0\n",
       "Df Model:                          12                                         \n",
       "Covariance Type:            nonrobust                                         \n",
       "========================================================================================\n",
       "                           coef    std err          t      P>|t|      [0.025      0.975]\n",
       "----------------------------------------------------------------------------------------\n",
       "const                    0.0392      0.152      0.258      0.797      -0.260       0.338\n",
       "pass_cmp                -0.1964      0.397     -0.495      0.621      -0.977       0.584\n",
       "pass_att                 0.0703      0.370      0.190      0.849      -0.657       0.797\n",
       "pass_cmp_pct             0.1279      0.184      0.697      0.486      -0.233       0.489\n",
       "pass_yds                 0.3186      0.302      1.054      0.292      -0.275       0.912\n",
       "pass_yds_per_att        -0.1204      0.217     -0.555      0.579      -0.547       0.306\n",
       "adj_pass_yds_per_att    -0.0595      0.326     -0.183      0.855      -0.699       0.580\n",
       "pass_td                  0.0255      0.141      0.180      0.857      -0.252       0.303\n",
       "pass_int                -0.0431      0.085     -0.505      0.614      -0.211       0.125\n",
       "rush_att                -0.2047      0.112     -1.828      0.068      -0.425       0.015\n",
       "rush_yds                -0.0935      0.176     -0.531      0.596      -0.439       0.252\n",
       "rush_yds_per_att         0.0974      0.089      1.095      0.274      -0.077       0.272\n",
       "rush_td                  0.2430      0.130      1.869      0.062      -0.012       0.498\n",
       "==============================================================================\n",
       "Omnibus:                      224.771   Durbin-Watson:                   1.873\n",
       "Prob(Omnibus):                  0.000   Jarque-Bera (JB):              824.772\n",
       "Skew:                           2.142   Prob(JB):                    8.00e-180\n",
       "Kurtosis:                       7.634   Cond. No.                         117.\n",
       "==============================================================================\n",
       "\n",
       "Warnings:\n",
       "[1] Standard Errors assume that the covariance matrix of the errors is correctly specified.\n",
       "\"\"\""
      ]
     },
     "execution_count": 6,
     "metadata": {},
     "output_type": "execute_result"
    }
   ],
   "source": [
    "#Create Multiple Linear Regression model\n",
    "import statsmodels.api as sm\n",
    "\n",
    "# Designate response variable\n",
    "y = ncaa_stats.career_av\n",
    "\n",
    "# Designate explanatory variables\n",
    "X = ncaa_stats[['pass_cmp', 'pass_att', 'pass_cmp_pct', 'pass_yds', 'pass_yds_per_att', 'adj_pass_yds_per_att', \n",
    "               'pass_td', 'pass_int', 'rush_att', 'rush_yds', 'rush_yds_per_att', 'rush_td']]\n",
    "\n",
    "# Add constant\n",
    "X = sm.add_constant(X)\n",
    "\n",
    "# Run the model\n",
    "reg = sm.OLS(y, X).fit()\n",
    "\n",
    "# Show regression results\n",
    "reg.summary()"
   ]
  },
  {
   "cell_type": "code",
   "execution_count": 7,
   "metadata": {},
   "outputs": [
    {
     "data": {
      "text/html": [
       "<table class=\"simpletable\">\n",
       "<caption>OLS Regression Results</caption>\n",
       "<tr>\n",
       "  <th>Dep. Variable:</th>        <td>career_av</td>    <th>  R-squared:         </th> <td>   0.060</td>\n",
       "</tr>\n",
       "<tr>\n",
       "  <th>Model:</th>                   <td>OLS</td>       <th>  Adj. R-squared:    </th> <td>   0.044</td>\n",
       "</tr>\n",
       "<tr>\n",
       "  <th>Method:</th>             <td>Least Squares</td>  <th>  F-statistic:       </th> <td>   3.879</td>\n",
       "</tr>\n",
       "<tr>\n",
       "  <th>Date:</th>             <td>Sat, 29 Dec 2018</td> <th>  Prob (F-statistic):</th> <td>0.000190</td>\n",
       "</tr>\n",
       "<tr>\n",
       "  <th>Time:</th>                 <td>16:23:27</td>     <th>  Log-Likelihood:    </th> <td>  171.46</td>\n",
       "</tr>\n",
       "<tr>\n",
       "  <th>No. Observations:</th>      <td>   497</td>      <th>  AIC:               </th> <td>  -324.9</td>\n",
       "</tr>\n",
       "<tr>\n",
       "  <th>Df Residuals:</th>          <td>   488</td>      <th>  BIC:               </th> <td>  -287.0</td>\n",
       "</tr>\n",
       "<tr>\n",
       "  <th>Df Model:</th>              <td>     8</td>      <th>                     </th>     <td> </td>   \n",
       "</tr>\n",
       "<tr>\n",
       "  <th>Covariance Type:</th>      <td>nonrobust</td>    <th>                     </th>     <td> </td>   \n",
       "</tr>\n",
       "</table>\n",
       "<table class=\"simpletable\">\n",
       "<tr>\n",
       "          <td></td>            <th>coef</th>     <th>std err</th>      <th>t</th>      <th>P>|t|</th>  <th>[0.025</th>    <th>0.975]</th>  \n",
       "</tr>\n",
       "<tr>\n",
       "  <th>const</th>            <td>    0.0216</td> <td>    0.071</td> <td>    0.306</td> <td> 0.760</td> <td>   -0.117</td> <td>    0.161</td>\n",
       "</tr>\n",
       "<tr>\n",
       "  <th>pass_cmp</th>         <td>   -0.0968</td> <td>    0.353</td> <td>   -0.274</td> <td> 0.784</td> <td>   -0.790</td> <td>    0.596</td>\n",
       "</tr>\n",
       "<tr>\n",
       "  <th>pass_att</th>         <td>    0.0254</td> <td>    0.345</td> <td>    0.074</td> <td> 0.941</td> <td>   -0.653</td> <td>    0.703</td>\n",
       "</tr>\n",
       "<tr>\n",
       "  <th>pass_cmp_pct</th>     <td>    0.0347</td> <td>    0.109</td> <td>    0.319</td> <td> 0.750</td> <td>   -0.179</td> <td>    0.249</td>\n",
       "</tr>\n",
       "<tr>\n",
       "  <th>pass_yds</th>         <td>    0.3017</td> <td>    0.220</td> <td>    1.374</td> <td> 0.170</td> <td>   -0.130</td> <td>    0.733</td>\n",
       "</tr>\n",
       "<tr>\n",
       "  <th>pass_int</th>         <td>   -0.0280</td> <td>    0.081</td> <td>   -0.348</td> <td> 0.728</td> <td>   -0.186</td> <td>    0.130</td>\n",
       "</tr>\n",
       "<tr>\n",
       "  <th>rush_att</th>         <td>   -0.2318</td> <td>    0.098</td> <td>   -2.370</td> <td> 0.018</td> <td>   -0.424</td> <td>   -0.040</td>\n",
       "</tr>\n",
       "<tr>\n",
       "  <th>rush_yds_per_att</th> <td>    0.0697</td> <td>    0.076</td> <td>    0.921</td> <td> 0.357</td> <td>   -0.079</td> <td>    0.218</td>\n",
       "</tr>\n",
       "<tr>\n",
       "  <th>rush_td</th>          <td>    0.2091</td> <td>    0.111</td> <td>    1.886</td> <td> 0.060</td> <td>   -0.009</td> <td>    0.427</td>\n",
       "</tr>\n",
       "</table>\n",
       "<table class=\"simpletable\">\n",
       "<tr>\n",
       "  <th>Omnibus:</th>       <td>225.106</td> <th>  Durbin-Watson:     </th> <td>   1.879</td> \n",
       "</tr>\n",
       "<tr>\n",
       "  <th>Prob(Omnibus):</th> <td> 0.000</td>  <th>  Jarque-Bera (JB):  </th> <td> 826.701</td> \n",
       "</tr>\n",
       "<tr>\n",
       "  <th>Skew:</th>          <td> 2.145</td>  <th>  Prob(JB):          </th> <td>3.05e-180</td>\n",
       "</tr>\n",
       "<tr>\n",
       "  <th>Kurtosis:</th>      <td> 7.638</td>  <th>  Cond. No.          </th> <td>    89.5</td> \n",
       "</tr>\n",
       "</table>"
      ],
      "text/plain": [
       "<class 'statsmodels.iolib.summary.Summary'>\n",
       "\"\"\"\n",
       "                            OLS Regression Results                            \n",
       "==============================================================================\n",
       "Dep. Variable:              career_av   R-squared:                       0.060\n",
       "Model:                            OLS   Adj. R-squared:                  0.044\n",
       "Method:                 Least Squares   F-statistic:                     3.879\n",
       "Date:                Sat, 29 Dec 2018   Prob (F-statistic):           0.000190\n",
       "Time:                        16:23:27   Log-Likelihood:                 171.46\n",
       "No. Observations:                 497   AIC:                            -324.9\n",
       "Df Residuals:                     488   BIC:                            -287.0\n",
       "Df Model:                           8                                         \n",
       "Covariance Type:            nonrobust                                         \n",
       "====================================================================================\n",
       "                       coef    std err          t      P>|t|      [0.025      0.975]\n",
       "------------------------------------------------------------------------------------\n",
       "const                0.0216      0.071      0.306      0.760      -0.117       0.161\n",
       "pass_cmp            -0.0968      0.353     -0.274      0.784      -0.790       0.596\n",
       "pass_att             0.0254      0.345      0.074      0.941      -0.653       0.703\n",
       "pass_cmp_pct         0.0347      0.109      0.319      0.750      -0.179       0.249\n",
       "pass_yds             0.3017      0.220      1.374      0.170      -0.130       0.733\n",
       "pass_int            -0.0280      0.081     -0.348      0.728      -0.186       0.130\n",
       "rush_att            -0.2318      0.098     -2.370      0.018      -0.424      -0.040\n",
       "rush_yds_per_att     0.0697      0.076      0.921      0.357      -0.079       0.218\n",
       "rush_td              0.2091      0.111      1.886      0.060      -0.009       0.427\n",
       "==============================================================================\n",
       "Omnibus:                      225.106   Durbin-Watson:                   1.879\n",
       "Prob(Omnibus):                  0.000   Jarque-Bera (JB):              826.701\n",
       "Skew:                           2.145   Prob(JB):                    3.05e-180\n",
       "Kurtosis:                       7.638   Cond. No.                         89.5\n",
       "==============================================================================\n",
       "\n",
       "Warnings:\n",
       "[1] Standard Errors assume that the covariance matrix of the errors is correctly specified.\n",
       "\"\"\""
      ]
     },
     "execution_count": 7,
     "metadata": {},
     "output_type": "execute_result"
    }
   ],
   "source": [
    "# Run model again without some of the variables with higher p-values\n",
    "X = ncaa_stats[['pass_cmp', 'pass_att', 'pass_cmp_pct', 'pass_yds', \n",
    "                'pass_int', 'rush_att', 'rush_yds_per_att', 'rush_td']]\n",
    "X = sm.add_constant(X)\n",
    "reg1 = sm.OLS(y, X).fit()\n",
    "reg1.summary()"
   ]
  },
  {
   "cell_type": "code",
   "execution_count": 8,
   "metadata": {},
   "outputs": [
    {
     "data": {
      "text/html": [
       "<table class=\"simpletable\">\n",
       "<caption>OLS Regression Results</caption>\n",
       "<tr>\n",
       "  <th>Dep. Variable:</th>        <td>career_av</td>    <th>  R-squared:         </th> <td>   0.059</td>\n",
       "</tr>\n",
       "<tr>\n",
       "  <th>Model:</th>                   <td>OLS</td>       <th>  Adj. R-squared:    </th> <td>   0.051</td>\n",
       "</tr>\n",
       "<tr>\n",
       "  <th>Method:</th>             <td>Least Squares</td>  <th>  F-statistic:       </th> <td>   7.707</td>\n",
       "</tr>\n",
       "<tr>\n",
       "  <th>Date:</th>             <td>Sat, 29 Dec 2018</td> <th>  Prob (F-statistic):</th> <td>4.99e-06</td>\n",
       "</tr>\n",
       "<tr>\n",
       "  <th>Time:</th>                 <td>16:23:31</td>     <th>  Log-Likelihood:    </th> <td>  171.25</td>\n",
       "</tr>\n",
       "<tr>\n",
       "  <th>No. Observations:</th>      <td>   497</td>      <th>  AIC:               </th> <td>  -332.5</td>\n",
       "</tr>\n",
       "<tr>\n",
       "  <th>Df Residuals:</th>          <td>   492</td>      <th>  BIC:               </th> <td>  -311.4</td>\n",
       "</tr>\n",
       "<tr>\n",
       "  <th>Df Model:</th>              <td>     4</td>      <th>                     </th>     <td> </td>   \n",
       "</tr>\n",
       "<tr>\n",
       "  <th>Covariance Type:</th>      <td>nonrobust</td>    <th>                     </th>     <td> </td>   \n",
       "</tr>\n",
       "</table>\n",
       "<table class=\"simpletable\">\n",
       "<tr>\n",
       "          <td></td>            <th>coef</th>     <th>std err</th>      <th>t</th>      <th>P>|t|</th>  <th>[0.025</th>    <th>0.975]</th>  \n",
       "</tr>\n",
       "<tr>\n",
       "  <th>const</th>            <td>    0.0321</td> <td>    0.038</td> <td>    0.856</td> <td> 0.392</td> <td>   -0.042</td> <td>    0.106</td>\n",
       "</tr>\n",
       "<tr>\n",
       "  <th>pass_yds</th>         <td>    0.2263</td> <td>    0.046</td> <td>    4.948</td> <td> 0.000</td> <td>    0.136</td> <td>    0.316</td>\n",
       "</tr>\n",
       "<tr>\n",
       "  <th>rush_att</th>         <td>   -0.2476</td> <td>    0.092</td> <td>   -2.699</td> <td> 0.007</td> <td>   -0.428</td> <td>   -0.067</td>\n",
       "</tr>\n",
       "<tr>\n",
       "  <th>rush_yds_per_att</th> <td>    0.0807</td> <td>    0.072</td> <td>    1.125</td> <td> 0.261</td> <td>   -0.060</td> <td>    0.222</td>\n",
       "</tr>\n",
       "<tr>\n",
       "  <th>rush_td</th>          <td>    0.2200</td> <td>    0.109</td> <td>    2.022</td> <td> 0.044</td> <td>    0.006</td> <td>    0.434</td>\n",
       "</tr>\n",
       "</table>\n",
       "<table class=\"simpletable\">\n",
       "<tr>\n",
       "  <th>Omnibus:</th>       <td>224.346</td> <th>  Durbin-Watson:     </th> <td>   1.880</td> \n",
       "</tr>\n",
       "<tr>\n",
       "  <th>Prob(Omnibus):</th> <td> 0.000</td>  <th>  Jarque-Bera (JB):  </th> <td> 818.403</td> \n",
       "</tr>\n",
       "<tr>\n",
       "  <th>Skew:</th>          <td> 2.141</td>  <th>  Prob(JB):          </th> <td>1.93e-178</td>\n",
       "</tr>\n",
       "<tr>\n",
       "  <th>Kurtosis:</th>      <td> 7.604</td>  <th>  Cond. No.          </th> <td>    20.7</td> \n",
       "</tr>\n",
       "</table>"
      ],
      "text/plain": [
       "<class 'statsmodels.iolib.summary.Summary'>\n",
       "\"\"\"\n",
       "                            OLS Regression Results                            \n",
       "==============================================================================\n",
       "Dep. Variable:              career_av   R-squared:                       0.059\n",
       "Model:                            OLS   Adj. R-squared:                  0.051\n",
       "Method:                 Least Squares   F-statistic:                     7.707\n",
       "Date:                Sat, 29 Dec 2018   Prob (F-statistic):           4.99e-06\n",
       "Time:                        16:23:31   Log-Likelihood:                 171.25\n",
       "No. Observations:                 497   AIC:                            -332.5\n",
       "Df Residuals:                     492   BIC:                            -311.4\n",
       "Df Model:                           4                                         \n",
       "Covariance Type:            nonrobust                                         \n",
       "====================================================================================\n",
       "                       coef    std err          t      P>|t|      [0.025      0.975]\n",
       "------------------------------------------------------------------------------------\n",
       "const                0.0321      0.038      0.856      0.392      -0.042       0.106\n",
       "pass_yds             0.2263      0.046      4.948      0.000       0.136       0.316\n",
       "rush_att            -0.2476      0.092     -2.699      0.007      -0.428      -0.067\n",
       "rush_yds_per_att     0.0807      0.072      1.125      0.261      -0.060       0.222\n",
       "rush_td              0.2200      0.109      2.022      0.044       0.006       0.434\n",
       "==============================================================================\n",
       "Omnibus:                      224.346   Durbin-Watson:                   1.880\n",
       "Prob(Omnibus):                  0.000   Jarque-Bera (JB):              818.403\n",
       "Skew:                           2.141   Prob(JB):                    1.93e-178\n",
       "Kurtosis:                       7.604   Cond. No.                         20.7\n",
       "==============================================================================\n",
       "\n",
       "Warnings:\n",
       "[1] Standard Errors assume that the covariance matrix of the errors is correctly specified.\n",
       "\"\"\""
      ]
     },
     "execution_count": 8,
     "metadata": {},
     "output_type": "execute_result"
    }
   ],
   "source": [
    "# Repeat\n",
    "X = ncaa_stats[['pass_yds', 'rush_att', 'rush_yds_per_att', 'rush_td']]\n",
    "X = sm.add_constant(X)\n",
    "reg2 = sm.OLS(y, X).fit()\n",
    "reg2.summary()"
   ]
  },
  {
   "cell_type": "code",
   "execution_count": 9,
   "metadata": {},
   "outputs": [
    {
     "data": {
      "text/html": [
       "<table class=\"simpletable\">\n",
       "<caption>OLS Regression Results</caption>\n",
       "<tr>\n",
       "  <th>Dep. Variable:</th>        <td>career_av</td>    <th>  R-squared:         </th> <td>   0.057</td>\n",
       "</tr>\n",
       "<tr>\n",
       "  <th>Model:</th>                   <td>OLS</td>       <th>  Adj. R-squared:    </th> <td>   0.051</td>\n",
       "</tr>\n",
       "<tr>\n",
       "  <th>Method:</th>             <td>Least Squares</td>  <th>  F-statistic:       </th> <td>   9.849</td>\n",
       "</tr>\n",
       "<tr>\n",
       "  <th>Date:</th>             <td>Sat, 29 Dec 2018</td> <th>  Prob (F-statistic):</th> <td>2.56e-06</td>\n",
       "</tr>\n",
       "<tr>\n",
       "  <th>Time:</th>                 <td>16:23:34</td>     <th>  Log-Likelihood:    </th> <td>  170.61</td>\n",
       "</tr>\n",
       "<tr>\n",
       "  <th>No. Observations:</th>      <td>   497</td>      <th>  AIC:               </th> <td>  -333.2</td>\n",
       "</tr>\n",
       "<tr>\n",
       "  <th>Df Residuals:</th>          <td>   493</td>      <th>  BIC:               </th> <td>  -316.4</td>\n",
       "</tr>\n",
       "<tr>\n",
       "  <th>Df Model:</th>              <td>     3</td>      <th>                     </th>     <td> </td>   \n",
       "</tr>\n",
       "<tr>\n",
       "  <th>Covariance Type:</th>      <td>nonrobust</td>    <th>                     </th>     <td> </td>   \n",
       "</tr>\n",
       "</table>\n",
       "<table class=\"simpletable\">\n",
       "<tr>\n",
       "      <td></td>        <th>coef</th>     <th>std err</th>      <th>t</th>      <th>P>|t|</th>  <th>[0.025</th>    <th>0.975]</th>  \n",
       "</tr>\n",
       "<tr>\n",
       "  <th>const</th>    <td>    0.0701</td> <td>    0.016</td> <td>    4.286</td> <td> 0.000</td> <td>    0.038</td> <td>    0.102</td>\n",
       "</tr>\n",
       "<tr>\n",
       "  <th>pass_yds</th> <td>    0.2027</td> <td>    0.041</td> <td>    4.985</td> <td> 0.000</td> <td>    0.123</td> <td>    0.283</td>\n",
       "</tr>\n",
       "<tr>\n",
       "  <th>rush_att</th> <td>   -0.2297</td> <td>    0.090</td> <td>   -2.541</td> <td> 0.011</td> <td>   -0.407</td> <td>   -0.052</td>\n",
       "</tr>\n",
       "<tr>\n",
       "  <th>rush_td</th>  <td>    0.2624</td> <td>    0.102</td> <td>    2.570</td> <td> 0.010</td> <td>    0.062</td> <td>    0.463</td>\n",
       "</tr>\n",
       "</table>\n",
       "<table class=\"simpletable\">\n",
       "<tr>\n",
       "  <th>Omnibus:</th>       <td>223.974</td> <th>  Durbin-Watson:     </th> <td>   1.882</td> \n",
       "</tr>\n",
       "<tr>\n",
       "  <th>Prob(Omnibus):</th> <td> 0.000</td>  <th>  Jarque-Bera (JB):  </th> <td> 813.453</td> \n",
       "</tr>\n",
       "<tr>\n",
       "  <th>Skew:</th>          <td> 2.139</td>  <th>  Prob(JB):          </th> <td>2.30e-177</td>\n",
       "</tr>\n",
       "<tr>\n",
       "  <th>Kurtosis:</th>      <td> 7.580</td>  <th>  Cond. No.          </th> <td>    18.6</td> \n",
       "</tr>\n",
       "</table>"
      ],
      "text/plain": [
       "<class 'statsmodels.iolib.summary.Summary'>\n",
       "\"\"\"\n",
       "                            OLS Regression Results                            \n",
       "==============================================================================\n",
       "Dep. Variable:              career_av   R-squared:                       0.057\n",
       "Model:                            OLS   Adj. R-squared:                  0.051\n",
       "Method:                 Least Squares   F-statistic:                     9.849\n",
       "Date:                Sat, 29 Dec 2018   Prob (F-statistic):           2.56e-06\n",
       "Time:                        16:23:34   Log-Likelihood:                 170.61\n",
       "No. Observations:                 497   AIC:                            -333.2\n",
       "Df Residuals:                     493   BIC:                            -316.4\n",
       "Df Model:                           3                                         \n",
       "Covariance Type:            nonrobust                                         \n",
       "==============================================================================\n",
       "                 coef    std err          t      P>|t|      [0.025      0.975]\n",
       "------------------------------------------------------------------------------\n",
       "const          0.0701      0.016      4.286      0.000       0.038       0.102\n",
       "pass_yds       0.2027      0.041      4.985      0.000       0.123       0.283\n",
       "rush_att      -0.2297      0.090     -2.541      0.011      -0.407      -0.052\n",
       "rush_td        0.2624      0.102      2.570      0.010       0.062       0.463\n",
       "==============================================================================\n",
       "Omnibus:                      223.974   Durbin-Watson:                   1.882\n",
       "Prob(Omnibus):                  0.000   Jarque-Bera (JB):              813.453\n",
       "Skew:                           2.139   Prob(JB):                    2.30e-177\n",
       "Kurtosis:                       7.580   Cond. No.                         18.6\n",
       "==============================================================================\n",
       "\n",
       "Warnings:\n",
       "[1] Standard Errors assume that the covariance matrix of the errors is correctly specified.\n",
       "\"\"\""
      ]
     },
     "execution_count": 9,
     "metadata": {},
     "output_type": "execute_result"
    }
   ],
   "source": [
    "# Final adjustment\n",
    "X = ncaa_stats[['pass_yds', 'rush_att', 'rush_td']]\n",
    "X = sm.add_constant(X)\n",
    "reg3 = sm.OLS(y, X).fit()\n",
    "reg3.summary()"
   ]
  },
  {
   "cell_type": "markdown",
   "metadata": {},
   "source": [
    "Unfortnately, there is not a very noticeable difference at all. The R-squared and adjusted R-squared values are essentially identical to the previous multiple linear regression models we ran last time. Next, we will try using a logisitic regression model to see if that will give us more robust insights."
   ]
  },
  {
   "cell_type": "markdown",
   "metadata": {},
   "source": [
    " ### Logistic Regression"
   ]
  },
  {
   "cell_type": "markdown",
   "metadata": {},
   "source": [
    "To begin, we need to establish a response column (In our example, we will call it 'label'). This variable will be marked either 0 or 1. If a player's NFL career approximate value is greater than 0.15, they will be considered a 'good' quarterback and will be marked as 1. If their career AV is below 0.15, they will be considered 'bad' player and will be marked as 0."
   ]
  },
  {
   "cell_type": "code",
   "execution_count": 15,
   "metadata": {},
   "outputs": [
    {
     "data": {
      "text/html": [
       "<div>\n",
       "<style scoped>\n",
       "    .dataframe tbody tr th:only-of-type {\n",
       "        vertical-align: middle;\n",
       "    }\n",
       "\n",
       "    .dataframe tbody tr th {\n",
       "        vertical-align: top;\n",
       "    }\n",
       "\n",
       "    .dataframe thead th {\n",
       "        text-align: right;\n",
       "    }\n",
       "</style>\n",
       "<table border=\"1\" class=\"dataframe\">\n",
       "  <thead>\n",
       "    <tr style=\"text-align: right;\">\n",
       "      <th></th>\n",
       "      <th>name</th>\n",
       "      <th>career_av</th>\n",
       "      <th>school_name_x</th>\n",
       "      <th>pass_cmp</th>\n",
       "      <th>pass_att</th>\n",
       "      <th>pass_cmp_pct</th>\n",
       "      <th>pass_yds</th>\n",
       "      <th>pass_yds_per_att</th>\n",
       "      <th>adj_pass_yds_per_att</th>\n",
       "      <th>pass_td</th>\n",
       "      <th>pass_int</th>\n",
       "      <th>rush_att</th>\n",
       "      <th>rush_yds</th>\n",
       "      <th>rush_yds_per_att</th>\n",
       "      <th>rush_td</th>\n",
       "      <th>label</th>\n",
       "    </tr>\n",
       "  </thead>\n",
       "  <tbody>\n",
       "    <tr>\n",
       "      <th>0</th>\n",
       "      <td>mike phipps</td>\n",
       "      <td>0.243094</td>\n",
       "      <td>Purdue</td>\n",
       "      <td>0.304630</td>\n",
       "      <td>0.388948</td>\n",
       "      <td>0.512</td>\n",
       "      <td>0.360788</td>\n",
       "      <td>0.217647</td>\n",
       "      <td>0.649367</td>\n",
       "      <td>0.282443</td>\n",
       "      <td>0.453333</td>\n",
       "      <td>0.307198</td>\n",
       "      <td>0.254451</td>\n",
       "      <td>0.565476</td>\n",
       "      <td>0.152542</td>\n",
       "      <td>True</td>\n",
       "    </tr>\n",
       "    <tr>\n",
       "      <th>1</th>\n",
       "      <td>dennis shaw</td>\n",
       "      <td>0.127072</td>\n",
       "      <td>San Diego State</td>\n",
       "      <td>0.161657</td>\n",
       "      <td>0.177471</td>\n",
       "      <td>0.594</td>\n",
       "      <td>0.211895</td>\n",
       "      <td>0.279412</td>\n",
       "      <td>0.674684</td>\n",
       "      <td>0.297710</td>\n",
       "      <td>0.346667</td>\n",
       "      <td>0.066838</td>\n",
       "      <td>0.171365</td>\n",
       "      <td>0.464286</td>\n",
       "      <td>0.101695</td>\n",
       "      <td>False</td>\n",
       "    </tr>\n",
       "    <tr>\n",
       "      <th>2</th>\n",
       "      <td>bill cappleman</td>\n",
       "      <td>0.022099</td>\n",
       "      <td>Florida State</td>\n",
       "      <td>0.283509</td>\n",
       "      <td>0.337407</td>\n",
       "      <td>0.549</td>\n",
       "      <td>0.326259</td>\n",
       "      <td>0.226471</td>\n",
       "      <td>0.656962</td>\n",
       "      <td>0.297710</td>\n",
       "      <td>0.386667</td>\n",
       "      <td>0.179949</td>\n",
       "      <td>0.094028</td>\n",
       "      <td>0.279762</td>\n",
       "      <td>0.016949</td>\n",
       "      <td>False</td>\n",
       "    </tr>\n",
       "    <tr>\n",
       "      <th>3</th>\n",
       "      <td>steve ramsey</td>\n",
       "      <td>0.149171</td>\n",
       "      <td>North Texas</td>\n",
       "      <td>0.398863</td>\n",
       "      <td>0.538789</td>\n",
       "      <td>0.484</td>\n",
       "      <td>0.470760</td>\n",
       "      <td>0.205882</td>\n",
       "      <td>0.637975</td>\n",
       "      <td>0.526718</td>\n",
       "      <td>0.893333</td>\n",
       "      <td>0.149100</td>\n",
       "      <td>0.074926</td>\n",
       "      <td>0.196429</td>\n",
       "      <td>0.033898</td>\n",
       "      <td>False</td>\n",
       "    </tr>\n",
       "    <tr>\n",
       "      <th>4</th>\n",
       "      <td>rusty clark</td>\n",
       "      <td>0.022099</td>\n",
       "      <td>Houston</td>\n",
       "      <td>0.032494</td>\n",
       "      <td>0.042508</td>\n",
       "      <td>0.494</td>\n",
       "      <td>0.051094</td>\n",
       "      <td>0.279412</td>\n",
       "      <td>0.700000</td>\n",
       "      <td>0.061069</td>\n",
       "      <td>0.026667</td>\n",
       "      <td>0.011568</td>\n",
       "      <td>0.169696</td>\n",
       "      <td>0.470238</td>\n",
       "      <td>0.016949</td>\n",
       "      <td>False</td>\n",
       "    </tr>\n",
       "  </tbody>\n",
       "</table>\n",
       "</div>"
      ],
      "text/plain": [
       "             name  career_av    school_name_x  pass_cmp  pass_att  \\\n",
       "0     mike phipps   0.243094           Purdue  0.304630  0.388948   \n",
       "1     dennis shaw   0.127072  San Diego State  0.161657  0.177471   \n",
       "2  bill cappleman   0.022099    Florida State  0.283509  0.337407   \n",
       "3    steve ramsey   0.149171      North Texas  0.398863  0.538789   \n",
       "4     rusty clark   0.022099          Houston  0.032494  0.042508   \n",
       "\n",
       "   pass_cmp_pct  pass_yds  pass_yds_per_att  adj_pass_yds_per_att   pass_td  \\\n",
       "0         0.512  0.360788          0.217647              0.649367  0.282443   \n",
       "1         0.594  0.211895          0.279412              0.674684  0.297710   \n",
       "2         0.549  0.326259          0.226471              0.656962  0.297710   \n",
       "3         0.484  0.470760          0.205882              0.637975  0.526718   \n",
       "4         0.494  0.051094          0.279412              0.700000  0.061069   \n",
       "\n",
       "   pass_int  rush_att  rush_yds  rush_yds_per_att   rush_td  label  \n",
       "0  0.453333  0.307198  0.254451          0.565476  0.152542   True  \n",
       "1  0.346667  0.066838  0.171365          0.464286  0.101695  False  \n",
       "2  0.386667  0.179949  0.094028          0.279762  0.016949  False  \n",
       "3  0.893333  0.149100  0.074926          0.196429  0.033898  False  \n",
       "4  0.026667  0.011568  0.169696          0.470238  0.016949  False  "
      ]
     },
     "execution_count": 15,
     "metadata": {},
     "output_type": "execute_result"
    }
   ],
   "source": [
    "#Filter and establish 'label' column\n",
    "ncaa_stats['label'] = ncaa_stats.career_av >= 0.15\n",
    "ncaa_stats.head()"
   ]
  },
  {
   "cell_type": "code",
   "execution_count": 14,
   "metadata": {},
   "outputs": [
    {
     "data": {
      "text/html": [
       "<div>\n",
       "<style scoped>\n",
       "    .dataframe tbody tr th:only-of-type {\n",
       "        vertical-align: middle;\n",
       "    }\n",
       "\n",
       "    .dataframe tbody tr th {\n",
       "        vertical-align: top;\n",
       "    }\n",
       "\n",
       "    .dataframe thead th {\n",
       "        text-align: right;\n",
       "    }\n",
       "</style>\n",
       "<table border=\"1\" class=\"dataframe\">\n",
       "  <thead>\n",
       "    <tr style=\"text-align: right;\">\n",
       "      <th></th>\n",
       "      <th>name</th>\n",
       "      <th>career_av</th>\n",
       "      <th>school_name_x</th>\n",
       "      <th>pass_cmp</th>\n",
       "      <th>pass_att</th>\n",
       "      <th>pass_cmp_pct</th>\n",
       "      <th>pass_yds</th>\n",
       "      <th>pass_yds_per_att</th>\n",
       "      <th>adj_pass_yds_per_att</th>\n",
       "      <th>pass_td</th>\n",
       "      <th>pass_int</th>\n",
       "      <th>rush_att</th>\n",
       "      <th>rush_yds</th>\n",
       "      <th>rush_yds_per_att</th>\n",
       "      <th>rush_td</th>\n",
       "      <th>label</th>\n",
       "    </tr>\n",
       "  </thead>\n",
       "  <tbody>\n",
       "    <tr>\n",
       "      <th>0</th>\n",
       "      <td>mike phipps</td>\n",
       "      <td>0.243094</td>\n",
       "      <td>Purdue</td>\n",
       "      <td>0.304630</td>\n",
       "      <td>0.388948</td>\n",
       "      <td>0.512</td>\n",
       "      <td>0.360788</td>\n",
       "      <td>0.217647</td>\n",
       "      <td>0.649367</td>\n",
       "      <td>0.282443</td>\n",
       "      <td>0.453333</td>\n",
       "      <td>0.307198</td>\n",
       "      <td>0.254451</td>\n",
       "      <td>0.565476</td>\n",
       "      <td>0.152542</td>\n",
       "      <td>1</td>\n",
       "    </tr>\n",
       "    <tr>\n",
       "      <th>1</th>\n",
       "      <td>dennis shaw</td>\n",
       "      <td>0.127072</td>\n",
       "      <td>San Diego State</td>\n",
       "      <td>0.161657</td>\n",
       "      <td>0.177471</td>\n",
       "      <td>0.594</td>\n",
       "      <td>0.211895</td>\n",
       "      <td>0.279412</td>\n",
       "      <td>0.674684</td>\n",
       "      <td>0.297710</td>\n",
       "      <td>0.346667</td>\n",
       "      <td>0.066838</td>\n",
       "      <td>0.171365</td>\n",
       "      <td>0.464286</td>\n",
       "      <td>0.101695</td>\n",
       "      <td>0</td>\n",
       "    </tr>\n",
       "    <tr>\n",
       "      <th>2</th>\n",
       "      <td>bill cappleman</td>\n",
       "      <td>0.022099</td>\n",
       "      <td>Florida State</td>\n",
       "      <td>0.283509</td>\n",
       "      <td>0.337407</td>\n",
       "      <td>0.549</td>\n",
       "      <td>0.326259</td>\n",
       "      <td>0.226471</td>\n",
       "      <td>0.656962</td>\n",
       "      <td>0.297710</td>\n",
       "      <td>0.386667</td>\n",
       "      <td>0.179949</td>\n",
       "      <td>0.094028</td>\n",
       "      <td>0.279762</td>\n",
       "      <td>0.016949</td>\n",
       "      <td>0</td>\n",
       "    </tr>\n",
       "    <tr>\n",
       "      <th>3</th>\n",
       "      <td>steve ramsey</td>\n",
       "      <td>0.149171</td>\n",
       "      <td>North Texas</td>\n",
       "      <td>0.398863</td>\n",
       "      <td>0.538789</td>\n",
       "      <td>0.484</td>\n",
       "      <td>0.470760</td>\n",
       "      <td>0.205882</td>\n",
       "      <td>0.637975</td>\n",
       "      <td>0.526718</td>\n",
       "      <td>0.893333</td>\n",
       "      <td>0.149100</td>\n",
       "      <td>0.074926</td>\n",
       "      <td>0.196429</td>\n",
       "      <td>0.033898</td>\n",
       "      <td>0</td>\n",
       "    </tr>\n",
       "    <tr>\n",
       "      <th>4</th>\n",
       "      <td>rusty clark</td>\n",
       "      <td>0.022099</td>\n",
       "      <td>Houston</td>\n",
       "      <td>0.032494</td>\n",
       "      <td>0.042508</td>\n",
       "      <td>0.494</td>\n",
       "      <td>0.051094</td>\n",
       "      <td>0.279412</td>\n",
       "      <td>0.700000</td>\n",
       "      <td>0.061069</td>\n",
       "      <td>0.026667</td>\n",
       "      <td>0.011568</td>\n",
       "      <td>0.169696</td>\n",
       "      <td>0.470238</td>\n",
       "      <td>0.016949</td>\n",
       "      <td>0</td>\n",
       "    </tr>\n",
       "  </tbody>\n",
       "</table>\n",
       "</div>"
      ],
      "text/plain": [
       "             name  career_av    school_name_x  pass_cmp  pass_att  \\\n",
       "0     mike phipps   0.243094           Purdue  0.304630  0.388948   \n",
       "1     dennis shaw   0.127072  San Diego State  0.161657  0.177471   \n",
       "2  bill cappleman   0.022099    Florida State  0.283509  0.337407   \n",
       "3    steve ramsey   0.149171      North Texas  0.398863  0.538789   \n",
       "4     rusty clark   0.022099          Houston  0.032494  0.042508   \n",
       "\n",
       "   pass_cmp_pct  pass_yds  pass_yds_per_att  adj_pass_yds_per_att   pass_td  \\\n",
       "0         0.512  0.360788          0.217647              0.649367  0.282443   \n",
       "1         0.594  0.211895          0.279412              0.674684  0.297710   \n",
       "2         0.549  0.326259          0.226471              0.656962  0.297710   \n",
       "3         0.484  0.470760          0.205882              0.637975  0.526718   \n",
       "4         0.494  0.051094          0.279412              0.700000  0.061069   \n",
       "\n",
       "   pass_int  rush_att  rush_yds  rush_yds_per_att   rush_td  label  \n",
       "0  0.453333  0.307198  0.254451          0.565476  0.152542      1  \n",
       "1  0.346667  0.066838  0.171365          0.464286  0.101695      0  \n",
       "2  0.386667  0.179949  0.094028          0.279762  0.016949      0  \n",
       "3  0.893333  0.149100  0.074926          0.196429  0.033898      0  \n",
       "4  0.026667  0.011568  0.169696          0.470238  0.016949      0  "
      ]
     },
     "execution_count": 14,
     "metadata": {},
     "output_type": "execute_result"
    }
   ],
   "source": [
    "#Convert label column to integers (From True or False to 0 or 1)\n",
    "ncaa_stats['label'] = ncaa_stats.label.astype(int)\n",
    "ncaa_stats.head()"
   ]
  },
  {
   "cell_type": "markdown",
   "metadata": {},
   "source": [
    "Now that we have successfully established our response column, we will create and run our logisitc regression model."
   ]
  },
  {
   "cell_type": "code",
   "execution_count": 12,
   "metadata": {},
   "outputs": [],
   "source": [
    "#Designate the feature columns\n",
    "feature_cols = ['pass_cmp', 'pass_att', 'pass_cmp_pct', 'pass_yds', 'pass_yds_per_att', 'adj_pass_yds_per_att', \n",
    "                'pass_td', 'pass_int', 'rush_att', 'rush_yds', 'rush_yds_per_att', 'rush_td']\n",
    "\n",
    "#Create X and y variables\n",
    "X = ncaa_stats[feature_cols]\n",
    "y = ncaa_stats.label"
   ]
  },
  {
   "cell_type": "code",
   "execution_count": 13,
   "metadata": {},
   "outputs": [
    {
     "name": "stderr",
     "output_type": "stream",
     "text": [
      "/anaconda3/lib/python3.6/site-packages/sklearn/cross_validation.py:41: DeprecationWarning: This module was deprecated in version 0.18 in favor of the model_selection module into which all the refactored classes and functions are moved. Also note that the interface of the new CV iterators are different from that of this module. This module will be removed in 0.20.\n",
      "  \"This module will be removed in 0.20.\", DeprecationWarning)\n"
     ]
    }
   ],
   "source": [
    "#Import appropriate packages from sklearn\n",
    "from sklearn.cross_validation import train_test_split\n",
    "from sklearn.linear_model import LogisticRegression\n",
    "\n",
    "#Split the training and testing data\n",
    "X_train,X_test,y_train,y_test = train_test_split(X, y, test_size=0.25, random_state=0)"
   ]
  },
  {
   "cell_type": "code",
   "execution_count": 17,
   "metadata": {},
   "outputs": [],
   "source": [
    "#Initiate the model\n",
    "logreg = LogisticRegression()\n",
    "\n",
    "#Fit the model with training data\n",
    "logreg.fit(X_train,y_train)\n",
    "\n",
    "#Predict using the testing data\n",
    "y_pred=logreg.predict(X_test)"
   ]
  },
  {
   "cell_type": "code",
   "execution_count": 18,
   "metadata": {},
   "outputs": [
    {
     "data": {
      "text/plain": [
       "array([[101,   0],\n",
       "       [ 24,   0]])"
      ]
     },
     "execution_count": 18,
     "metadata": {},
     "output_type": "execute_result"
    }
   ],
   "source": [
    "#Import metrics package to see confusion matrix\n",
    "from sklearn import metrics\n",
    "\n",
    "#Create confusion matrix and show results\n",
    "cnf_matrix = metrics.confusion_matrix(y_test, y_pred)\n",
    "cnf_matrix"
   ]
  },
  {
   "cell_type": "markdown",
   "metadata": {},
   "source": [
    "What the confusion matrix above is telling us is that 101 and 0 (Diagonal values) are actual predictions, while 24 and 0 are incorrect predictions. What we will do from here is create a heatmap to properly visualize our confusion matrix"
   ]
  },
  {
   "cell_type": "code",
   "execution_count": 19,
   "metadata": {},
   "outputs": [],
   "source": [
    "#Import proper graphing packages\n",
    "import matplotlib.pyplot as plt\n",
    "import seaborn as sns\n",
    "%matplotlib inline"
   ]
  },
  {
   "cell_type": "code",
   "execution_count": 20,
   "metadata": {},
   "outputs": [
    {
     "data": {
      "image/png": "[encoded data removed]",
      "text/plain": [
       "<matplotlib.figure.Figure at 0x1c1aaa7710>"
      ]
     },
     "metadata": {},
     "output_type": "display_data"
    }
   ],
   "source": [
    "class_names=[0,1] # name  of classes\n",
    "fig, ax = plt.subplots()\n",
    "tick_marks = np.arange(len(class_names))\n",
    "plt.xticks(tick_marks, class_names)\n",
    "plt.yticks(tick_marks, class_names)\n",
    "\n",
    "# create heatmap\n",
    "sns.heatmap(pd.DataFrame(cnf_matrix), annot=True, cmap=\"YlGnBu\" ,fmt='g')\n",
    "ax.xaxis.set_label_position(\"top\")\n",
    "plt.tight_layout()\n",
    "plt.title('Confusion matrix', y=1.1)\n",
    "plt.ylabel('Actual label')\n",
    "plt.xlabel('Predicted label')\n",
    "plt.show()"
   ]
  },
  {
   "cell_type": "code",
   "execution_count": 21,
   "metadata": {
    "scrolled": true
   },
   "outputs": [
    {
     "name": "stdout",
     "output_type": "stream",
     "text": [
      "Accuracy: 0.808\n",
      "Precision: 0.0\n",
      "Recall: 0.0\n"
     ]
    },
    {
     "name": "stderr",
     "output_type": "stream",
     "text": [
      "/anaconda3/lib/python3.6/site-packages/sklearn/metrics/classification.py:1135: UndefinedMetricWarning: Precision is ill-defined and being set to 0.0 due to no predicted samples.\n",
      "  'precision', 'predicted', average, warn_for)\n"
     ]
    }
   ],
   "source": [
    "print(\"Accuracy:\",metrics.accuracy_score(y_test, y_pred))\n",
    "print(\"Precision:\",metrics.precision_score(y_test, y_pred))\n",
    "print(\"Recall:\",metrics.recall_score(y_test, y_pred))"
   ]
  },
  {
   "cell_type": "markdown",
   "metadata": {},
   "source": [
    "Our model received an Accuracy score of .808, which is pretty good. However, the Precision and Recalls scores are abysmal, which is telling us that our model (While accurate), is not very precise at all. Let's take a look at our ROC curve to see if we can understand what is going on."
   ]
  },
  {
   "cell_type": "code",
   "execution_count": 89,
   "metadata": {},
   "outputs": [
    {
     "data": {
      "image/png": "[encoded data removed]",
      "text/plain": [
       "<matplotlib.figure.Figure at 0x1c1900b9e8>"
      ]
     },
     "metadata": {},
     "output_type": "display_data"
    }
   ],
   "source": [
    "y_pred_proba = logreg.predict_proba(X_test)[::,1]\n",
    "fpr, tpr, _ = metrics.roc_curve(y_test,  y_pred_proba)\n",
    "auc = metrics.roc_auc_score(y_test, y_pred_proba)\n",
    "plt.plot(fpr,tpr,label=\"data 1, auc=\"+str(auc))\n",
    "plt.legend(loc=4)\n",
    "plt.show()"
   ]
  },
  {
   "cell_type": "markdown",
   "metadata": {},
   "source": [
    "Our AUC score is around 0.61. A score of 1 represents a perfect classifier, and a score of 0.5 represents a fairly worthless one. With a score slightly above 0.5, our is slightly better than worthless, but we still have another model we can try out in order to get some results that can help us whether it is possible to predict which quarterbacks will be good or bad based on their college football statistics."
   ]
  },
  {
   "cell_type": "markdown",
   "metadata": {},
   "source": [
    "### Random Forest"
   ]
  },
  {
   "cell_type": "code",
   "execution_count": 122,
   "metadata": {},
   "outputs": [],
   "source": [
    "#Identify target variable and convert that column to an array\n",
    "label = ncaa_stats_rf.label\n",
    "\n",
    "#Remove target from features as well as school names and player names\n",
    "features = ncaa_stats_rf.drop(['career_av', 'school_name_x', 'name', 'label'], axis=1)"
   ]
  },
  {
   "cell_type": "code",
   "execution_count": 123,
   "metadata": {},
   "outputs": [],
   "source": [
    "# Split the data into training and testing sets\n",
    "X_train, X_test, y_train, y_test = train_test_split(features, label, \n",
    "                                                    test_size = 0.25, random_state = 42)"
   ]
  },
  {
   "cell_type": "code",
   "execution_count": 124,
   "metadata": {
    "scrolled": true
   },
   "outputs": [
    {
     "name": "stdout",
     "output_type": "stream",
     "text": [
      "Training Features Shape: (347, 13)\n",
      "Training Labels Shape: (347,)\n",
      "Testing Features Shape: (150, 13)\n",
      "Testing Labels Shape: (150,)\n"
     ]
    }
   ],
   "source": [
    "#Check to make sure the shapes match up\n",
    "print('Training Features Shape:', train_features.shape)\n",
    "print('Training Labels Shape:', train_labels.shape)\n",
    "print('Testing Features Shape:', test_features.shape)\n",
    "print('Testing Labels Shape:', test_labels.shape)"
   ]
  },
  {
   "cell_type": "code",
   "execution_count": 125,
   "metadata": {},
   "outputs": [],
   "source": [
    "#Import Random Forest class\n",
    "from sklearn.ensemble import RandomForestClassifier\n",
    "\n",
    "#Create a Gaussian Classifier\n",
    "clf=RandomForestClassifier(n_estimators=100)\n",
    "\n",
    "#Train the model using the training sets\n",
    "clf.fit(X_train,y_train)\n",
    "\n",
    "y_pred=clf.predict(X_test)"
   ]
  },
  {
   "cell_type": "code",
   "execution_count": 126,
   "metadata": {},
   "outputs": [
    {
     "name": "stdout",
     "output_type": "stream",
     "text": [
      "Accuracy: 0.744\n"
     ]
    }
   ],
   "source": [
    "#Import scikit-learn metrics module for accuracy calculation\n",
    "from sklearn import metrics\n",
    "\n",
    "# Model Accuracy, how often is the classifier correct?\n",
    "print(\"Accuracy:\",metrics.accuracy_score(y_test, y_pred))"
   ]
  },
  {
   "cell_type": "markdown",
   "metadata": {},
   "source": [
    "Our initial Accuracy score comes out to 0.744, which is not that bad, but let's see if we can identify the most important features and take out some of the ones that don't matter as much. Doing that will hopefully help improve the model a bit more."
   ]
  },
  {
   "cell_type": "code",
   "execution_count": 127,
   "metadata": {},
   "outputs": [
    {
     "data": {
      "text/plain": [
       "RandomForestClassifier(bootstrap=True, class_weight=None, criterion='gini',\n",
       "            max_depth=None, max_features='auto', max_leaf_nodes=None,\n",
       "            min_impurity_decrease=0.0, min_impurity_split=None,\n",
       "            min_samples_leaf=1, min_samples_split=2,\n",
       "            min_weight_fraction_leaf=0.0, n_estimators=100, n_jobs=1,\n",
       "            oob_score=False, random_state=None, verbose=0,\n",
       "            warm_start=False)"
      ]
     },
     "execution_count": 127,
     "metadata": {},
     "output_type": "execute_result"
    }
   ],
   "source": [
    "#Create a Gaussian Classifier\n",
    "clf=RandomForestClassifier(n_estimators=100)\n",
    "\n",
    "#Train the model using the training sets y_pred=clf.predict(X_test)\n",
    "clf.fit(X_train,y_train)"
   ]
  },
  {
   "cell_type": "code",
   "execution_count": 128,
   "metadata": {},
   "outputs": [
    {
     "data": {
      "text/plain": [
       "rush_yds                0.099792\n",
       "rush_yds_per_att        0.094102\n",
       "rush_att                0.090313\n",
       "pass_yds                0.089648\n",
       "pass_att                0.084262\n",
       "pass_td                 0.081537\n",
       "pass_cmp_pct            0.080187\n",
       "pass_yds_per_att        0.078339\n",
       "rush_td                 0.076799\n",
       "pass_cmp                0.076035\n",
       "adj_pass_yds_per_att    0.075474\n",
       "pass_int                0.073513\n",
       "dtype: float64"
      ]
     },
     "execution_count": 128,
     "metadata": {},
     "output_type": "execute_result"
    }
   ],
   "source": [
    "feature_imp = pd.Series(clf.feature_importances_,index=features.columns).sort_values(ascending=False)\n",
    "feature_imp"
   ]
  },
  {
   "cell_type": "code",
   "execution_count": 130,
   "metadata": {},
   "outputs": [
    {
     "data": {
      "image/png": "[encoded data removed]",
      "text/plain": [
       "<matplotlib.figure.Figure at 0x1c19448f98>"
      ]
     },
     "metadata": {},
     "output_type": "display_data"
    }
   ],
   "source": [
    "# Creating a bar plot\n",
    "sns.barplot(x=feature_imp, y=feature_imp.index)\n",
    "\n",
    "# Add labels graph\n",
    "plt.xlabel('Feature Importance Score')\n",
    "plt.ylabel('Features')\n",
    "plt.title(\"Visualizing Important Features\")\n",
    "plt.show()"
   ]
  },
  {
   "cell_type": "markdown",
   "metadata": {},
   "source": [
    "We can see from the visualization above, that pass_cmp, adj_pass_yds_per_att and pass_int are the least important feature values here. We will take those out and run the model again."
   ]
  },
  {
   "cell_type": "code",
   "execution_count": 131,
   "metadata": {},
   "outputs": [],
   "source": [
    "# Remove 3 least important features\n",
    "X = ncaa_stats_rf[['rush_yds', 'rush_yds_per_att','rush_att', 'pass_yds', \n",
    "                   'pass_att', 'pass_td', 'pass_cmp_pct', 'pass_yds_per_att', 'rush_td']]\n",
    "y = ncaa_stats_rf.label                                      \n",
    "\n",
    "# Split dataset into training set and test set\n",
    "X_train, X_test, y_train, y_test = train_test_split(X, y, test_size=0.25, random_state=42)"
   ]
  },
  {
   "cell_type": "code",
   "execution_count": 132,
   "metadata": {},
   "outputs": [
    {
     "name": "stdout",
     "output_type": "stream",
     "text": [
      "Accuracy: 0.768\n"
     ]
    }
   ],
   "source": [
    "#Create a Gaussian Classifier\n",
    "clf=RandomForestClassifier(n_estimators=100)\n",
    "\n",
    "#Train the model using the training sets y_pred=clf.predict(X_test)\n",
    "clf.fit(X_train,y_train)\n",
    "\n",
    "# prediction on test set\n",
    "y_pred=clf.predict(X_test)\n",
    "\n",
    "# Model Accuracy, how often is the classifier correct?\n",
    "print(\"Accuracy:\",metrics.accuracy_score(y_test, y_pred))"
   ]
  },
  {
   "cell_type": "markdown",
   "metadata": {},
   "source": [
    "We are seeing a slight increase in our accuracy! The score went from 0.744 to 0.768. Let's repeat this process until our model is as robust as it can possibly be."
   ]
  },
  {
   "cell_type": "code",
   "execution_count": 133,
   "metadata": {},
   "outputs": [],
   "source": [
    "# Remove more features that are less important\n",
    "X = ncaa_stats_rf[['rush_yds', 'rush_yds_per_att','rush_att', 'pass_yds', 'pass_att', 'pass_td']]\n",
    "y = ncaa_stats_rf.label                                      \n",
    "\n",
    "# Split dataset into training set and test set\n",
    "X_train, X_test, y_train, y_test = train_test_split(X, y, test_size=0.25, random_state=42)"
   ]
  },
  {
   "cell_type": "code",
   "execution_count": 134,
   "metadata": {},
   "outputs": [
    {
     "name": "stdout",
     "output_type": "stream",
     "text": [
      "Accuracy: 0.776\n"
     ]
    }
   ],
   "source": [
    "#Create a Gaussian Classifier\n",
    "clf=RandomForestClassifier(n_estimators=100)\n",
    "\n",
    "#Train the model using the training sets y_pred=clf.predict(X_test)\n",
    "clf.fit(X_train,y_train)\n",
    "\n",
    "# prediction on test set\n",
    "y_pred=clf.predict(X_test)\n",
    "\n",
    "# Model Accuracy, how often is the classifier correct?\n",
    "print(\"Accuracy:\",metrics.accuracy_score(y_test, y_pred))"
   ]
  },
  {
   "cell_type": "code",
   "execution_count": 139,
   "metadata": {},
   "outputs": [],
   "source": [
    "# Remove two more\n",
    "X = ncaa_stats_rf[['rush_yds', 'rush_yds_per_att','rush_att', 'pass_yds']]\n",
    "y = ncaa_stats_rf.label                                      \n",
    "\n",
    "# Split dataset into training set and test set\n",
    "X_train, X_test, y_train, y_test = train_test_split(X, y, test_size=0.25, random_state=42)"
   ]
  },
  {
   "cell_type": "code",
   "execution_count": 140,
   "metadata": {},
   "outputs": [
    {
     "name": "stdout",
     "output_type": "stream",
     "text": [
      "Accuracy: 0.728\n"
     ]
    }
   ],
   "source": [
    "#Create a Gaussian Classifier\n",
    "clf=RandomForestClassifier(n_estimators=100)\n",
    "\n",
    "#Train the model using the training sets y_pred=clf.predict(X_test)\n",
    "clf.fit(X_train,y_train)\n",
    "\n",
    "# prediction on test set\n",
    "y_pred=clf.predict(X_test)\n",
    "\n",
    "# Model Accuracy, how often is the classifier correct?\n",
    "print(\"Accuracy:\",metrics.accuracy_score(y_test, y_pred))"
   ]
  },
  {
   "cell_type": "markdown",
   "metadata": {},
   "source": [
    "The accuracy has now gone back down, so we know that the model that featured only rush_yds, rush_yds_per_att, pass_yds, pass_att, and pass_td is the most robust. However, even though it is at 0.776, I can't help but to think that something strange may be happening. It seems like we should be able to get better results from the 3 different types of models that we used here. A few questions come to mind (As well as potential solutions) that I will be exploring in my final report."
   ]
  }
 ],
 "metadata": {
  "kernelspec": {
   "display_name": "Python 3",
   "language": "python",
   "name": "python3"
  },
  "language_info": {
   "codemirror_mode": {
    "name": "ipython",
    "version": 3
   },
   "file_extension": ".py",
   "mimetype": "text/x-python",
   "name": "python",
   "nbconvert_exporter": "python",
   "pygments_lexer": "ipython3",
   "version": "3.6.4"
  }
 },
 "nbformat": 4,
 "nbformat_minor": 2
}
